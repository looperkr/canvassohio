{
 "cells": [
  {
   "cell_type": "code",
   "execution_count": 15,
   "metadata": {},
   "outputs": [],
   "source": [
    "import numpy as np\n",
    "import pandas as pd\n",
    "import matplotlib.pyplot as plt\n",
    "import pickle\n",
    "import feather\n",
    "from sklearn.model_selection import train_test_split"
   ]
  },
  {
   "cell_type": "code",
   "execution_count": 8,
   "metadata": {},
   "outputs": [],
   "source": [
    "data_path = '/Volumes/FileStorage/Insight_data/'\n",
    "ohio_path = '/Volumes/FileStorage/Insight_data/Ohio_data/data_feather/'\n",
    "\n",
    "df_train=feather.read_dataframe(ohio_path+'oh_train.feather')"
   ]
  },
  {
   "cell_type": "code",
   "execution_count": 9,
   "metadata": {},
   "outputs": [
    {
     "data": {
      "text/html": [
       "<div>\n",
       "<style scoped>\n",
       "    .dataframe tbody tr th:only-of-type {\n",
       "        vertical-align: middle;\n",
       "    }\n",
       "\n",
       "    .dataframe tbody tr th {\n",
       "        vertical-align: top;\n",
       "    }\n",
       "\n",
       "    .dataframe thead th {\n",
       "        text-align: right;\n",
       "    }\n",
       "</style>\n",
       "<table border=\"1\" class=\"dataframe\">\n",
       "  <thead>\n",
       "    <tr style=\"text-align: right;\">\n",
       "      <th></th>\n",
       "      <th>SOS_VOTERID</th>\n",
       "      <th>COUNTY_NUMBER</th>\n",
       "      <th>COUNTY_ID</th>\n",
       "      <th>LAST_NAME</th>\n",
       "      <th>FIRST_NAME</th>\n",
       "      <th>MIDDLE_NAME</th>\n",
       "      <th>SUFFIX</th>\n",
       "      <th>DATE_OF_BIRTH</th>\n",
       "      <th>REGISTRATION_DATE</th>\n",
       "      <th>VOTER_STATUS</th>\n",
       "      <th>...</th>\n",
       "      <th>N_ELIGIBLE</th>\n",
       "      <th>N_VOTED_ELIGIBLE_2012</th>\n",
       "      <th>N_ELIGIBLE_2012</th>\n",
       "      <th>N_VOTED_ELIGIBLE_2016</th>\n",
       "      <th>N_ELIGIBLE_2016</th>\n",
       "      <th>N_VOTED_ELIGIBLE_2020</th>\n",
       "      <th>N_ELIGIBLE_2020</th>\n",
       "      <th>RATIO_2012</th>\n",
       "      <th>RATIO_2016</th>\n",
       "      <th>RATIO_2020</th>\n",
       "    </tr>\n",
       "  </thead>\n",
       "  <tbody>\n",
       "    <tr>\n",
       "      <th>0</th>\n",
       "      <td>OH0022572078</td>\n",
       "      <td>23</td>\n",
       "      <td>187017</td>\n",
       "      <td>HOUK</td>\n",
       "      <td>LYNNAE</td>\n",
       "      <td>S</td>\n",
       "      <td>None</td>\n",
       "      <td>1965-10-12</td>\n",
       "      <td>2016-09-03</td>\n",
       "      <td>ACTIVE</td>\n",
       "      <td>...</td>\n",
       "      <td>9</td>\n",
       "      <td>1</td>\n",
       "      <td>9</td>\n",
       "      <td>1</td>\n",
       "      <td>9</td>\n",
       "      <td>1</td>\n",
       "      <td>9</td>\n",
       "      <td>0.111111</td>\n",
       "      <td>0.111111</td>\n",
       "      <td>0.111111</td>\n",
       "    </tr>\n",
       "    <tr>\n",
       "      <th>1</th>\n",
       "      <td>OH0011542577</td>\n",
       "      <td>15</td>\n",
       "      <td>9907343</td>\n",
       "      <td>PARKES</td>\n",
       "      <td>LINDA</td>\n",
       "      <td>L</td>\n",
       "      <td>None</td>\n",
       "      <td>1955-09-24</td>\n",
       "      <td>1998-09-26</td>\n",
       "      <td>ACTIVE</td>\n",
       "      <td>...</td>\n",
       "      <td>60</td>\n",
       "      <td>17</td>\n",
       "      <td>58</td>\n",
       "      <td>14</td>\n",
       "      <td>50</td>\n",
       "      <td>10</td>\n",
       "      <td>35</td>\n",
       "      <td>0.293103</td>\n",
       "      <td>0.280000</td>\n",
       "      <td>0.285714</td>\n",
       "    </tr>\n",
       "    <tr>\n",
       "      <th>2</th>\n",
       "      <td>OH0023206328</td>\n",
       "      <td>9</td>\n",
       "      <td>611018</td>\n",
       "      <td>BYRD</td>\n",
       "      <td>ERIC</td>\n",
       "      <td>WAYNE</td>\n",
       "      <td>None</td>\n",
       "      <td>1994-07-02</td>\n",
       "      <td>2018-09-17</td>\n",
       "      <td>ACTIVE</td>\n",
       "      <td>...</td>\n",
       "      <td>2</td>\n",
       "      <td>1</td>\n",
       "      <td>2</td>\n",
       "      <td>1</td>\n",
       "      <td>2</td>\n",
       "      <td>1</td>\n",
       "      <td>2</td>\n",
       "      <td>0.500000</td>\n",
       "      <td>0.500000</td>\n",
       "      <td>0.500000</td>\n",
       "    </tr>\n",
       "    <tr>\n",
       "      <th>3</th>\n",
       "      <td>OH0016396163</td>\n",
       "      <td>2</td>\n",
       "      <td>71069</td>\n",
       "      <td>HALL</td>\n",
       "      <td>JULIE</td>\n",
       "      <td>A</td>\n",
       "      <td>None</td>\n",
       "      <td>1964-12-02</td>\n",
       "      <td>2001-10-10</td>\n",
       "      <td>ACTIVE</td>\n",
       "      <td>...</td>\n",
       "      <td>57</td>\n",
       "      <td>23</td>\n",
       "      <td>57</td>\n",
       "      <td>18</td>\n",
       "      <td>50</td>\n",
       "      <td>11</td>\n",
       "      <td>35</td>\n",
       "      <td>0.403509</td>\n",
       "      <td>0.360000</td>\n",
       "      <td>0.314286</td>\n",
       "    </tr>\n",
       "    <tr>\n",
       "      <th>4</th>\n",
       "      <td>OH0011586083</td>\n",
       "      <td>10</td>\n",
       "      <td>7801452</td>\n",
       "      <td>WASEMAN</td>\n",
       "      <td>HARRY</td>\n",
       "      <td>S</td>\n",
       "      <td>None</td>\n",
       "      <td>1944-09-29</td>\n",
       "      <td>1978-02-07</td>\n",
       "      <td>ACTIVE</td>\n",
       "      <td>...</td>\n",
       "      <td>60</td>\n",
       "      <td>27</td>\n",
       "      <td>58</td>\n",
       "      <td>21</td>\n",
       "      <td>50</td>\n",
       "      <td>15</td>\n",
       "      <td>35</td>\n",
       "      <td>0.465517</td>\n",
       "      <td>0.420000</td>\n",
       "      <td>0.428571</td>\n",
       "    </tr>\n",
       "  </tbody>\n",
       "</table>\n",
       "<p>5 rows × 120 columns</p>\n",
       "</div>"
      ],
      "text/plain": [
       "    SOS_VOTERID  COUNTY_NUMBER  COUNTY_ID LAST_NAME FIRST_NAME MIDDLE_NAME  \\\n",
       "0  OH0022572078             23     187017      HOUK     LYNNAE           S   \n",
       "1  OH0011542577             15    9907343    PARKES      LINDA           L   \n",
       "2  OH0023206328              9     611018      BYRD       ERIC       WAYNE   \n",
       "3  OH0016396163              2      71069      HALL      JULIE           A   \n",
       "4  OH0011586083             10    7801452   WASEMAN      HARRY           S   \n",
       "\n",
       "  SUFFIX DATE_OF_BIRTH REGISTRATION_DATE VOTER_STATUS  ... N_ELIGIBLE  \\\n",
       "0   None    1965-10-12        2016-09-03       ACTIVE  ...          9   \n",
       "1   None    1955-09-24        1998-09-26       ACTIVE  ...         60   \n",
       "2   None    1994-07-02        2018-09-17       ACTIVE  ...          2   \n",
       "3   None    1964-12-02        2001-10-10       ACTIVE  ...         57   \n",
       "4   None    1944-09-29        1978-02-07       ACTIVE  ...         60   \n",
       "\n",
       "  N_VOTED_ELIGIBLE_2012 N_ELIGIBLE_2012 N_VOTED_ELIGIBLE_2016 N_ELIGIBLE_2016  \\\n",
       "0                     1               9                     1               9   \n",
       "1                    17              58                    14              50   \n",
       "2                     1               2                     1               2   \n",
       "3                    23              57                    18              50   \n",
       "4                    27              58                    21              50   \n",
       "\n",
       "   N_VOTED_ELIGIBLE_2020  N_ELIGIBLE_2020  RATIO_2012  RATIO_2016 RATIO_2020  \n",
       "0                      1                9    0.111111    0.111111   0.111111  \n",
       "1                     10               35    0.293103    0.280000   0.285714  \n",
       "2                      1                2    0.500000    0.500000   0.500000  \n",
       "3                     11               35    0.403509    0.360000   0.314286  \n",
       "4                     15               35    0.465517    0.420000   0.428571  \n",
       "\n",
       "[5 rows x 120 columns]"
      ]
     },
     "execution_count": 9,
     "metadata": {},
     "output_type": "execute_result"
    }
   ],
   "source": [
    "df_train.head()"
   ]
  },
  {
   "cell_type": "code",
   "execution_count": 10,
   "metadata": {},
   "outputs": [],
   "source": [
    "%matplotlib inline"
   ]
  },
  {
   "cell_type": "code",
   "execution_count": 20,
   "metadata": {},
   "outputs": [],
   "source": [
    "traits=['AGE_2016','GENERAL-11/06/2012','N_VOTED_ELIGIBLE','RESIDENTIAL_ZIP']"
   ]
  },
  {
   "cell_type": "code",
   "execution_count": 21,
   "metadata": {},
   "outputs": [],
   "source": [
    "correlations=df_train[traits].corr()"
   ]
  },
  {
   "cell_type": "code",
   "execution_count": 23,
   "metadata": {},
   "outputs": [
    {
     "data": {
      "image/png": "[encoded data removed]",
      "text/plain": [
       "<Figure size 432x288 with 2 Axes>"
      ]
     },
     "metadata": {
      "needs_background": "light"
     },
     "output_type": "display_data"
    }
   ],
   "source": [
    "fig = plt.figure()\n",
    "ax = fig.add_subplot(111)\n",
    "cax = ax.matshow(correlations, vmin=-1, vmax=1)\n",
    "fig.colorbar(cax)\n",
    "ax.set_xticklabels(traits)\n",
    "ax.set_yticklabels(traits)\n",
    "plt.show()"
   ]
  },
  {
   "cell_type": "code",
   "execution_count": 24,
   "metadata": {},
   "outputs": [],
   "source": [
    "from sklearn.linear_model import LogisticRegression"
   ]
  },
  {
   "cell_type": "code",
   "execution_count": 25,
   "metadata": {},
   "outputs": [],
   "source": [
    "logisticRegr = LogisticRegression()"
   ]
  },
  {
   "cell_type": "code",
   "execution_count": 26,
   "metadata": {},
   "outputs": [],
   "source": [
    "y_train=df_train.pop('GENERAL-11/08/2016')"
   ]
  },
  {
   "cell_type": "code",
   "execution_count": 27,
   "metadata": {},
   "outputs": [
    {
     "data": {
      "text/plain": [
       "0       X\n",
       "1       X\n",
       "2    None\n",
       "3       X\n",
       "4       X\n",
       "Name: GENERAL-11/08/2016, dtype: object"
      ]
     },
     "execution_count": 27,
     "metadata": {},
     "output_type": "execute_result"
    }
   ],
   "source": [
    "y_train.head()"
   ]
  },
  {
   "cell_type": "code",
   "execution_count": null,
   "metadata": {},
   "outputs": [],
   "source": []
  }
 ],
 "metadata": {
  "kernelspec": {
   "display_name": "Python 3",
   "language": "python",
   "name": "python3"
  },
  "language_info": {
   "codemirror_mode": {
    "name": "ipython",
    "version": 3
   },
   "file_extension": ".py",
   "mimetype": "text/x-python",
   "name": "python",
   "nbconvert_exporter": "python",
   "pygments_lexer": "ipython3",
   "version": "3.7.4"
  }
 },
 "nbformat": 4,
 "nbformat_minor": 2
}
