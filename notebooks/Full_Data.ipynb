{
 "cells": [
  {
   "cell_type": "code",
   "execution_count": 1,
   "metadata": {},
   "outputs": [],
   "source": [
    "import numpy as np\n",
    "import pandas as pd\n",
    "import matplotlib.pyplot as plt\n",
    "import pickle\n",
    "import feather\n",
    "from datetime import date, datetime"
   ]
  },
  {
   "cell_type": "code",
   "execution_count": 2,
   "metadata": {},
   "outputs": [],
   "source": [
    "data_path = '/Volumes/FileStorage/Insight_data/'\n",
    "ohio_path = '/Volumes/FileStorage/Insight_data/Ohio_data/data_feather/'"
   ]
  },
  {
   "cell_type": "code",
   "execution_count": 3,
   "metadata": {},
   "outputs": [],
   "source": [
    "oh_df=feather.read_dataframe(ohio_path+'updated_df.feather')"
   ]
  },
  {
   "cell_type": "code",
   "execution_count": 4,
   "metadata": {},
   "outputs": [],
   "source": [
    "election_list = []\n",
    "election_i = []\n",
    "general_list = []\n",
    "primary_list = []\n",
    "for key in oh_df:\n",
    "        if key[:7]=='GENERAL':\n",
    "                election_list.append(key)\n",
    "                general_list.append(key)\n",
    "        elif key[:7]=='PRIMARY':\n",
    "                election_list.append(key)\n",
    "                primary_list.append(key)\n",
    "        elif key[:7]=='SPECIAL':\n",
    "                election_list.append(key)\n",
    "                \n",
    "def el_to_date(election):\n",
    "    el_date_str = election.split('-')[1]\n",
    "    el_obj = datetime.strptime(el_date_str, '%m/%d/%Y')\n",
    "    return el_obj\n",
    "date_list = [el_to_date(e) for e in election_list]\n",
    "date_dict = dict(zip(election_list, date_list))"
   ]
  },
  {
   "cell_type": "code",
   "execution_count": 5,
   "metadata": {},
   "outputs": [
    {
     "data": {
      "text/html": [
       "<div>\n",
       "<style scoped>\n",
       "    .dataframe tbody tr th:only-of-type {\n",
       "        vertical-align: middle;\n",
       "    }\n",
       "\n",
       "    .dataframe tbody tr th {\n",
       "        vertical-align: top;\n",
       "    }\n",
       "\n",
       "    .dataframe thead th {\n",
       "        text-align: right;\n",
       "    }\n",
       "</style>\n",
       "<table border=\"1\" class=\"dataframe\">\n",
       "  <thead>\n",
       "    <tr style=\"text-align: right;\">\n",
       "      <th></th>\n",
       "      <th>SOS_VOTERID</th>\n",
       "      <th>COUNTY_NUMBER</th>\n",
       "      <th>COUNTY_ID</th>\n",
       "      <th>LAST_NAME</th>\n",
       "      <th>FIRST_NAME</th>\n",
       "      <th>MIDDLE_NAME</th>\n",
       "      <th>SUFFIX</th>\n",
       "      <th>DATE_OF_BIRTH</th>\n",
       "      <th>REGISTRATION_DATE</th>\n",
       "      <th>VOTER_STATUS</th>\n",
       "      <th>...</th>\n",
       "      <th>AGE_2012</th>\n",
       "      <th>AGE_2020</th>\n",
       "      <th>N_VOTED_ELIGIBLE</th>\n",
       "      <th>N_ELIGIBLE</th>\n",
       "      <th>N_VOTED_ELIGIBLE_2012</th>\n",
       "      <th>N_ELIGIBLE_2012</th>\n",
       "      <th>N_VOTED_ELIGIBLE_2016</th>\n",
       "      <th>N_ELIGIBLE_2016</th>\n",
       "      <th>N_VOTED_ELIGIBLE_2020</th>\n",
       "      <th>N_ELIGIBLE_2020</th>\n",
       "    </tr>\n",
       "  </thead>\n",
       "  <tbody>\n",
       "    <tr>\n",
       "      <th>0</th>\n",
       "      <td>OH0019419095</td>\n",
       "      <td>6</td>\n",
       "      <td>40055</td>\n",
       "      <td>KITCHEN</td>\n",
       "      <td>LESLIE</td>\n",
       "      <td>L</td>\n",
       "      <td>None</td>\n",
       "      <td>1969-12-26</td>\n",
       "      <td>2008-01-09</td>\n",
       "      <td>ACTIVE</td>\n",
       "      <td>...</td>\n",
       "      <td>42</td>\n",
       "      <td>50</td>\n",
       "      <td>2</td>\n",
       "      <td>38</td>\n",
       "      <td>0</td>\n",
       "      <td>17</td>\n",
       "      <td>1</td>\n",
       "      <td>30</td>\n",
       "      <td>2</td>\n",
       "      <td>35</td>\n",
       "    </tr>\n",
       "    <tr>\n",
       "      <th>1</th>\n",
       "      <td>OH0019489283</td>\n",
       "      <td>9</td>\n",
       "      <td>482703</td>\n",
       "      <td>GRACE</td>\n",
       "      <td>AMANDA</td>\n",
       "      <td>LEIGH</td>\n",
       "      <td>None</td>\n",
       "      <td>1974-11-09</td>\n",
       "      <td>2008-02-01</td>\n",
       "      <td>ACTIVE</td>\n",
       "      <td>...</td>\n",
       "      <td>37</td>\n",
       "      <td>45</td>\n",
       "      <td>10</td>\n",
       "      <td>38</td>\n",
       "      <td>4</td>\n",
       "      <td>17</td>\n",
       "      <td>8</td>\n",
       "      <td>30</td>\n",
       "      <td>9</td>\n",
       "      <td>35</td>\n",
       "    </tr>\n",
       "    <tr>\n",
       "      <th>2</th>\n",
       "      <td>OH0015384921</td>\n",
       "      <td>18</td>\n",
       "      <td>2044314</td>\n",
       "      <td>CARNER</td>\n",
       "      <td>TIFFANY</td>\n",
       "      <td>J</td>\n",
       "      <td>None</td>\n",
       "      <td>1971-08-28</td>\n",
       "      <td>2016-05-25</td>\n",
       "      <td>ACTIVE</td>\n",
       "      <td>...</td>\n",
       "      <td>41</td>\n",
       "      <td>49</td>\n",
       "      <td>0</td>\n",
       "      <td>10</td>\n",
       "      <td>0</td>\n",
       "      <td>0</td>\n",
       "      <td>0</td>\n",
       "      <td>2</td>\n",
       "      <td>0</td>\n",
       "      <td>10</td>\n",
       "    </tr>\n",
       "    <tr>\n",
       "      <th>3</th>\n",
       "      <td>OH0020115764</td>\n",
       "      <td>13</td>\n",
       "      <td>6100757</td>\n",
       "      <td>VAN SCYOC</td>\n",
       "      <td>SUSAN</td>\n",
       "      <td>L</td>\n",
       "      <td>None</td>\n",
       "      <td>1973-08-01</td>\n",
       "      <td>2008-09-18</td>\n",
       "      <td>ACTIVE</td>\n",
       "      <td>...</td>\n",
       "      <td>39</td>\n",
       "      <td>47</td>\n",
       "      <td>7</td>\n",
       "      <td>37</td>\n",
       "      <td>3</td>\n",
       "      <td>16</td>\n",
       "      <td>6</td>\n",
       "      <td>29</td>\n",
       "      <td>6</td>\n",
       "      <td>35</td>\n",
       "    </tr>\n",
       "    <tr>\n",
       "      <th>4</th>\n",
       "      <td>OH0015058130</td>\n",
       "      <td>18</td>\n",
       "      <td>1674659</td>\n",
       "      <td>BERRY</td>\n",
       "      <td>NICOLE</td>\n",
       "      <td>L</td>\n",
       "      <td>None</td>\n",
       "      <td>1975-04-25</td>\n",
       "      <td>2009-08-19</td>\n",
       "      <td>ACTIVE</td>\n",
       "      <td>...</td>\n",
       "      <td>37</td>\n",
       "      <td>45</td>\n",
       "      <td>11</td>\n",
       "      <td>33</td>\n",
       "      <td>4</td>\n",
       "      <td>12</td>\n",
       "      <td>8</td>\n",
       "      <td>25</td>\n",
       "      <td>11</td>\n",
       "      <td>33</td>\n",
       "    </tr>\n",
       "  </tbody>\n",
       "</table>\n",
       "<p>5 rows × 117 columns</p>\n",
       "</div>"
      ],
      "text/plain": [
       "    SOS_VOTERID  COUNTY_NUMBER  COUNTY_ID  LAST_NAME FIRST_NAME MIDDLE_NAME  \\\n",
       "0  OH0019419095              6      40055    KITCHEN     LESLIE           L   \n",
       "1  OH0019489283              9     482703      GRACE     AMANDA       LEIGH   \n",
       "2  OH0015384921             18    2044314     CARNER    TIFFANY           J   \n",
       "3  OH0020115764             13    6100757  VAN SCYOC      SUSAN           L   \n",
       "4  OH0015058130             18    1674659      BERRY     NICOLE           L   \n",
       "\n",
       "  SUFFIX DATE_OF_BIRTH REGISTRATION_DATE VOTER_STATUS  ... AGE_2012 AGE_2020  \\\n",
       "0   None    1969-12-26        2008-01-09       ACTIVE  ...       42       50   \n",
       "1   None    1974-11-09        2008-02-01       ACTIVE  ...       37       45   \n",
       "2   None    1971-08-28        2016-05-25       ACTIVE  ...       41       49   \n",
       "3   None    1973-08-01        2008-09-18       ACTIVE  ...       39       47   \n",
       "4   None    1975-04-25        2009-08-19       ACTIVE  ...       37       45   \n",
       "\n",
       "  N_VOTED_ELIGIBLE N_ELIGIBLE N_VOTED_ELIGIBLE_2012  N_ELIGIBLE_2012  \\\n",
       "0                2         38                     0               17   \n",
       "1               10         38                     4               17   \n",
       "2                0         10                     0                0   \n",
       "3                7         37                     3               16   \n",
       "4               11         33                     4               12   \n",
       "\n",
       "   N_VOTED_ELIGIBLE_2016  N_ELIGIBLE_2016  N_VOTED_ELIGIBLE_2020  \\\n",
       "0                      1               30                      2   \n",
       "1                      8               30                      9   \n",
       "2                      0                2                      0   \n",
       "3                      6               29                      6   \n",
       "4                      8               25                     11   \n",
       "\n",
       "  N_ELIGIBLE_2020  \n",
       "0              35  \n",
       "1              35  \n",
       "2              10  \n",
       "3              35  \n",
       "4              33  \n",
       "\n",
       "[5 rows x 117 columns]"
      ]
     },
     "execution_count": 5,
     "metadata": {},
     "output_type": "execute_result"
    }
   ],
   "source": [
    "oh_df.head()"
   ]
  },
  {
   "cell_type": "code",
   "execution_count": 57,
   "metadata": {},
   "outputs": [
    {
     "name": "stdout",
     "output_type": "stream",
     "text": [
      "SOS_VOTERID\n",
      "COUNTY_NUMBER\n",
      "COUNTY_ID\n",
      "LAST_NAME\n",
      "FIRST_NAME\n",
      "MIDDLE_NAME\n",
      "SUFFIX\n",
      "DATE_OF_BIRTH\n",
      "REGISTRATION_DATE\n",
      "VOTER_STATUS\n",
      "PARTY_AFFILIATION\n",
      "RESIDENTIAL_ADDRESS1\n",
      "RESIDENTIAL_SECONDARY_ADDR\n",
      "RESIDENTIAL_CITY\n",
      "RESIDENTIAL_STATE\n",
      "RESIDENTIAL_ZIP\n",
      "RESIDENTIAL_ZIP_PLUS4\n",
      "RESIDENTIAL_COUNTRY\n",
      "RESIDENTIAL_POSTALCODE\n",
      "MAILING_ADDRESS1\n",
      "MAILING_SECONDARY_ADDRESS\n",
      "MAILING_CITY\n",
      "MAILING_STATE\n",
      "MAILING_ZIP\n",
      "MAILING_ZIP_PLUS4\n",
      "MAILING_COUNTRY\n",
      "MAILING_POSTAL_CODE\n",
      "CAREER_CENTER\n",
      "CITY\n",
      "CITY_SCHOOL_DISTRICT\n",
      "COUNTY_COURT_DISTRICT\n",
      "CONGRESSIONAL_DISTRICT\n",
      "COURT_OF_APPEALS\n",
      "EDU_SERVICE_CENTER_DISTRICT\n",
      "EXEMPTED_VILL_SCHOOL_DISTRICT\n",
      "LIBRARY\n",
      "LOCAL_SCHOOL_DISTRICT\n",
      "MUNICIPAL_COURT_DISTRICT\n",
      "PRECINCT_NAME\n",
      "PRECINCT_CODE\n",
      "STATE_BOARD_OF_EDUCATION\n",
      "STATE_REPRESENTATIVE_DISTRICT\n",
      "STATE_SENATE_DISTRICT\n",
      "TOWNSHIP\n",
      "VILLAGE\n",
      "WARD\n",
      "PRIMARY-03/07/2000\n",
      "GENERAL-11/07/2000\n",
      "SPECIAL-05/08/2001\n",
      "GENERAL-11/06/2001\n",
      "PRIMARY-05/07/2002\n",
      "GENERAL-11/05/2002\n",
      "SPECIAL-05/06/2003\n",
      "GENERAL-11/04/2003\n",
      "PRIMARY-03/02/2004\n",
      "GENERAL-11/02/2004\n",
      "SPECIAL-02/08/2005\n",
      "PRIMARY-05/03/2005\n",
      "PRIMARY-09/13/2005\n",
      "GENERAL-11/08/2005\n",
      "SPECIAL-02/07/2006\n",
      "PRIMARY-05/02/2006\n",
      "GENERAL-11/07/2006\n",
      "PRIMARY-05/08/2007\n",
      "PRIMARY-09/11/2007\n",
      "GENERAL-11/06/2007\n",
      "PRIMARY-11/06/2007\n",
      "GENERAL-12/11/2007\n",
      "PRIMARY-03/04/2008\n",
      "PRIMARY-10/14/2008\n",
      "GENERAL-11/04/2008\n",
      "GENERAL-11/18/2008\n",
      "PRIMARY-05/05/2009\n",
      "PRIMARY-09/08/2009\n",
      "PRIMARY-09/15/2009\n",
      "PRIMARY-09/29/2009\n",
      "GENERAL-11/03/2009\n",
      "PRIMARY-05/04/2010\n",
      "PRIMARY-07/13/2010\n",
      "PRIMARY-09/07/2010\n",
      "GENERAL-11/02/2010\n",
      "PRIMARY-05/03/2011\n",
      "PRIMARY-09/13/2011\n",
      "GENERAL-11/08/2011\n",
      "PRIMARY-03/06/2012\n",
      "GENERAL-11/06/2012\n",
      "PRIMARY-05/07/2013\n",
      "PRIMARY-09/10/2013\n",
      "PRIMARY-10/01/2013\n",
      "GENERAL-11/05/2013\n",
      "PRIMARY-05/06/2014\n",
      "GENERAL-11/04/2014\n",
      "PRIMARY-05/05/2015\n",
      "PRIMARY-09/15/2015\n",
      "GENERAL-11/03/2015\n",
      "PRIMARY-03/15/2016\n",
      "GENERAL-06/07/2016\n",
      "PRIMARY-09/13/2016\n",
      "GENERAL-11/08/2016\n",
      "PRIMARY-05/02/2017\n",
      "PRIMARY-09/12/2017\n",
      "GENERAL-11/07/2017\n",
      "PRIMARY-05/08/2018\n",
      "GENERAL-08/07/2018\n",
      "GENERAL-11/06/2018\n",
      "PRIMARY-05/07/2019\n",
      "AGE_2016\n",
      "AGE_2012\n",
      "AGE_2020\n",
      "N_VOTED_ELIGIBLE\n",
      "N_ELIGIBLE\n",
      "N_VOTED_ELIGIBLE_2012\n",
      "N_ELIGIBLE_2012\n",
      "N_VOTED_ELIGIBLE_2016\n",
      "N_ELIGIBLE_2016\n",
      "N_VOTED_ELIGIBLE_2020\n",
      "N_ELIGIBLE_2020\n",
      "RATIO_2012\n",
      "RATIO_2016\n",
      "RATIO_2020\n"
     ]
    }
   ],
   "source": [
    "for key in oh_df:\n",
    "    print(key)"
   ]
  },
  {
   "cell_type": "code",
   "execution_count": null,
   "metadata": {},
   "outputs": [],
   "source": [
    "oh_df.fillna('-1').groupby(['GENERAL-11/06/2012']).size()"
   ]
  },
  {
   "cell_type": "code",
   "execution_count": 6,
   "metadata": {},
   "outputs": [
    {
     "data": {
      "text/plain": [
       "GENERAL-11/06/2012  GENERAL-11/08/2016\n",
       "-1                  -1                    1755906\n",
       "                    X                     1070792\n",
       "X                   -1                     670999\n",
       "                    X                     4327688\n",
       "dtype: int64"
      ]
     },
     "execution_count": 6,
     "metadata": {},
     "output_type": "execute_result"
    }
   ],
   "source": [
    "oh_df.fillna('-1').groupby(['GENERAL-11/06/2012','GENERAL-11/08/2016']).size()"
   ]
  },
  {
   "cell_type": "code",
   "execution_count": 9,
   "metadata": {},
   "outputs": [],
   "source": [
    "def row_ratio(row,year):\n",
    "    eligible_column = 'N_ELIGIBLE_'+year\n",
    "    voted_column = 'N_VOTED_ELIGIBLE_'+year\n",
    "    voted_i= row[voted_column]\n",
    "    eligible_i = row[eligible_column]\n",
    "    if eligible_i != 0:\n",
    "        v_ratio = voted_i/eligible_i\n",
    "    else:\n",
    "        v_ratio = 0\n",
    "    return v_ratio"
   ]
  },
  {
   "cell_type": "code",
   "execution_count": 14,
   "metadata": {},
   "outputs": [],
   "source": [
    "%%capture\n",
    "from tqdm import tqdm_notebook as tqdm\n",
    "tqdm().pandas()"
   ]
  },
  {
   "cell_type": "code",
   "execution_count": 11,
   "metadata": {},
   "outputs": [
    {
     "data": {
      "application/vnd.jupyter.widget-view+json": {
       "model_id": "307b256b7752487c8c44dd30d04bd577",
       "version_major": 2,
       "version_minor": 0
      },
      "text/plain": [
       "HBox(children=(IntProgress(value=0, max=7825385), HTML(value='')))"
      ]
     },
     "metadata": {},
     "output_type": "display_data"
    },
    {
     "name": "stdout",
     "output_type": "stream",
     "text": [
      "\n"
     ]
    },
    {
     "data": {
      "application/vnd.jupyter.widget-view+json": {
       "model_id": "a80f7d818aa949888bb21403df8f7880",
       "version_major": 2,
       "version_minor": 0
      },
      "text/plain": [
       "HBox(children=(IntProgress(value=0, max=7825385), HTML(value='')))"
      ]
     },
     "metadata": {},
     "output_type": "display_data"
    },
    {
     "name": "stdout",
     "output_type": "stream",
     "text": [
      "\n"
     ]
    },
    {
     "data": {
      "application/vnd.jupyter.widget-view+json": {
       "model_id": "a59231ed7e694873b83ce4cc59812b7e",
       "version_major": 2,
       "version_minor": 0
      },
      "text/plain": [
       "HBox(children=(IntProgress(value=0, max=7825385), HTML(value='')))"
      ]
     },
     "metadata": {},
     "output_type": "display_data"
    },
    {
     "name": "stdout",
     "output_type": "stream",
     "text": [
      "\n"
     ]
    }
   ],
   "source": [
    "oh_df['RATIO_2012'] = oh_df.progress_apply(lambda row: row_ratio(row,'2012'), axis=1)\n",
    "oh_df['RATIO_2016'] = oh_df.progress_apply(lambda row: row_ratio(row,'2016'), axis=1)\n",
    "oh_df['RATIO_2020'] = oh_df.progress_apply(lambda row: row_ratio(row,'2020'), axis=1)"
   ]
  },
  {
   "cell_type": "code",
   "execution_count": 12,
   "metadata": {},
   "outputs": [],
   "source": [
    "feather.write_dataframe(oh_df,'/Volumes/FileStorage/Insight_data/Ohio_data/data_feather/updated_oh_withratio.feather')"
   ]
  },
  {
   "cell_type": "code",
   "execution_count": 10,
   "metadata": {},
   "outputs": [],
   "source": [
    "oh_df=feather.read_dataframe(ohio_path+'updated_oh_withratio.feather')"
   ]
  },
  {
   "cell_type": "code",
   "execution_count": 11,
   "metadata": {},
   "outputs": [],
   "source": [
    "%matplotlib inline"
   ]
  },
  {
   "cell_type": "code",
   "execution_count": 12,
   "metadata": {},
   "outputs": [
    {
     "data": {
      "text/plain": [
       "[Text(0, 0.5, 'Voters'), Text(0.5, 0, '#Presidential elections')]"
      ]
     },
     "execution_count": 12,
     "metadata": {},
     "output_type": "execute_result"
    },
    {
     "data": {
      "image/png": "[encoded data removed]",
      "text/plain": [
       "<Figure size 432x288 with 1 Axes>"
      ]
     },
     "metadata": {
      "needs_background": "light"
     },
     "output_type": "display_data"
    }
   ],
   "source": [
    "import seaborn\n",
    "\n",
    "presidential_list=['GENERAL-11/07/2000','GENERAL-11/02/2004','GENERAL-11/04/2008','GENERAL-11/06/2012','GENERAL-11/08/2016']\n",
    "presidential_n=oh_df[presidential_list].notnull().sum(axis=1)\n",
    "ax = seaborn.distplot(presidential_n,bins=5,kde=False, rug=True);\n",
    "ax.set(xlabel='#Presidential elections', ylabel='Voters')"
   ]
  },
  {
   "cell_type": "code",
   "execution_count": 15,
   "metadata": {},
   "outputs": [
    {
     "data": {
      "application/vnd.jupyter.widget-view+json": {
       "model_id": "67034b904c7841d5b957c78d532c2495",
       "version_major": 2,
       "version_minor": 0
      },
      "text/plain": [
       "HBox(children=(IntProgress(value=0, max=2), HTML(value='')))"
      ]
     },
     "metadata": {},
     "output_type": "display_data"
    },
    {
     "name": "stdout",
     "output_type": "stream",
     "text": [
      "\n"
     ]
    }
   ],
   "source": [
    "oh_df['GENERAL-11/06/2012'] = oh_df['GENERAL-11/06/2012'].astype('category')\n",
    "oh_df['GENERAL-11/08/2016'] = oh_df['GENERAL-11/08/2016'].astype('category')\n",
    "\n",
    "el_train_list=['GENERAL-11/06/2012','GENERAL-11/08/2016']\n",
    "oh_df['GENERAL-11/06/2012'].cat.codes.head()\n",
    "oh_df[el_train_list] = oh_df[el_train_list].progress_apply(lambda x: x.cat.codes)"
   ]
  },
  {
   "cell_type": "code",
   "execution_count": 181,
   "metadata": {},
   "outputs": [],
   "source": [
    "traits=['AGE_2016','GENERAL-11/06/2012','RATIO_2016','HC02_EST_VC17','HC02_EST_VC18','GENERAL-11/08/2016']\n",
    "traits_plot=['Age','Voted 2012','Ratio(Voted/Elections)','% High School Diploma','% Bachelors Degree','Voted 2016']"
   ]
  },
  {
   "cell_type": "code",
   "execution_count": 56,
   "metadata": {},
   "outputs": [],
   "source": [
    "census_df=feather.read_dataframe('/Volumes/FileStorage/Insight_data/census_data/census.feather')"
   ]
  },
  {
   "cell_type": "code",
   "execution_count": 67,
   "metadata": {},
   "outputs": [
    {
     "name": "stdout",
     "output_type": "stream",
     "text": [
      "int64\n",
      "object\n"
     ]
    }
   ],
   "source": [
    "print(oh_df['RESIDENTIAL_ZIP'].dtype)\n",
    "print(census_df['GEO.id2'].dtype)"
   ]
  },
  {
   "cell_type": "code",
   "execution_count": 69,
   "metadata": {},
   "outputs": [],
   "source": [
    "oh_df['RESIDENTIAL_ZIP']=oh_df['RESIDENTIAL_ZIP'].apply(str)"
   ]
  },
  {
   "cell_type": "code",
   "execution_count": 75,
   "metadata": {},
   "outputs": [],
   "source": [
    "#df.rename(columns={\"A\": \"a\"})\n",
    "census_df=census_df.rename(columns={'GEO.id2':'RESIDENTIAL_ZIP'})"
   ]
  },
  {
   "cell_type": "code",
   "execution_count": 95,
   "metadata": {},
   "outputs": [
    {
     "data": {
      "text/plain": [
       "(7825385, 120)"
      ]
     },
     "execution_count": 95,
     "metadata": {},
     "output_type": "execute_result"
    }
   ],
   "source": [
    "oh_df.shape"
   ]
  },
  {
   "cell_type": "code",
   "execution_count": 89,
   "metadata": {},
   "outputs": [
    {
     "data": {
      "application/vnd.jupyter.widget-view+json": {
       "model_id": "62b6ce1f26cd426382afc169eb60d223",
       "version_major": 2,
       "version_minor": 0
      },
      "text/plain": [
       "HBox(children=(IntProgress(value=0, max=123), HTML(value='')))"
      ]
     },
     "metadata": {},
     "output_type": "display_data"
    },
    {
     "name": "stdout",
     "output_type": "stream",
     "text": [
      "\n"
     ]
    }
   ],
   "source": [
    "oh_census_df=pd.merge(oh_df,census_df,on=['RESIDENTIAL_ZIP'],how='left').progress_apply(lambda x: x)"
   ]
  },
  {
   "cell_type": "code",
   "execution_count": 90,
   "metadata": {},
   "outputs": [
    {
     "data": {
      "text/plain": [
       "(7825385, 123)"
      ]
     },
     "execution_count": 90,
     "metadata": {},
     "output_type": "execute_result"
    }
   ],
   "source": [
    "oh_census_df.shape"
   ]
  },
  {
   "cell_type": "code",
   "execution_count": 104,
   "metadata": {},
   "outputs": [],
   "source": [
    "#'coerce' forces non-numeric strings to NaN\n",
    "oh_census_df['HC02_EST_VC17']=pd.to_numeric(oh_census_df['HC02_EST_VC17'],errors='coerce')"
   ]
  },
  {
   "cell_type": "code",
   "execution_count": 108,
   "metadata": {},
   "outputs": [],
   "source": [
    "oh_census_df['HC01_EST_VC13']=pd.to_numeric(oh_census_df['HC01_EST_VC13'],errors='coerce')\n",
    "oh_census_df['HC02_EST_VC18']=pd.to_numeric(oh_census_df['HC02_EST_VC18'],errors='coerce')"
   ]
  },
  {
   "cell_type": "code",
   "execution_count": 119,
   "metadata": {},
   "outputs": [],
   "source": [
    "#df.fillna(df.mean(), inplace=True)\n",
    "oh_census_df['HC02_EST_VC17'].fillna(oh_census_df['HC02_EST_VC17'].mean(),inplace=True)\n",
    "oh_census_df['HC01_EST_VC13'].fillna(oh_census_df['HC01_EST_VC13'].mean(),inplace=True)\n",
    "oh_census_df['HC02_EST_VC18'].fillna(oh_census_df['HC02_EST_VC18'].mean(),inplace=True)"
   ]
  },
  {
   "cell_type": "code",
   "execution_count": 139,
   "metadata": {},
   "outputs": [
    {
     "data": {
      "text/plain": [
       "False"
      ]
     },
     "execution_count": 139,
     "metadata": {},
     "output_type": "execute_result"
    }
   ],
   "source": [
    "oh_census_df[traits].isnull().values.any()"
   ]
  },
  {
   "cell_type": "code",
   "execution_count": 120,
   "metadata": {},
   "outputs": [],
   "source": [
    "feather.write_dataframe(oh_census_df,'/Volumes/FileStorage/Insight_data/Ohio_data/data_feather/oh_census_df.feather')"
   ]
  },
  {
   "cell_type": "code",
   "execution_count": 182,
   "metadata": {},
   "outputs": [
    {
     "name": "stdout",
     "output_type": "stream",
     "text": [
      "                    AGE_2016  GENERAL-11/06/2012  RATIO_2016  HC02_EST_VC17  \\\n",
      "AGE_2016            1.000000            0.448019    0.492173       0.026064   \n",
      "GENERAL-11/06/2012  0.448019            1.000000    0.552881       0.078460   \n",
      "RATIO_2016          0.492173            0.552881    1.000000       0.089193   \n",
      "HC02_EST_VC17       0.026064            0.078460    0.089193       1.000000   \n",
      "HC02_EST_VC18      -0.033695            0.040196    0.024145       0.683104   \n",
      "GENERAL-11/08/2016  0.330085            0.505698    0.493892       0.109566   \n",
      "\n",
      "                    HC02_EST_VC18  GENERAL-11/08/2016  \n",
      "AGE_2016                -0.033695            0.330085  \n",
      "GENERAL-11/06/2012       0.040196            0.505698  \n",
      "RATIO_2016               0.024145            0.493892  \n",
      "HC02_EST_VC17            0.683104            0.109566  \n",
      "HC02_EST_VC18            1.000000            0.073234  \n",
      "GENERAL-11/08/2016       0.073234            1.000000  \n"
     ]
    }
   ],
   "source": [
    "correlations=oh_census_df[traits].corr()\n",
    "print(correlations)"
   ]
  },
  {
   "cell_type": "code",
   "execution_count": 183,
   "metadata": {},
   "outputs": [
    {
     "name": "stdout",
     "output_type": "stream",
     "text": [
      "['Age', 'Voted 2012', 'Ratio(Voted/Elections)', '% High School Diploma', '% Bachelors Degree', 'Voted 2016']\n"
     ]
    },
    {
     "data": {
      "image/png": "[encoded data removed]",
      "text/plain": [
       "<Figure size 432x288 with 2 Axes>"
      ]
     },
     "metadata": {
      "needs_background": "light"
     },
     "output_type": "display_data"
    }
   ],
   "source": [
    "fig = plt.figure()\n",
    "ax = fig.add_subplot(111)\n",
    "cax = ax.matshow(correlations, vmin=-0.5, vmax=1)\n",
    "fig.colorbar(cax)\n",
    "print(traits_plot)\n",
    "ax.set_xticks(np.arange(0,correlations.shape[0], correlations.shape[0]*1.0/len(traits_plot)))\n",
    "ax.set_yticks(np.arange(0,correlations.shape[1], correlations.shape[1]*1.0/len(traits_plot)))\n",
    "ax.set_xticklabels(traits_plot,rotation=45,ha=\"left\")\n",
    "ax.set_yticklabels(traits_plot)\n",
    "ax.set_ylim(len(correlations)-0.5, -0.5)\n",
    "plt.show()"
   ]
  },
  {
   "cell_type": "code",
   "execution_count": 123,
   "metadata": {},
   "outputs": [],
   "source": [
    "from sklearn.model_selection import train_test_split\n",
    "\n",
    "def train_validate_test_split(df, train_percent=.6, validate_percent=.2, seed=None):\n",
    "    np.random.seed(seed)\n",
    "    perm = np.random.permutation(df.index)\n",
    "    m = len(df.index)\n",
    "    train_end = int(train_percent * m)\n",
    "    validate_end = int(validate_percent * m) + train_end\n",
    "    train = df.iloc[perm[:train_end]]\n",
    "    validate = df.iloc[perm[train_end:validate_end]]\n",
    "    test = df.iloc[perm[validate_end:]]\n",
    "    return train, validate, test"
   ]
  },
  {
   "cell_type": "code",
   "execution_count": 141,
   "metadata": {},
   "outputs": [],
   "source": [
    "df_train, df_valid, df_test = train_validate_test_split(oh_census_df,seed=1)\n",
    "feather.write_dataframe(df_train,'/Volumes/FileStorage/Insight_data/Ohio_data/data_feather/oh_census_train_set.feather')\n",
    "feather.write_dataframe(df_valid,'/Volumes/FileStorage/Insight_data/Ohio_data/data_feather/oh_census_valid_set.feather')\n",
    "feather.write_dataframe(df_test,'/Volumes/FileStorage/Insight_data/Ohio_data/data_feather/oh_census_test_set.feather')"
   ]
  },
  {
   "cell_type": "code",
   "execution_count": 186,
   "metadata": {},
   "outputs": [],
   "source": [
    "#features=['AGE_2016','GENERAL-11/06/2012','RATIO_2016','HC01_EST_VC13','HC02_EST_VC17','HC02_EST_VC18']\n",
    "features=['AGE_2016','GENERAL-11/06/2012','RATIO_2016','HC02_EST_VC17','HC02_EST_VC18']\n",
    "X_train = df_train.loc[:, features]\n",
    "Y_train = df_train['GENERAL-11/08/2016']\n",
    "\n",
    "X_valid = df_valid.loc[:, features]\n",
    "Y_valid = df_valid['GENERAL-11/08/2016']\n",
    "\n",
    "X_test = df_test.loc[:, features]\n",
    "Y_test = df_test['GENERAL-11/08/2016']"
   ]
  },
  {
   "cell_type": "code",
   "execution_count": 187,
   "metadata": {},
   "outputs": [
    {
     "name": "stdout",
     "output_type": "stream",
     "text": [
      "False\n",
      "False\n"
     ]
    },
    {
     "data": {
      "text/plain": [
       "LogisticRegression(C=1.0, class_weight=None, dual=False, fit_intercept=True,\n",
       "                   intercept_scaling=1, l1_ratio=None, max_iter=100,\n",
       "                   multi_class='warn', n_jobs=None, penalty='l2',\n",
       "                   random_state=None, solver='lbfgs', tol=0.0001, verbose=0,\n",
       "                   warm_start=False)"
      ]
     },
     "execution_count": 187,
     "metadata": {},
     "output_type": "execute_result"
    }
   ],
   "source": [
    "print(oh_census_df[traits].isnull().values.any())\n",
    "\n",
    "print(X_test.isnull().values.any())\n",
    "\n",
    "from sklearn.linear_model import LogisticRegression\n",
    "logreg = LogisticRegression(solver='lbfgs')\n",
    "\n",
    "logreg.fit(X_train, Y_train)"
   ]
  },
  {
   "cell_type": "code",
   "execution_count": 188,
   "metadata": {},
   "outputs": [
    {
     "name": "stdout",
     "output_type": "stream",
     "text": [
      "0.8054600508473385\n"
     ]
    }
   ],
   "source": [
    "predictions = logreg.predict(X_valid)\n",
    "score = logreg.score(X_valid, Y_valid)\n",
    "print(score)"
   ]
  },
  {
   "cell_type": "code",
   "execution_count": 189,
   "metadata": {},
   "outputs": [
    {
     "data": {
      "text/plain": [
       "['logreg_fulldata_census.joblib']"
      ]
     },
     "execution_count": 189,
     "metadata": {},
     "output_type": "execute_result"
    }
   ],
   "source": [
    "from joblib import dump, load\n",
    "dump(logreg, 'logreg_fulldata_census.joblib') "
   ]
  },
  {
   "cell_type": "code",
   "execution_count": 190,
   "metadata": {},
   "outputs": [
    {
     "name": "stdout",
     "output_type": "stream",
     "text": [
      "0.8055079718122495\n"
     ]
    }
   ],
   "source": [
    "predictions = logreg.predict(X_test)\n",
    "score = logreg.score(X_test, Y_test)\n",
    "print(score)"
   ]
  },
  {
   "cell_type": "code",
   "execution_count": 29,
   "metadata": {},
   "outputs": [
    {
     "name": "stdout",
     "output_type": "stream",
     "text": [
      "0.7908892547546403\n"
     ]
    }
   ],
   "source": [
    "y_y = 2138780\n",
    "n_n = 773260\n",
    "n_y = 466904\n",
    "y_n = 303038\n",
    "\n",
    "tot_v = y_y+n_n+n_y+y_n\n",
    "acc_baseline = (y_y+n_n)/tot_v\n",
    "print(acc_baseline)"
   ]
  },
  {
   "cell_type": "code",
   "execution_count": 32,
   "metadata": {},
   "outputs": [
    {
     "data": {
      "text/plain": [
       "GENERAL-11/06/2012  GENERAL-11/08/2016\n",
       "-1                  -1                    351338\n",
       "                     0                    213563\n",
       " 0                  -1                    134139\n",
       "                     0                    866037\n",
       "dtype: int64"
      ]
     },
     "execution_count": 32,
     "metadata": {},
     "output_type": "execute_result"
    }
   ],
   "source": [
    "df_test.groupby(['GENERAL-11/06/2012','GENERAL-11/08/2016']).size()"
   ]
  },
  {
   "cell_type": "code",
   "execution_count": 37,
   "metadata": {},
   "outputs": [
    {
     "name": "stdout",
     "output_type": "stream",
     "text": [
      "0.7778371287802454\n"
     ]
    }
   ],
   "source": [
    "acc_baseline_testset=(351338+866037)/(351338+213563+134139+866037)\n",
    "print(acc_baseline_testset)"
   ]
  },
  {
   "cell_type": "code",
   "execution_count": 36,
   "metadata": {},
   "outputs": [
    {
     "data": {
      "text/html": [
       "<div>\n",
       "<style scoped>\n",
       "    .dataframe tbody tr th:only-of-type {\n",
       "        vertical-align: middle;\n",
       "    }\n",
       "\n",
       "    .dataframe tbody tr th {\n",
       "        vertical-align: top;\n",
       "    }\n",
       "\n",
       "    .dataframe thead th {\n",
       "        text-align: right;\n",
       "    }\n",
       "</style>\n",
       "<table border=\"1\" class=\"dataframe\">\n",
       "  <thead>\n",
       "    <tr style=\"text-align: right;\">\n",
       "      <th></th>\n",
       "      <th>SOS_VOTERID</th>\n",
       "      <th>COUNTY_NUMBER</th>\n",
       "      <th>COUNTY_ID</th>\n",
       "      <th>LAST_NAME</th>\n",
       "      <th>FIRST_NAME</th>\n",
       "      <th>MIDDLE_NAME</th>\n",
       "      <th>SUFFIX</th>\n",
       "      <th>DATE_OF_BIRTH</th>\n",
       "      <th>REGISTRATION_DATE</th>\n",
       "      <th>VOTER_STATUS</th>\n",
       "      <th>...</th>\n",
       "      <th>N_ELIGIBLE</th>\n",
       "      <th>N_VOTED_ELIGIBLE_2012</th>\n",
       "      <th>N_ELIGIBLE_2012</th>\n",
       "      <th>N_VOTED_ELIGIBLE_2016</th>\n",
       "      <th>N_ELIGIBLE_2016</th>\n",
       "      <th>N_VOTED_ELIGIBLE_2020</th>\n",
       "      <th>N_ELIGIBLE_2020</th>\n",
       "      <th>RATIO_2012</th>\n",
       "      <th>RATIO_2016</th>\n",
       "      <th>RATIO_2020</th>\n",
       "    </tr>\n",
       "  </thead>\n",
       "  <tbody>\n",
       "    <tr>\n",
       "      <th>7505750</th>\n",
       "      <td>OH0024731553</td>\n",
       "      <td>84</td>\n",
       "      <td>10235287</td>\n",
       "      <td>ALLEN</td>\n",
       "      <td>LAUREN</td>\n",
       "      <td>MCCALL</td>\n",
       "      <td>None</td>\n",
       "      <td>2000-03-03</td>\n",
       "      <td>2018-08-24</td>\n",
       "      <td>ACTIVE</td>\n",
       "      <td>...</td>\n",
       "      <td>2</td>\n",
       "      <td>0</td>\n",
       "      <td>0</td>\n",
       "      <td>0</td>\n",
       "      <td>0</td>\n",
       "      <td>0</td>\n",
       "      <td>2</td>\n",
       "      <td>0.000000</td>\n",
       "      <td>0.000000</td>\n",
       "      <td>0.000000</td>\n",
       "    </tr>\n",
       "    <tr>\n",
       "      <th>4365076</th>\n",
       "      <td>OH0024725632</td>\n",
       "      <td>32</td>\n",
       "      <td>150137</td>\n",
       "      <td>MISAMORE</td>\n",
       "      <td>ETHAN</td>\n",
       "      <td>None</td>\n",
       "      <td>None</td>\n",
       "      <td>1998-12-26</td>\n",
       "      <td>2017-04-23</td>\n",
       "      <td>ACTIVE</td>\n",
       "      <td>...</td>\n",
       "      <td>7</td>\n",
       "      <td>0</td>\n",
       "      <td>0</td>\n",
       "      <td>0</td>\n",
       "      <td>0</td>\n",
       "      <td>0</td>\n",
       "      <td>7</td>\n",
       "      <td>0.000000</td>\n",
       "      <td>0.000000</td>\n",
       "      <td>0.000000</td>\n",
       "    </tr>\n",
       "    <tr>\n",
       "      <th>3926070</th>\n",
       "      <td>OH0017268664</td>\n",
       "      <td>25</td>\n",
       "      <td>772404623</td>\n",
       "      <td>MONTESI</td>\n",
       "      <td>SHIRLEY</td>\n",
       "      <td>A</td>\n",
       "      <td>None</td>\n",
       "      <td>1950-08-05</td>\n",
       "      <td>1900-01-01</td>\n",
       "      <td>ACTIVE</td>\n",
       "      <td>...</td>\n",
       "      <td>60</td>\n",
       "      <td>16</td>\n",
       "      <td>37</td>\n",
       "      <td>15</td>\n",
       "      <td>42</td>\n",
       "      <td>14</td>\n",
       "      <td>35</td>\n",
       "      <td>0.432432</td>\n",
       "      <td>0.357143</td>\n",
       "      <td>0.400000</td>\n",
       "    </tr>\n",
       "    <tr>\n",
       "      <th>3365988</th>\n",
       "      <td>OH0014011949</td>\n",
       "      <td>31</td>\n",
       "      <td>113782</td>\n",
       "      <td>WINFREY</td>\n",
       "      <td>MARCELLENE</td>\n",
       "      <td>S</td>\n",
       "      <td>None</td>\n",
       "      <td>1949-12-04</td>\n",
       "      <td>1989-07-17</td>\n",
       "      <td>ACTIVE</td>\n",
       "      <td>...</td>\n",
       "      <td>60</td>\n",
       "      <td>15</td>\n",
       "      <td>37</td>\n",
       "      <td>13</td>\n",
       "      <td>42</td>\n",
       "      <td>10</td>\n",
       "      <td>35</td>\n",
       "      <td>0.405405</td>\n",
       "      <td>0.309524</td>\n",
       "      <td>0.285714</td>\n",
       "    </tr>\n",
       "    <tr>\n",
       "      <th>4014989</th>\n",
       "      <td>OH0012755104</td>\n",
       "      <td>35</td>\n",
       "      <td>9703547</td>\n",
       "      <td>SALAZ</td>\n",
       "      <td>DEBORAH</td>\n",
       "      <td>ANN</td>\n",
       "      <td>None</td>\n",
       "      <td>1967-01-01</td>\n",
       "      <td>2013-11-04</td>\n",
       "      <td>CONFIRMATION</td>\n",
       "      <td>...</td>\n",
       "      <td>17</td>\n",
       "      <td>0</td>\n",
       "      <td>0</td>\n",
       "      <td>0</td>\n",
       "      <td>9</td>\n",
       "      <td>0</td>\n",
       "      <td>17</td>\n",
       "      <td>0.000000</td>\n",
       "      <td>0.000000</td>\n",
       "      <td>0.000000</td>\n",
       "    </tr>\n",
       "    <tr>\n",
       "      <th>1725894</th>\n",
       "      <td>OH0024308185</td>\n",
       "      <td>18</td>\n",
       "      <td>2795376</td>\n",
       "      <td>FILLINGER</td>\n",
       "      <td>APRIL</td>\n",
       "      <td>M</td>\n",
       "      <td>None</td>\n",
       "      <td>1984-04-13</td>\n",
       "      <td>2019-07-29</td>\n",
       "      <td>ACTIVE</td>\n",
       "      <td>...</td>\n",
       "      <td>0</td>\n",
       "      <td>0</td>\n",
       "      <td>0</td>\n",
       "      <td>0</td>\n",
       "      <td>0</td>\n",
       "      <td>0</td>\n",
       "      <td>0</td>\n",
       "      <td>0.000000</td>\n",
       "      <td>0.000000</td>\n",
       "      <td>0.000000</td>\n",
       "    </tr>\n",
       "    <tr>\n",
       "      <th>5681778</th>\n",
       "      <td>OH0011286179</td>\n",
       "      <td>57</td>\n",
       "      <td>9027637</td>\n",
       "      <td>MADISON</td>\n",
       "      <td>TOSHA</td>\n",
       "      <td>J</td>\n",
       "      <td>None</td>\n",
       "      <td>1968-12-30</td>\n",
       "      <td>1992-12-11</td>\n",
       "      <td>ACTIVE</td>\n",
       "      <td>...</td>\n",
       "      <td>60</td>\n",
       "      <td>3</td>\n",
       "      <td>37</td>\n",
       "      <td>6</td>\n",
       "      <td>42</td>\n",
       "      <td>10</td>\n",
       "      <td>35</td>\n",
       "      <td>0.081081</td>\n",
       "      <td>0.142857</td>\n",
       "      <td>0.285714</td>\n",
       "    </tr>\n",
       "    <tr>\n",
       "      <th>6332939</th>\n",
       "      <td>OH0012606715</td>\n",
       "      <td>81</td>\n",
       "      <td>111114390</td>\n",
       "      <td>BRINCEFIELD</td>\n",
       "      <td>ALISHA</td>\n",
       "      <td>K</td>\n",
       "      <td>None</td>\n",
       "      <td>1983-07-18</td>\n",
       "      <td>2002-03-15</td>\n",
       "      <td>ACTIVE</td>\n",
       "      <td>...</td>\n",
       "      <td>56</td>\n",
       "      <td>10</td>\n",
       "      <td>35</td>\n",
       "      <td>8</td>\n",
       "      <td>42</td>\n",
       "      <td>5</td>\n",
       "      <td>35</td>\n",
       "      <td>0.285714</td>\n",
       "      <td>0.190476</td>\n",
       "      <td>0.142857</td>\n",
       "    </tr>\n",
       "    <tr>\n",
       "      <th>4926899</th>\n",
       "      <td>OH0012596665</td>\n",
       "      <td>54</td>\n",
       "      <td>78000261</td>\n",
       "      <td>WEAVER</td>\n",
       "      <td>LARRY</td>\n",
       "      <td>DEAN</td>\n",
       "      <td>None</td>\n",
       "      <td>1957-05-22</td>\n",
       "      <td>1978-01-23</td>\n",
       "      <td>ACTIVE</td>\n",
       "      <td>...</td>\n",
       "      <td>60</td>\n",
       "      <td>16</td>\n",
       "      <td>37</td>\n",
       "      <td>16</td>\n",
       "      <td>42</td>\n",
       "      <td>17</td>\n",
       "      <td>35</td>\n",
       "      <td>0.432432</td>\n",
       "      <td>0.380952</td>\n",
       "      <td>0.485714</td>\n",
       "    </tr>\n",
       "    <tr>\n",
       "      <th>7582060</th>\n",
       "      <td>OH0023622340</td>\n",
       "      <td>67</td>\n",
       "      <td>9827482</td>\n",
       "      <td>PIZZINO</td>\n",
       "      <td>DAWSON</td>\n",
       "      <td>ANTHONY</td>\n",
       "      <td>None</td>\n",
       "      <td>1998-03-23</td>\n",
       "      <td>2016-03-29</td>\n",
       "      <td>ACTIVE</td>\n",
       "      <td>...</td>\n",
       "      <td>10</td>\n",
       "      <td>0</td>\n",
       "      <td>0</td>\n",
       "      <td>0</td>\n",
       "      <td>2</td>\n",
       "      <td>0</td>\n",
       "      <td>10</td>\n",
       "      <td>0.000000</td>\n",
       "      <td>0.000000</td>\n",
       "      <td>0.000000</td>\n",
       "    </tr>\n",
       "    <tr>\n",
       "      <th>3344764</th>\n",
       "      <td>OH0020902181</td>\n",
       "      <td>25</td>\n",
       "      <td>90021235</td>\n",
       "      <td>LEDONNE</td>\n",
       "      <td>GARRETT</td>\n",
       "      <td>ANTHONY</td>\n",
       "      <td>None</td>\n",
       "      <td>1990-11-07</td>\n",
       "      <td>2015-10-05</td>\n",
       "      <td>ACTIVE</td>\n",
       "      <td>...</td>\n",
       "      <td>12</td>\n",
       "      <td>0</td>\n",
       "      <td>0</td>\n",
       "      <td>2</td>\n",
       "      <td>4</td>\n",
       "      <td>8</td>\n",
       "      <td>12</td>\n",
       "      <td>0.000000</td>\n",
       "      <td>0.500000</td>\n",
       "      <td>0.666667</td>\n",
       "    </tr>\n",
       "    <tr>\n",
       "      <th>4162532</th>\n",
       "      <td>OH0019344227</td>\n",
       "      <td>43</td>\n",
       "      <td>325494</td>\n",
       "      <td>PEARCE</td>\n",
       "      <td>MICHAEL</td>\n",
       "      <td>T</td>\n",
       "      <td>None</td>\n",
       "      <td>1989-11-28</td>\n",
       "      <td>2007-11-27</td>\n",
       "      <td>CONFIRMATION</td>\n",
       "      <td>...</td>\n",
       "      <td>39</td>\n",
       "      <td>1</td>\n",
       "      <td>18</td>\n",
       "      <td>2</td>\n",
       "      <td>31</td>\n",
       "      <td>1</td>\n",
       "      <td>35</td>\n",
       "      <td>0.055556</td>\n",
       "      <td>0.064516</td>\n",
       "      <td>0.028571</td>\n",
       "    </tr>\n",
       "    <tr>\n",
       "      <th>5186253</th>\n",
       "      <td>OH0019799410</td>\n",
       "      <td>48</td>\n",
       "      <td>99115145</td>\n",
       "      <td>MILES</td>\n",
       "      <td>MARCUS</td>\n",
       "      <td>J</td>\n",
       "      <td>None</td>\n",
       "      <td>1990-08-07</td>\n",
       "      <td>2008-06-23</td>\n",
       "      <td>ACTIVE</td>\n",
       "      <td>...</td>\n",
       "      <td>37</td>\n",
       "      <td>1</td>\n",
       "      <td>16</td>\n",
       "      <td>2</td>\n",
       "      <td>29</td>\n",
       "      <td>1</td>\n",
       "      <td>35</td>\n",
       "      <td>0.062500</td>\n",
       "      <td>0.068966</td>\n",
       "      <td>0.028571</td>\n",
       "    </tr>\n",
       "    <tr>\n",
       "      <th>4959798</th>\n",
       "      <td>OH0019352351</td>\n",
       "      <td>48</td>\n",
       "      <td>99101329</td>\n",
       "      <td>CONN</td>\n",
       "      <td>BRIAN</td>\n",
       "      <td>E</td>\n",
       "      <td>None</td>\n",
       "      <td>1988-09-14</td>\n",
       "      <td>2007-11-05</td>\n",
       "      <td>CONFIRMATION</td>\n",
       "      <td>...</td>\n",
       "      <td>41</td>\n",
       "      <td>1</td>\n",
       "      <td>20</td>\n",
       "      <td>4</td>\n",
       "      <td>33</td>\n",
       "      <td>3</td>\n",
       "      <td>35</td>\n",
       "      <td>0.050000</td>\n",
       "      <td>0.121212</td>\n",
       "      <td>0.085714</td>\n",
       "    </tr>\n",
       "    <tr>\n",
       "      <th>6143424</th>\n",
       "      <td>OH0021134032</td>\n",
       "      <td>70</td>\n",
       "      <td>100026732</td>\n",
       "      <td>HOFFMAN</td>\n",
       "      <td>DAWN</td>\n",
       "      <td>MARIE</td>\n",
       "      <td>None</td>\n",
       "      <td>1972-02-14</td>\n",
       "      <td>2017-02-21</td>\n",
       "      <td>ACTIVE</td>\n",
       "      <td>...</td>\n",
       "      <td>7</td>\n",
       "      <td>0</td>\n",
       "      <td>0</td>\n",
       "      <td>0</td>\n",
       "      <td>0</td>\n",
       "      <td>0</td>\n",
       "      <td>7</td>\n",
       "      <td>0.000000</td>\n",
       "      <td>0.000000</td>\n",
       "      <td>0.000000</td>\n",
       "    </tr>\n",
       "    <tr>\n",
       "      <th>3747123</th>\n",
       "      <td>OH0024406031</td>\n",
       "      <td>23</td>\n",
       "      <td>216977</td>\n",
       "      <td>MARTIN</td>\n",
       "      <td>ABBIGAIL</td>\n",
       "      <td>PAIGE</td>\n",
       "      <td>None</td>\n",
       "      <td>1999-09-02</td>\n",
       "      <td>2017-10-06</td>\n",
       "      <td>ACTIVE</td>\n",
       "      <td>...</td>\n",
       "      <td>5</td>\n",
       "      <td>0</td>\n",
       "      <td>0</td>\n",
       "      <td>0</td>\n",
       "      <td>0</td>\n",
       "      <td>1</td>\n",
       "      <td>5</td>\n",
       "      <td>0.000000</td>\n",
       "      <td>0.000000</td>\n",
       "      <td>0.200000</td>\n",
       "    </tr>\n",
       "    <tr>\n",
       "      <th>6511910</th>\n",
       "      <td>OH0010575923</td>\n",
       "      <td>77</td>\n",
       "      <td>625561</td>\n",
       "      <td>WALTERS</td>\n",
       "      <td>VIVIAN</td>\n",
       "      <td>Q</td>\n",
       "      <td>None</td>\n",
       "      <td>1952-01-01</td>\n",
       "      <td>1993-04-06</td>\n",
       "      <td>ACTIVE</td>\n",
       "      <td>...</td>\n",
       "      <td>60</td>\n",
       "      <td>12</td>\n",
       "      <td>37</td>\n",
       "      <td>11</td>\n",
       "      <td>42</td>\n",
       "      <td>9</td>\n",
       "      <td>35</td>\n",
       "      <td>0.324324</td>\n",
       "      <td>0.261905</td>\n",
       "      <td>0.257143</td>\n",
       "    </tr>\n",
       "    <tr>\n",
       "      <th>6202579</th>\n",
       "      <td>OH0012179658</td>\n",
       "      <td>67</td>\n",
       "      <td>9207236</td>\n",
       "      <td>COOLEY</td>\n",
       "      <td>CHARLES</td>\n",
       "      <td>F</td>\n",
       "      <td>JR</td>\n",
       "      <td>1969-06-06</td>\n",
       "      <td>1992-09-22</td>\n",
       "      <td>ACTIVE</td>\n",
       "      <td>...</td>\n",
       "      <td>60</td>\n",
       "      <td>4</td>\n",
       "      <td>37</td>\n",
       "      <td>5</td>\n",
       "      <td>42</td>\n",
       "      <td>7</td>\n",
       "      <td>35</td>\n",
       "      <td>0.108108</td>\n",
       "      <td>0.119048</td>\n",
       "      <td>0.200000</td>\n",
       "    </tr>\n",
       "    <tr>\n",
       "      <th>7333961</th>\n",
       "      <td>OH0020098224</td>\n",
       "      <td>83</td>\n",
       "      <td>210561</td>\n",
       "      <td>SINGH</td>\n",
       "      <td>NIRMALA</td>\n",
       "      <td>None</td>\n",
       "      <td>None</td>\n",
       "      <td>1940-03-07</td>\n",
       "      <td>2016-03-25</td>\n",
       "      <td>CONFIRMATION</td>\n",
       "      <td>...</td>\n",
       "      <td>10</td>\n",
       "      <td>0</td>\n",
       "      <td>0</td>\n",
       "      <td>0</td>\n",
       "      <td>2</td>\n",
       "      <td>2</td>\n",
       "      <td>10</td>\n",
       "      <td>0.000000</td>\n",
       "      <td>0.000000</td>\n",
       "      <td>0.200000</td>\n",
       "    </tr>\n",
       "    <tr>\n",
       "      <th>6769214</th>\n",
       "      <td>OH0024524880</td>\n",
       "      <td>83</td>\n",
       "      <td>293331</td>\n",
       "      <td>GOODWIN</td>\n",
       "      <td>WILLIAM</td>\n",
       "      <td>ANGELO</td>\n",
       "      <td>None</td>\n",
       "      <td>1968-02-24</td>\n",
       "      <td>2018-03-07</td>\n",
       "      <td>ACTIVE</td>\n",
       "      <td>...</td>\n",
       "      <td>4</td>\n",
       "      <td>0</td>\n",
       "      <td>0</td>\n",
       "      <td>0</td>\n",
       "      <td>0</td>\n",
       "      <td>1</td>\n",
       "      <td>4</td>\n",
       "      <td>0.000000</td>\n",
       "      <td>0.000000</td>\n",
       "      <td>0.250000</td>\n",
       "    </tr>\n",
       "  </tbody>\n",
       "</table>\n",
       "<p>20 rows × 120 columns</p>\n",
       "</div>"
      ],
      "text/plain": [
       "          SOS_VOTERID  COUNTY_NUMBER  COUNTY_ID    LAST_NAME  FIRST_NAME  \\\n",
       "7505750  OH0024731553             84   10235287        ALLEN      LAUREN   \n",
       "4365076  OH0024725632             32     150137     MISAMORE       ETHAN   \n",
       "3926070  OH0017268664             25  772404623      MONTESI     SHIRLEY   \n",
       "3365988  OH0014011949             31     113782      WINFREY  MARCELLENE   \n",
       "4014989  OH0012755104             35    9703547        SALAZ     DEBORAH   \n",
       "1725894  OH0024308185             18    2795376    FILLINGER       APRIL   \n",
       "5681778  OH0011286179             57    9027637      MADISON       TOSHA   \n",
       "6332939  OH0012606715             81  111114390  BRINCEFIELD      ALISHA   \n",
       "4926899  OH0012596665             54   78000261       WEAVER       LARRY   \n",
       "7582060  OH0023622340             67    9827482      PIZZINO      DAWSON   \n",
       "3344764  OH0020902181             25   90021235      LEDONNE     GARRETT   \n",
       "4162532  OH0019344227             43     325494       PEARCE     MICHAEL   \n",
       "5186253  OH0019799410             48   99115145        MILES      MARCUS   \n",
       "4959798  OH0019352351             48   99101329         CONN       BRIAN   \n",
       "6143424  OH0021134032             70  100026732      HOFFMAN        DAWN   \n",
       "3747123  OH0024406031             23     216977       MARTIN    ABBIGAIL   \n",
       "6511910  OH0010575923             77     625561      WALTERS      VIVIAN   \n",
       "6202579  OH0012179658             67    9207236       COOLEY     CHARLES   \n",
       "7333961  OH0020098224             83     210561        SINGH     NIRMALA   \n",
       "6769214  OH0024524880             83     293331      GOODWIN     WILLIAM   \n",
       "\n",
       "        MIDDLE_NAME SUFFIX DATE_OF_BIRTH REGISTRATION_DATE  VOTER_STATUS  ...  \\\n",
       "7505750      MCCALL   None    2000-03-03        2018-08-24        ACTIVE  ...   \n",
       "4365076        None   None    1998-12-26        2017-04-23        ACTIVE  ...   \n",
       "3926070           A   None    1950-08-05        1900-01-01        ACTIVE  ...   \n",
       "3365988           S   None    1949-12-04        1989-07-17        ACTIVE  ...   \n",
       "4014989         ANN   None    1967-01-01        2013-11-04  CONFIRMATION  ...   \n",
       "1725894           M   None    1984-04-13        2019-07-29        ACTIVE  ...   \n",
       "5681778           J   None    1968-12-30        1992-12-11        ACTIVE  ...   \n",
       "6332939           K   None    1983-07-18        2002-03-15        ACTIVE  ...   \n",
       "4926899        DEAN   None    1957-05-22        1978-01-23        ACTIVE  ...   \n",
       "7582060     ANTHONY   None    1998-03-23        2016-03-29        ACTIVE  ...   \n",
       "3344764     ANTHONY   None    1990-11-07        2015-10-05        ACTIVE  ...   \n",
       "4162532           T   None    1989-11-28        2007-11-27  CONFIRMATION  ...   \n",
       "5186253           J   None    1990-08-07        2008-06-23        ACTIVE  ...   \n",
       "4959798           E   None    1988-09-14        2007-11-05  CONFIRMATION  ...   \n",
       "6143424       MARIE   None    1972-02-14        2017-02-21        ACTIVE  ...   \n",
       "3747123       PAIGE   None    1999-09-02        2017-10-06        ACTIVE  ...   \n",
       "6511910           Q   None    1952-01-01        1993-04-06        ACTIVE  ...   \n",
       "6202579           F     JR    1969-06-06        1992-09-22        ACTIVE  ...   \n",
       "7333961        None   None    1940-03-07        2016-03-25  CONFIRMATION  ...   \n",
       "6769214      ANGELO   None    1968-02-24        2018-03-07        ACTIVE  ...   \n",
       "\n",
       "        N_ELIGIBLE N_VOTED_ELIGIBLE_2012 N_ELIGIBLE_2012  \\\n",
       "7505750          2                     0               0   \n",
       "4365076          7                     0               0   \n",
       "3926070         60                    16              37   \n",
       "3365988         60                    15              37   \n",
       "4014989         17                     0               0   \n",
       "1725894          0                     0               0   \n",
       "5681778         60                     3              37   \n",
       "6332939         56                    10              35   \n",
       "4926899         60                    16              37   \n",
       "7582060         10                     0               0   \n",
       "3344764         12                     0               0   \n",
       "4162532         39                     1              18   \n",
       "5186253         37                     1              16   \n",
       "4959798         41                     1              20   \n",
       "6143424          7                     0               0   \n",
       "3747123          5                     0               0   \n",
       "6511910         60                    12              37   \n",
       "6202579         60                     4              37   \n",
       "7333961         10                     0               0   \n",
       "6769214          4                     0               0   \n",
       "\n",
       "        N_VOTED_ELIGIBLE_2016 N_ELIGIBLE_2016  N_VOTED_ELIGIBLE_2020  \\\n",
       "7505750                     0               0                      0   \n",
       "4365076                     0               0                      0   \n",
       "3926070                    15              42                     14   \n",
       "3365988                    13              42                     10   \n",
       "4014989                     0               9                      0   \n",
       "1725894                     0               0                      0   \n",
       "5681778                     6              42                     10   \n",
       "6332939                     8              42                      5   \n",
       "4926899                    16              42                     17   \n",
       "7582060                     0               2                      0   \n",
       "3344764                     2               4                      8   \n",
       "4162532                     2              31                      1   \n",
       "5186253                     2              29                      1   \n",
       "4959798                     4              33                      3   \n",
       "6143424                     0               0                      0   \n",
       "3747123                     0               0                      1   \n",
       "6511910                    11              42                      9   \n",
       "6202579                     5              42                      7   \n",
       "7333961                     0               2                      2   \n",
       "6769214                     0               0                      1   \n",
       "\n",
       "         N_ELIGIBLE_2020  RATIO_2012  RATIO_2016 RATIO_2020  \n",
       "7505750                2    0.000000    0.000000   0.000000  \n",
       "4365076                7    0.000000    0.000000   0.000000  \n",
       "3926070               35    0.432432    0.357143   0.400000  \n",
       "3365988               35    0.405405    0.309524   0.285714  \n",
       "4014989               17    0.000000    0.000000   0.000000  \n",
       "1725894                0    0.000000    0.000000   0.000000  \n",
       "5681778               35    0.081081    0.142857   0.285714  \n",
       "6332939               35    0.285714    0.190476   0.142857  \n",
       "4926899               35    0.432432    0.380952   0.485714  \n",
       "7582060               10    0.000000    0.000000   0.000000  \n",
       "3344764               12    0.000000    0.500000   0.666667  \n",
       "4162532               35    0.055556    0.064516   0.028571  \n",
       "5186253               35    0.062500    0.068966   0.028571  \n",
       "4959798               35    0.050000    0.121212   0.085714  \n",
       "6143424                7    0.000000    0.000000   0.000000  \n",
       "3747123                5    0.000000    0.000000   0.200000  \n",
       "6511910               35    0.324324    0.261905   0.257143  \n",
       "6202579               35    0.108108    0.119048   0.200000  \n",
       "7333961               10    0.000000    0.000000   0.200000  \n",
       "6769214                4    0.000000    0.000000   0.250000  \n",
       "\n",
       "[20 rows x 120 columns]"
      ]
     },
     "execution_count": 36,
     "metadata": {},
     "output_type": "execute_result"
    }
   ],
   "source": [
    "df_test.groupby(['GENERAL-11/06/2012','GENERAL-11/08/2016']).head()"
   ]
  },
  {
   "cell_type": "code",
   "execution_count": null,
   "metadata": {},
   "outputs": [],
   "source": [
    "traits_2020=['AGE_2020','GENERAL-11/08/2016','RATIO_2020']"
   ]
  },
  {
   "cell_type": "code",
   "execution_count": 4,
   "metadata": {},
   "outputs": [
    {
     "data": {
      "text/plain": [
       "GENERAL-11/06/2012  GENERAL-11/08/2016\n",
       "-1                  -1                    1755906\n",
       "                    X                     1070792\n",
       "X                   -1                     670999\n",
       "                    X                     4327688\n",
       "dtype: int64"
      ]
     },
     "execution_count": 4,
     "metadata": {},
     "output_type": "execute_result"
    }
   ],
   "source": [
    "oh_df.fillna('-1').groupby(['GENERAL-11/06/2012','GENERAL-11/08/2016']).size()"
   ]
  },
  {
   "cell_type": "code",
   "execution_count": 62,
   "metadata": {},
   "outputs": [
    {
     "name": "stdout",
     "output_type": "stream",
     "text": [
      "0.777417852284584\n"
     ]
    }
   ],
   "source": [
    "nn=1755906\n",
    "ny=1070792\n",
    "yn=670999\n",
    "yy=4327688\n",
    "tot=nn+ny+yn+yy\n",
    "print((nn+yy)/tot)\n",
    "#77.74% predictive power in whole dataset"
   ]
  },
  {
   "cell_type": "code",
   "execution_count": 184,
   "metadata": {},
   "outputs": [
    {
     "name": "stdout",
     "output_type": "stream",
     "text": [
      "0.22438589283466565\n",
      "0.13683569562392137\n",
      "0.08574645209149453\n",
      "0.5530319594499185\n"
     ]
    }
   ],
   "source": [
    "print(nn/tot)\n",
    "print(ny/tot)\n",
    "print(yn/tot)\n",
    "print(yy/tot)"
   ]
  },
  {
   "cell_type": "code",
   "execution_count": 185,
   "metadata": {},
   "outputs": [
    {
     "data": {
      "text/plain": [
       "100"
      ]
     },
     "execution_count": 185,
     "metadata": {},
     "output_type": "execute_result"
    }
   ],
   "source": [
    "22+14+9+55"
   ]
  },
  {
   "cell_type": "code",
   "execution_count": 211,
   "metadata": {},
   "outputs": [
    {
     "data": {
      "image/png": "[encoded data removed]",
      "text/plain": [
       "<Figure size 432x288 with 1 Axes>"
      ]
     },
     "metadata": {
      "needs_background": "light"
     },
     "output_type": "display_data"
    }
   ],
   "source": [
    "import matplotlib.patches as mpatches\n",
    "\n",
    "s=pd.Series([nn,ny,yn,yy],index=['Both no','No 2012\\nYes 2016','Yes 2012\\nNo 2016','Both yes'])\n",
    "c=['slategrey','lightblue','lightblue','slategrey']\n",
    "s.plot(kind='bar',color=c)\n",
    "plt.xticks(rotation=360)\n",
    "agree=mpatches.Patch(color='slategrey', label='Agree')\n",
    "disagree=mpatches.Patch(color='lightblue',label='Disagree')\n",
    "plt.legend(handles=[agree,disagree])\n",
    "plt.show()"
   ]
  },
  {
   "cell_type": "code",
   "execution_count": null,
   "metadata": {},
   "outputs": [],
   "source": []
  }
 ],
 "metadata": {
  "kernelspec": {
   "display_name": "Python 3",
   "language": "python",
   "name": "python3"
  },
  "language_info": {
   "codemirror_mode": {
    "name": "ipython",
    "version": 3
   },
   "file_extension": ".py",
   "mimetype": "text/x-python",
   "name": "python",
   "nbconvert_exporter": "python",
   "pygments_lexer": "ipython3",
   "version": "3.7.4"
  }
 },
 "nbformat": 4,
 "nbformat_minor": 2
}
