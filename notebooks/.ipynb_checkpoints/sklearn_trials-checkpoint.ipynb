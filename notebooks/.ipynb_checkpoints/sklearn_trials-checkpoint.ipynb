{
 "cells": [
  {
   "cell_type": "markdown",
   "metadata": {},
   "source": [
    "This notebook was used to 1) test a function for splitting the training and validation splitting, and 2) to create the fraction of elections voted in feature."
   ]
  },
  {
   "cell_type": "code",
   "execution_count": 1,
   "metadata": {},
   "outputs": [],
   "source": [
    "data_path = '/Volumes/FileStorage/Insight_data/'\n",
    "ohio_path = '/Volumes/FileStorage/Insight_data/Ohio_data/data_feather/'"
   ]
  },
  {
   "cell_type": "code",
   "execution_count": 2,
   "metadata": {},
   "outputs": [],
   "source": [
    "import numpy as np\n",
    "import pandas as pd\n",
    "import pickle\n",
    "import feather\n",
    "from sklearn.model_selection import train_test_split"
   ]
  },
  {
   "cell_type": "code",
   "execution_count": 3,
   "metadata": {},
   "outputs": [],
   "source": [
    "oh1_df = feather.read_dataframe(ohio_path+'SWVF_1_22.feather')\n",
    "oh2_df = feather.read_dataframe(ohio_path+'SWVF_23_44.feather')\n",
    "oh3_df = feather.read_dataframe(ohio_path+'SWVF_45_66.feather')\n",
    "oh4_df = feather.read_dataframe(ohio_path+'SWVF_67_88.feather')"
   ]
  },
  {
   "cell_type": "code",
   "execution_count": 4,
   "metadata": {},
   "outputs": [],
   "source": [
    "#https://stackoverflow.com/questions/38250710/how-to-split-data-into-3-sets-train-validation-and-test\n",
    "def train_validate_test_split(df, train_percent=.6, validate_percent=.2, seed=None):\n",
    "    np.random.seed(seed)\n",
    "    perm = np.random.permutation(df.index)\n",
    "    m = len(df.index)\n",
    "    train_end = int(train_percent * m)\n",
    "    validate_end = int(validate_percent * m) + train_end\n",
    "    train = df.iloc[perm[:train_end]]\n",
    "    validate = df.iloc[perm[train_end:validate_end]]\n",
    "    test = df.iloc[perm[validate_end:]]\n",
    "    return train, validate, test"
   ]
  },
  {
   "cell_type": "code",
   "execution_count": 5,
   "metadata": {},
   "outputs": [],
   "source": [
    "oh_df = pd.concat([oh1_df,oh2_df,oh3_df,oh4_df])"
   ]
  },
  {
   "cell_type": "code",
   "execution_count": 6,
   "metadata": {},
   "outputs": [],
   "source": [
    "oh_train, oh_validate, oh_test = train_validate_test_split(oh_df,seed=1)"
   ]
  },
  {
   "cell_type": "code",
   "execution_count": 7,
   "metadata": {},
   "outputs": [
    {
     "data": {
      "text/html": [
       "<div>\n",
       "<style scoped>\n",
       "    .dataframe tbody tr th:only-of-type {\n",
       "        vertical-align: middle;\n",
       "    }\n",
       "\n",
       "    .dataframe tbody tr th {\n",
       "        vertical-align: top;\n",
       "    }\n",
       "\n",
       "    .dataframe thead th {\n",
       "        text-align: right;\n",
       "    }\n",
       "</style>\n",
       "<table border=\"1\" class=\"dataframe\">\n",
       "  <thead>\n",
       "    <tr style=\"text-align: right;\">\n",
       "      <th></th>\n",
       "      <th>SOS_VOTERID</th>\n",
       "      <th>COUNTY_NUMBER</th>\n",
       "      <th>COUNTY_ID</th>\n",
       "      <th>LAST_NAME</th>\n",
       "      <th>FIRST_NAME</th>\n",
       "      <th>MIDDLE_NAME</th>\n",
       "      <th>SUFFIX</th>\n",
       "      <th>DATE_OF_BIRTH</th>\n",
       "      <th>REGISTRATION_DATE</th>\n",
       "      <th>VOTER_STATUS</th>\n",
       "      <th>...</th>\n",
       "      <th>GENERAL-06/07/2016</th>\n",
       "      <th>PRIMARY-09/13/2016</th>\n",
       "      <th>GENERAL-11/08/2016</th>\n",
       "      <th>PRIMARY-05/02/2017</th>\n",
       "      <th>PRIMARY-09/12/2017</th>\n",
       "      <th>GENERAL-11/07/2017</th>\n",
       "      <th>PRIMARY-05/08/2018</th>\n",
       "      <th>GENERAL-08/07/2018</th>\n",
       "      <th>GENERAL-11/06/2018</th>\n",
       "      <th>PRIMARY-05/07/2019</th>\n",
       "    </tr>\n",
       "  </thead>\n",
       "  <tbody>\n",
       "    <tr>\n",
       "      <th>44919</th>\n",
       "      <td>OH0022572078</td>\n",
       "      <td>23</td>\n",
       "      <td>187017</td>\n",
       "      <td>HOUK</td>\n",
       "      <td>LYNNAE</td>\n",
       "      <td>S</td>\n",
       "      <td>None</td>\n",
       "      <td>1965-10-12</td>\n",
       "      <td>2016-09-03</td>\n",
       "      <td>ACTIVE</td>\n",
       "      <td>...</td>\n",
       "      <td>None</td>\n",
       "      <td>None</td>\n",
       "      <td>X</td>\n",
       "      <td>None</td>\n",
       "      <td>None</td>\n",
       "      <td>None</td>\n",
       "      <td>None</td>\n",
       "      <td>None</td>\n",
       "      <td>None</td>\n",
       "      <td>None</td>\n",
       "    </tr>\n",
       "    <tr>\n",
       "      <th>350613</th>\n",
       "      <td>OH0011542577</td>\n",
       "      <td>15</td>\n",
       "      <td>9907343</td>\n",
       "      <td>PARKES</td>\n",
       "      <td>LINDA</td>\n",
       "      <td>L</td>\n",
       "      <td>None</td>\n",
       "      <td>1955-09-24</td>\n",
       "      <td>1998-09-26</td>\n",
       "      <td>ACTIVE</td>\n",
       "      <td>...</td>\n",
       "      <td>None</td>\n",
       "      <td>None</td>\n",
       "      <td>X</td>\n",
       "      <td>None</td>\n",
       "      <td>None</td>\n",
       "      <td>X</td>\n",
       "      <td>None</td>\n",
       "      <td>None</td>\n",
       "      <td>X</td>\n",
       "      <td>None</td>\n",
       "    </tr>\n",
       "    <tr>\n",
       "      <th>1715811</th>\n",
       "      <td>OH0023206328</td>\n",
       "      <td>9</td>\n",
       "      <td>611018</td>\n",
       "      <td>BYRD</td>\n",
       "      <td>ERIC</td>\n",
       "      <td>WAYNE</td>\n",
       "      <td>None</td>\n",
       "      <td>1994-07-02</td>\n",
       "      <td>2018-09-17</td>\n",
       "      <td>ACTIVE</td>\n",
       "      <td>...</td>\n",
       "      <td>None</td>\n",
       "      <td>None</td>\n",
       "      <td>None</td>\n",
       "      <td>None</td>\n",
       "      <td>None</td>\n",
       "      <td>None</td>\n",
       "      <td>None</td>\n",
       "      <td>None</td>\n",
       "      <td>X</td>\n",
       "      <td>None</td>\n",
       "    </tr>\n",
       "    <tr>\n",
       "      <th>329574</th>\n",
       "      <td>OH0016396163</td>\n",
       "      <td>2</td>\n",
       "      <td>71069</td>\n",
       "      <td>HALL</td>\n",
       "      <td>JULIE</td>\n",
       "      <td>A</td>\n",
       "      <td>None</td>\n",
       "      <td>1964-12-02</td>\n",
       "      <td>2001-10-10</td>\n",
       "      <td>ACTIVE</td>\n",
       "      <td>...</td>\n",
       "      <td>None</td>\n",
       "      <td>None</td>\n",
       "      <td>X</td>\n",
       "      <td>None</td>\n",
       "      <td>None</td>\n",
       "      <td>None</td>\n",
       "      <td>R</td>\n",
       "      <td>None</td>\n",
       "      <td>X</td>\n",
       "      <td>None</td>\n",
       "    </tr>\n",
       "    <tr>\n",
       "      <th>916210</th>\n",
       "      <td>OH0011586083</td>\n",
       "      <td>10</td>\n",
       "      <td>7801452</td>\n",
       "      <td>WASEMAN</td>\n",
       "      <td>HARRY</td>\n",
       "      <td>S</td>\n",
       "      <td>None</td>\n",
       "      <td>1944-09-29</td>\n",
       "      <td>1978-02-07</td>\n",
       "      <td>ACTIVE</td>\n",
       "      <td>...</td>\n",
       "      <td>None</td>\n",
       "      <td>None</td>\n",
       "      <td>X</td>\n",
       "      <td>None</td>\n",
       "      <td>None</td>\n",
       "      <td>X</td>\n",
       "      <td>R</td>\n",
       "      <td>X</td>\n",
       "      <td>X</td>\n",
       "      <td>None</td>\n",
       "    </tr>\n",
       "  </tbody>\n",
       "</table>\n",
       "<p>5 rows × 106 columns</p>\n",
       "</div>"
      ],
      "text/plain": [
       "          SOS_VOTERID  COUNTY_NUMBER  COUNTY_ID LAST_NAME FIRST_NAME  \\\n",
       "44919    OH0022572078             23     187017      HOUK     LYNNAE   \n",
       "350613   OH0011542577             15    9907343    PARKES      LINDA   \n",
       "1715811  OH0023206328              9     611018      BYRD       ERIC   \n",
       "329574   OH0016396163              2      71069      HALL      JULIE   \n",
       "916210   OH0011586083             10    7801452   WASEMAN      HARRY   \n",
       "\n",
       "        MIDDLE_NAME SUFFIX DATE_OF_BIRTH REGISTRATION_DATE VOTER_STATUS  ...  \\\n",
       "44919             S   None    1965-10-12        2016-09-03       ACTIVE  ...   \n",
       "350613            L   None    1955-09-24        1998-09-26       ACTIVE  ...   \n",
       "1715811       WAYNE   None    1994-07-02        2018-09-17       ACTIVE  ...   \n",
       "329574            A   None    1964-12-02        2001-10-10       ACTIVE  ...   \n",
       "916210            S   None    1944-09-29        1978-02-07       ACTIVE  ...   \n",
       "\n",
       "        GENERAL-06/07/2016 PRIMARY-09/13/2016 GENERAL-11/08/2016  \\\n",
       "44919                 None               None                  X   \n",
       "350613                None               None                  X   \n",
       "1715811               None               None               None   \n",
       "329574                None               None                  X   \n",
       "916210                None               None                  X   \n",
       "\n",
       "        PRIMARY-05/02/2017 PRIMARY-09/12/2017  GENERAL-11/07/2017  \\\n",
       "44919                 None               None                None   \n",
       "350613                None               None                   X   \n",
       "1715811               None               None                None   \n",
       "329574                None               None                None   \n",
       "916210                None               None                   X   \n",
       "\n",
       "         PRIMARY-05/08/2018  GENERAL-08/07/2018  GENERAL-11/06/2018  \\\n",
       "44919                  None                None                None   \n",
       "350613                 None                None                   X   \n",
       "1715811                None                None                   X   \n",
       "329574                    R                None                   X   \n",
       "916210                    R                   X                   X   \n",
       "\n",
       "        PRIMARY-05/07/2019  \n",
       "44919                 None  \n",
       "350613                None  \n",
       "1715811               None  \n",
       "329574                None  \n",
       "916210                None  \n",
       "\n",
       "[5 rows x 106 columns]"
      ]
     },
     "execution_count": 7,
     "metadata": {},
     "output_type": "execute_result"
    }
   ],
   "source": [
    "oh_train.head()"
   ]
  },
  {
   "cell_type": "code",
   "execution_count": 8,
   "metadata": {},
   "outputs": [],
   "source": [
    "from datetime import date, datetime"
   ]
  },
  {
   "cell_type": "code",
   "execution_count": 11,
   "metadata": {},
   "outputs": [],
   "source": [
    "#Calculate age at a particular election based on DOB\n",
    "def age_at_election(row, election='GENERAL-11/08/2016'):\n",
    "    el_date_str = election.split('-')[1]\n",
    "    el_obj = datetime.strptime(el_date_str, '%m/%d/%Y')\n",
    "    bd_obj = datetime.strptime(row['DATE_OF_BIRTH'], '%Y-%m-%d')\n",
    "    age = el_obj.year - bd_obj.year - ((el_obj.month, el_obj.day) < (bd_obj.month, bd_obj.day))\n",
    "    return age"
   ]
  },
  {
   "cell_type": "code",
   "execution_count": 12,
   "metadata": {},
   "outputs": [
    {
     "data": {
      "text/plain": [
       "46"
      ]
     },
     "execution_count": 12,
     "metadata": {},
     "output_type": "execute_result"
    }
   ],
   "source": [
    "age_at_election(oh_df.iloc[0])"
   ]
  },
  {
   "cell_type": "code",
   "execution_count": 13,
   "metadata": {},
   "outputs": [],
   "source": [
    "oh_df['AGE_2016'] = oh_df.apply (lambda row: age_at_election(row), axis=1)"
   ]
  },
  {
   "cell_type": "code",
   "execution_count": 18,
   "metadata": {},
   "outputs": [],
   "source": [
    "oh_df['AGE_2012'] = oh_df.apply (lambda row: age_at_election(row, election='GENERAL-11/06/2012'), axis=1)"
   ]
  },
  {
   "cell_type": "code",
   "execution_count": 19,
   "metadata": {},
   "outputs": [],
   "source": [
    "#2020 election date: Nov 3 2020\n",
    "oh_df['AGE_2020'] = oh_df.apply (lambda row: age_at_election(row, election='GENERAL-11/03/2020'), axis=1)"
   ]
  },
  {
   "cell_type": "code",
   "execution_count": 21,
   "metadata": {},
   "outputs": [],
   "source": [
    "election_list = []\n",
    "election_i = []\n",
    "general_list = []\n",
    "primary_list = []\n",
    "for key in oh_df:\n",
    "        if key[:7]=='GENERAL':\n",
    "                election_list.append(key)\n",
    "                general_list.append(key)\n",
    "        elif key[:7]=='PRIMARY':\n",
    "                election_list.append(key)\n",
    "                primary_list.append(key)\n",
    "        elif key[:7]=='SPECIAL':\n",
    "                election_list.append(key)"
   ]
  },
  {
   "cell_type": "code",
   "execution_count": 24,
   "metadata": {},
   "outputs": [],
   "source": [
    "#calculate N_voted/N_eligible\n",
    "def el_to_date(election):\n",
    "    el_date_str = election.split('-')[1]\n",
    "    el_obj = datetime.strptime(el_date_str, '%m/%d/%Y')\n",
    "    return el_obj\n",
    "date_list = [el_to_date(e) for e in election_list]\n",
    "date_dict = dict(zip(election_list, date_list))"
   ]
  },
  {
   "cell_type": "code",
   "execution_count": 95,
   "metadata": {},
   "outputs": [],
   "source": [
    "def n_eligible_voted(row, start_date, end_date):\n",
    "    reg_date = datetime.strptime(row['REGISTRATION_DATE'],'%Y-%m-%d')\n",
    "    eligible_list = [l for l in election_list if date_dict[l]>reg_date and date_dict[l]>start_date and date_dict[l]<end_date]\n",
    "    n_el = row[eligible_list].count()\n",
    "    return n_el"
   ]
  },
  {
   "cell_type": "code",
   "execution_count": 96,
   "metadata": {},
   "outputs": [],
   "source": [
    "def n_eligible(row, start_date, end_date):\n",
    "    reg_date = datetime.strptime(row['REGISTRATION_DATE'],'%Y-%m-%d')\n",
    "    eligible_list = [l for l in election_list if date_dict[l]>reg_date and date_dict[l]>start_date and date_dict[l]<end_date]\n",
    "    return len(eligible_list)"
   ]
  },
  {
   "cell_type": "code",
   "execution_count": 97,
   "metadata": {},
   "outputs": [],
   "source": [
    "date_2000=datetime(2000, 11, 7)\n",
    "date_2004=datetime(2004,11,2)\n",
    "date_2008=datetime(2008,11,4)\n",
    "date_2012=datetime(2012,11,6)\n",
    "date_2016=datetime(2016,11,8)\n",
    "date_2020=datetime(2020,11,3)"
   ]
  },
  {
   "cell_type": "code",
   "execution_count": 98,
   "metadata": {},
   "outputs": [],
   "source": [
    "%%capture\n",
    "from tqdm import tqdm_notebook as tqdm\n",
    "tqdm().pandas()"
   ]
  },
  {
   "cell_type": "code",
   "execution_count": 84,
   "metadata": {},
   "outputs": [
    {
     "data": {
      "application/vnd.jupyter.widget-view+json": {
       "model_id": "20f733abef2240b58ff25f4627363846",
       "version_major": 2,
       "version_minor": 0
      },
      "text/plain": [
       "HBox(children=(IntProgress(value=0, max=7825385), HTML(value='')))"
      ]
     },
     "metadata": {},
     "output_type": "display_data"
    },
    {
     "name": "stdout",
     "output_type": "stream",
     "text": [
      "\n"
     ]
    }
   ],
   "source": [
    "oh_df['N_VOTED_ELIGIBLE_2012'] = oh_df.progress_apply(lambda row: n_eligible_voted(row,date_2000,date_2012), axis=1)"
   ]
  },
  {
   "cell_type": "code",
   "execution_count": 99,
   "metadata": {},
   "outputs": [],
   "source": [
    "from multiprocessing import Pool"
   ]
  },
  {
   "cell_type": "code",
   "execution_count": 100,
   "metadata": {},
   "outputs": [],
   "source": [
    "def parallelize_dataframe(df, func, n_cores=4):\n",
    "    df_split = np.array_split(df, n_cores)\n",
    "    pool = Pool(n_cores)\n",
    "    df = pd.concat(pool.map(func, df_split))\n",
    "    pool.close()\n",
    "    pool.join()\n",
    "    return df"
   ]
  },
  {
   "cell_type": "code",
   "execution_count": 101,
   "metadata": {},
   "outputs": [],
   "source": [
    "def calculate_voter_el(df):\n",
    "    df['N_VOTED_ELIGIBLE_2012'] = oh_df.progress_apply(lambda row: n_eligible_voted(row,date_2000,date_2012), axis=1)\n",
    "    df['N_ELIGIBLE_2012'] = df.progress_apply(lambda row: n_eligible(row,date_2000,date_2012), axis=1)\n",
    "    df['N_VOTED_ELIGIBLE_2016'] = df.progress_apply(lambda row: n_eligible_voted(row,date_2004,date_2016), axis=1)\n",
    "    df['N_ELIGIBLE_2016'] = df.progress_apply(lambda row: n_eligible(row,date_2004,date_2016), axis=1)\n",
    "    df['N_VOTED_ELIGIBLE_2020'] = df.progress_apply(lambda row: n_eligible_voted(row,date_2008,date_2020), axis=1)\n",
    "    df['N_ELIGIBLE_2020'] = df.progress_apply(lambda row: n_eligible(row,date_2008,date_2020), axis=1)"
   ]
  },
  {
   "cell_type": "code",
   "execution_count": null,
   "metadata": {},
   "outputs": [],
   "source": [
    "oh_df_voter_n=parallelize_dataframe(oh_df,calculate_voter_el)"
   ]
  },
  {
   "cell_type": "code",
   "execution_count": 47,
   "metadata": {},
   "outputs": [
    {
     "data": {
      "application/vnd.jupyter.widget-view+json": {
       "model_id": "3a9bb94db59d4c16b8dda22a1bee7048",
       "version_major": 2,
       "version_minor": 0
      },
      "text/plain": [
       "HBox(children=(IntProgress(value=0, max=7825385), HTML(value='')))"
      ]
     },
     "metadata": {},
     "output_type": "display_data"
    },
    {
     "name": "stdout",
     "output_type": "stream",
     "text": [
      "\n"
     ]
    }
   ],
   "source": [
    "oh_df['N_ELIGIBLE_2012'] = oh_df.progress_apply(lambda row: n_eligible(row,date_2000,date_2012), axis=1)"
   ]
  },
  {
   "cell_type": "code",
   "execution_count": 48,
   "metadata": {},
   "outputs": [
    {
     "data": {
      "application/vnd.jupyter.widget-view+json": {
       "model_id": "8d8f5d5acb284310a78b3052713b1be8",
       "version_major": 2,
       "version_minor": 0
      },
      "text/plain": [
       "HBox(children=(IntProgress(value=0, max=7825385), HTML(value='')))"
      ]
     },
     "metadata": {},
     "output_type": "display_data"
    },
    {
     "name": "stdout",
     "output_type": "stream",
     "text": [
      "\n"
     ]
    },
    {
     "data": {
      "application/vnd.jupyter.widget-view+json": {
       "model_id": "d5fb09c8568b4ad6b02162fc7fe2d7dc",
       "version_major": 2,
       "version_minor": 0
      },
      "text/plain": [
       "HBox(children=(IntProgress(value=0, max=7825385), HTML(value='')))"
      ]
     },
     "metadata": {},
     "output_type": "display_data"
    },
    {
     "name": "stdout",
     "output_type": "stream",
     "text": [
      "\n"
     ]
    }
   ],
   "source": [
    "oh_df['N_VOTED_ELIGIBLE_2016'] = oh_df.progress_apply(lambda row: n_eligible_voted(row,date_2004,date_2016), axis=1)\n",
    "oh_df['N_ELIGIBLE_2016'] = oh_df.progress_apply(lambda row: n_eligible(row,date_2004,date_2016), axis=1)"
   ]
  },
  {
   "cell_type": "code",
   "execution_count": 49,
   "metadata": {},
   "outputs": [
    {
     "data": {
      "application/vnd.jupyter.widget-view+json": {
       "model_id": "9b0c684909e14afeb3edd9644876d3cd",
       "version_major": 2,
       "version_minor": 0
      },
      "text/plain": [
       "HBox(children=(IntProgress(value=0, max=7825385), HTML(value='')))"
      ]
     },
     "metadata": {},
     "output_type": "display_data"
    },
    {
     "name": "stdout",
     "output_type": "stream",
     "text": [
      "\n"
     ]
    },
    {
     "data": {
      "application/vnd.jupyter.widget-view+json": {
       "model_id": "b5a350bdf7724d849e2016cfc0a2b08f",
       "version_major": 2,
       "version_minor": 0
      },
      "text/plain": [
       "HBox(children=(IntProgress(value=0, max=7825385), HTML(value='')))"
      ]
     },
     "metadata": {},
     "output_type": "display_data"
    },
    {
     "name": "stdout",
     "output_type": "stream",
     "text": [
      "\n"
     ]
    }
   ],
   "source": [
    "oh_df['N_VOTED_ELIGIBLE_2020'] = oh_df.progress_apply(lambda row: n_eligible_voted(row,date_2008,date_2020), axis=1)\n",
    "oh_df['N_ELIGIBLE_2020'] = oh_df.progress_apply(lambda row: n_eligible(row,date_2008,date_2020), axis=1)"
   ]
  },
  {
   "cell_type": "code",
   "execution_count": 55,
   "metadata": {},
   "outputs": [],
   "source": [
    "def row_ratio(row,year):\n",
    "    eligible_column = 'N_ELIGIBLE_'+year\n",
    "    voted_column = 'N_VOTED_ELIGIBLE_'+year\n",
    "    voted_i= row[voted_column]\n",
    "    eligible_i = row[eligible_column]\n",
    "    if eligible_i != 0:\n",
    "        v_ratio = voted_i/eligible_i\n",
    "    else:\n",
    "        v_ratio = float('Inf')\n",
    "    return v_ratio"
   ]
  },
  {
   "cell_type": "code",
   "execution_count": 56,
   "metadata": {},
   "outputs": [
    {
     "data": {
      "application/vnd.jupyter.widget-view+json": {
       "model_id": "d032f46ca3774a4e8710983b9f1f49e9",
       "version_major": 2,
       "version_minor": 0
      },
      "text/plain": [
       "HBox(children=(IntProgress(value=0, max=7825385), HTML(value='')))"
      ]
     },
     "metadata": {},
     "output_type": "display_data"
    },
    {
     "name": "stdout",
     "output_type": "stream",
     "text": [
      "\n"
     ]
    }
   ],
   "source": [
    "oh_df['RATIO_2012'] = oh_df.progress_apply(lambda row: row_ratio(row,'2012'), axis=1)"
   ]
  },
  {
   "cell_type": "code",
   "execution_count": 57,
   "metadata": {},
   "outputs": [
    {
     "data": {
      "application/vnd.jupyter.widget-view+json": {
       "model_id": "8951c4ccb5d14f1a8341603cf6da4414",
       "version_major": 2,
       "version_minor": 0
      },
      "text/plain": [
       "HBox(children=(IntProgress(value=0, max=7825385), HTML(value='')))"
      ]
     },
     "metadata": {},
     "output_type": "display_data"
    },
    {
     "name": "stdout",
     "output_type": "stream",
     "text": [
      "\n"
     ]
    },
    {
     "data": {
      "application/vnd.jupyter.widget-view+json": {
       "model_id": "0a91eff49e0348118a016b69d361ff9b",
       "version_major": 2,
       "version_minor": 0
      },
      "text/plain": [
       "HBox(children=(IntProgress(value=0, max=7825385), HTML(value='')))"
      ]
     },
     "metadata": {},
     "output_type": "display_data"
    },
    {
     "name": "stdout",
     "output_type": "stream",
     "text": [
      "\n"
     ]
    }
   ],
   "source": [
    "oh_df['RATIO_2016'] = oh_df.progress_apply(lambda row: row_ratio(row,'2016'), axis=1)\n",
    "oh_df['RATIO_2020'] = oh_df.progress_apply(lambda row: row_ratio(row,'2020'), axis=1)"
   ]
  },
  {
   "cell_type": "code",
   "execution_count": 58,
   "metadata": {},
   "outputs": [],
   "source": [
    "edited_df_name = ohio_path+'oh_df_withvotenum_new.feather'\n",
    "feather.write_dataframe(oh_df,edited_df_name)"
   ]
  },
  {
   "cell_type": "code",
   "execution_count": 60,
   "metadata": {},
   "outputs": [],
   "source": [
    "del oh_train, oh_validate, oh_test\n",
    "oh_train, oh_validate, oh_test = train_validate_test_split(oh_df,seed=1)\n",
    "\n",
    "feather.write_dataframe(oh_train, ohio_path+'oh_train.feather')\n",
    "feather.write_dataframe(oh_validate, ohio_path+'oh_validate.feather')\n",
    "feather.write_dataframe(oh_test, ohio_path+'oh_test.feather')"
   ]
  },
  {
   "cell_type": "code",
   "execution_count": 61,
   "metadata": {},
   "outputs": [
    {
     "data": {
      "text/html": [
       "<div>\n",
       "<style scoped>\n",
       "    .dataframe tbody tr th:only-of-type {\n",
       "        vertical-align: middle;\n",
       "    }\n",
       "\n",
       "    .dataframe tbody tr th {\n",
       "        vertical-align: top;\n",
       "    }\n",
       "\n",
       "    .dataframe thead th {\n",
       "        text-align: right;\n",
       "    }\n",
       "</style>\n",
       "<table border=\"1\" class=\"dataframe\">\n",
       "  <thead>\n",
       "    <tr style=\"text-align: right;\">\n",
       "      <th></th>\n",
       "      <th>SOS_VOTERID</th>\n",
       "      <th>COUNTY_NUMBER</th>\n",
       "      <th>COUNTY_ID</th>\n",
       "      <th>LAST_NAME</th>\n",
       "      <th>FIRST_NAME</th>\n",
       "      <th>MIDDLE_NAME</th>\n",
       "      <th>SUFFIX</th>\n",
       "      <th>DATE_OF_BIRTH</th>\n",
       "      <th>REGISTRATION_DATE</th>\n",
       "      <th>VOTER_STATUS</th>\n",
       "      <th>...</th>\n",
       "      <th>N_ELIGIBLE</th>\n",
       "      <th>N_VOTED_ELIGIBLE_2012</th>\n",
       "      <th>N_ELIGIBLE_2012</th>\n",
       "      <th>N_VOTED_ELIGIBLE_2016</th>\n",
       "      <th>N_ELIGIBLE_2016</th>\n",
       "      <th>N_VOTED_ELIGIBLE_2020</th>\n",
       "      <th>N_ELIGIBLE_2020</th>\n",
       "      <th>RATIO_2012</th>\n",
       "      <th>RATIO_2016</th>\n",
       "      <th>RATIO_2020</th>\n",
       "    </tr>\n",
       "  </thead>\n",
       "  <tbody>\n",
       "    <tr>\n",
       "      <th>44919</th>\n",
       "      <td>OH0022572078</td>\n",
       "      <td>23</td>\n",
       "      <td>187017</td>\n",
       "      <td>HOUK</td>\n",
       "      <td>LYNNAE</td>\n",
       "      <td>S</td>\n",
       "      <td>None</td>\n",
       "      <td>1965-10-12</td>\n",
       "      <td>2016-09-03</td>\n",
       "      <td>ACTIVE</td>\n",
       "      <td>...</td>\n",
       "      <td>9</td>\n",
       "      <td>1</td>\n",
       "      <td>9</td>\n",
       "      <td>1</td>\n",
       "      <td>9</td>\n",
       "      <td>1</td>\n",
       "      <td>9</td>\n",
       "      <td>0.111111</td>\n",
       "      <td>0.111111</td>\n",
       "      <td>0.111111</td>\n",
       "    </tr>\n",
       "    <tr>\n",
       "      <th>350613</th>\n",
       "      <td>OH0011542577</td>\n",
       "      <td>15</td>\n",
       "      <td>9907343</td>\n",
       "      <td>PARKES</td>\n",
       "      <td>LINDA</td>\n",
       "      <td>L</td>\n",
       "      <td>None</td>\n",
       "      <td>1955-09-24</td>\n",
       "      <td>1998-09-26</td>\n",
       "      <td>ACTIVE</td>\n",
       "      <td>...</td>\n",
       "      <td>60</td>\n",
       "      <td>17</td>\n",
       "      <td>58</td>\n",
       "      <td>14</td>\n",
       "      <td>50</td>\n",
       "      <td>10</td>\n",
       "      <td>35</td>\n",
       "      <td>0.293103</td>\n",
       "      <td>0.280000</td>\n",
       "      <td>0.285714</td>\n",
       "    </tr>\n",
       "    <tr>\n",
       "      <th>1715811</th>\n",
       "      <td>OH0023206328</td>\n",
       "      <td>9</td>\n",
       "      <td>611018</td>\n",
       "      <td>BYRD</td>\n",
       "      <td>ERIC</td>\n",
       "      <td>WAYNE</td>\n",
       "      <td>None</td>\n",
       "      <td>1994-07-02</td>\n",
       "      <td>2018-09-17</td>\n",
       "      <td>ACTIVE</td>\n",
       "      <td>...</td>\n",
       "      <td>2</td>\n",
       "      <td>1</td>\n",
       "      <td>2</td>\n",
       "      <td>1</td>\n",
       "      <td>2</td>\n",
       "      <td>1</td>\n",
       "      <td>2</td>\n",
       "      <td>0.500000</td>\n",
       "      <td>0.500000</td>\n",
       "      <td>0.500000</td>\n",
       "    </tr>\n",
       "    <tr>\n",
       "      <th>329574</th>\n",
       "      <td>OH0016396163</td>\n",
       "      <td>2</td>\n",
       "      <td>71069</td>\n",
       "      <td>HALL</td>\n",
       "      <td>JULIE</td>\n",
       "      <td>A</td>\n",
       "      <td>None</td>\n",
       "      <td>1964-12-02</td>\n",
       "      <td>2001-10-10</td>\n",
       "      <td>ACTIVE</td>\n",
       "      <td>...</td>\n",
       "      <td>57</td>\n",
       "      <td>23</td>\n",
       "      <td>57</td>\n",
       "      <td>18</td>\n",
       "      <td>50</td>\n",
       "      <td>11</td>\n",
       "      <td>35</td>\n",
       "      <td>0.403509</td>\n",
       "      <td>0.360000</td>\n",
       "      <td>0.314286</td>\n",
       "    </tr>\n",
       "    <tr>\n",
       "      <th>916210</th>\n",
       "      <td>OH0011586083</td>\n",
       "      <td>10</td>\n",
       "      <td>7801452</td>\n",
       "      <td>WASEMAN</td>\n",
       "      <td>HARRY</td>\n",
       "      <td>S</td>\n",
       "      <td>None</td>\n",
       "      <td>1944-09-29</td>\n",
       "      <td>1978-02-07</td>\n",
       "      <td>ACTIVE</td>\n",
       "      <td>...</td>\n",
       "      <td>60</td>\n",
       "      <td>27</td>\n",
       "      <td>58</td>\n",
       "      <td>21</td>\n",
       "      <td>50</td>\n",
       "      <td>15</td>\n",
       "      <td>35</td>\n",
       "      <td>0.465517</td>\n",
       "      <td>0.420000</td>\n",
       "      <td>0.428571</td>\n",
       "    </tr>\n",
       "  </tbody>\n",
       "</table>\n",
       "<p>5 rows × 120 columns</p>\n",
       "</div>"
      ],
      "text/plain": [
       "          SOS_VOTERID  COUNTY_NUMBER  COUNTY_ID LAST_NAME FIRST_NAME  \\\n",
       "44919    OH0022572078             23     187017      HOUK     LYNNAE   \n",
       "350613   OH0011542577             15    9907343    PARKES      LINDA   \n",
       "1715811  OH0023206328              9     611018      BYRD       ERIC   \n",
       "329574   OH0016396163              2      71069      HALL      JULIE   \n",
       "916210   OH0011586083             10    7801452   WASEMAN      HARRY   \n",
       "\n",
       "        MIDDLE_NAME SUFFIX DATE_OF_BIRTH REGISTRATION_DATE VOTER_STATUS  ...  \\\n",
       "44919             S   None    1965-10-12        2016-09-03       ACTIVE  ...   \n",
       "350613            L   None    1955-09-24        1998-09-26       ACTIVE  ...   \n",
       "1715811       WAYNE   None    1994-07-02        2018-09-17       ACTIVE  ...   \n",
       "329574            A   None    1964-12-02        2001-10-10       ACTIVE  ...   \n",
       "916210            S   None    1944-09-29        1978-02-07       ACTIVE  ...   \n",
       "\n",
       "        N_ELIGIBLE N_VOTED_ELIGIBLE_2012 N_ELIGIBLE_2012  \\\n",
       "44919            9                     1               9   \n",
       "350613          60                    17              58   \n",
       "1715811          2                     1               2   \n",
       "329574          57                    23              57   \n",
       "916210          60                    27              58   \n",
       "\n",
       "        N_VOTED_ELIGIBLE_2016 N_ELIGIBLE_2016  N_VOTED_ELIGIBLE_2020  \\\n",
       "44919                       1               9                      1   \n",
       "350613                     14              50                     10   \n",
       "1715811                     1               2                      1   \n",
       "329574                     18              50                     11   \n",
       "916210                     21              50                     15   \n",
       "\n",
       "         N_ELIGIBLE_2020  RATIO_2012  RATIO_2016 RATIO_2020  \n",
       "44919                  9    0.111111    0.111111   0.111111  \n",
       "350613                35    0.293103    0.280000   0.285714  \n",
       "1715811                2    0.500000    0.500000   0.500000  \n",
       "329574                35    0.403509    0.360000   0.314286  \n",
       "916210                35    0.465517    0.420000   0.428571  \n",
       "\n",
       "[5 rows x 120 columns]"
      ]
     },
     "execution_count": 61,
     "metadata": {},
     "output_type": "execute_result"
    }
   ],
   "source": [
    "oh_train.head()"
   ]
  },
  {
   "cell_type": "markdown",
   "metadata": {},
   "source": [
    "print(oh_train.iloc(2))"
   ]
  },
  {
   "cell_type": "code",
   "execution_count": 64,
   "metadata": {},
   "outputs": [
    {
     "name": "stdout",
     "output_type": "stream",
     "text": [
      "SOS_VOTERID                       OH0023206328\n",
      "COUNTY_NUMBER                                9\n",
      "COUNTY_ID                               611018\n",
      "LAST_NAME                                 BYRD\n",
      "FIRST_NAME                                ERIC\n",
      "MIDDLE_NAME                              WAYNE\n",
      "SUFFIX                                    None\n",
      "DATE_OF_BIRTH                       1994-07-02\n",
      "REGISTRATION_DATE                   2018-09-17\n",
      "VOTER_STATUS                            ACTIVE\n",
      "PARTY_AFFILIATION                         None\n",
      "RESIDENTIAL_ADDRESS1          5034 ROCKDALE RD\n",
      "RESIDENTIAL_SECONDARY_ADDR                None\n",
      "RESIDENTIAL_CITY                      HAMILTON\n",
      "RESIDENTIAL_STATE                           OH\n",
      "RESIDENTIAL_ZIP                          45011\n",
      "RESIDENTIAL_ZIP_PLUS4                      NaN\n",
      "RESIDENTIAL_COUNTRY                        NaN\n",
      "RESIDENTIAL_POSTALCODE                     NaN\n",
      "MAILING_ADDRESS1                          None\n",
      "MAILING_SECONDARY_ADDRESS                 None\n",
      "MAILING_CITY                              None\n",
      "MAILING_STATE                             None\n",
      "MAILING_ZIP                                NaN\n",
      "MAILING_ZIP_PLUS4                          NaN\n",
      "MAILING_COUNTRY                           None\n",
      "MAILING_POSTAL_CODE                       None\n",
      "CAREER_CENTER                             None\n",
      "CITY                                      None\n",
      "CITY_SCHOOL_DISTRICT                      None\n",
      "                                    ...       \n",
      "PRIMARY-05/06/2014                        None\n",
      "GENERAL-11/04/2014                        None\n",
      "PRIMARY-05/05/2015                        None\n",
      "PRIMARY-09/15/2015                        None\n",
      "GENERAL-11/03/2015                        None\n",
      "PRIMARY-03/15/2016                        None\n",
      "GENERAL-06/07/2016                        None\n",
      "PRIMARY-09/13/2016                        None\n",
      "GENERAL-11/08/2016                        None\n",
      "PRIMARY-05/02/2017                        None\n",
      "PRIMARY-09/12/2017                        None\n",
      "GENERAL-11/07/2017                        None\n",
      "PRIMARY-05/08/2018                        None\n",
      "GENERAL-08/07/2018                        None\n",
      "GENERAL-11/06/2018                           X\n",
      "PRIMARY-05/07/2019                        None\n",
      "AGE_2016                                    22\n",
      "AGE_2012                                    18\n",
      "AGE_2020                                    26\n",
      "N_VOTED_ELIGIBLE                             1\n",
      "N_ELIGIBLE                                   2\n",
      "N_VOTED_ELIGIBLE_2012                        1\n",
      "N_ELIGIBLE_2012                              2\n",
      "N_VOTED_ELIGIBLE_2016                        1\n",
      "N_ELIGIBLE_2016                              2\n",
      "N_VOTED_ELIGIBLE_2020                        1\n",
      "N_ELIGIBLE_2020                              2\n",
      "RATIO_2012                                 0.5\n",
      "RATIO_2016                                 0.5\n",
      "RATIO_2020                                 0.5\n",
      "Name: 1715811, Length: 120, dtype: object\n"
     ]
    }
   ],
   "source": [
    "print(oh_train.iloc[2,:])"
   ]
  },
  {
   "cell_type": "code",
   "execution_count": 81,
   "metadata": {},
   "outputs": [
    {
     "name": "stdout",
     "output_type": "stream",
     "text": [
      "['GENERAL-11/06/2018', 'PRIMARY-05/07/2019']\n"
     ]
    },
    {
     "data": {
      "text/plain": [
       "2"
      ]
     },
     "execution_count": 81,
     "metadata": {},
     "output_type": "execute_result"
    }
   ],
   "source": [
    "n_eligible(oh_train.iloc[2,:], date_2000, date_2020)"
   ]
  },
  {
   "cell_type": "code",
   "execution_count": null,
   "metadata": {},
   "outputs": [],
   "source": []
  },
  {
   "cell_type": "code",
   "execution_count": null,
   "metadata": {},
   "outputs": [],
   "source": []
  }
 ],
 "metadata": {
  "kernelspec": {
   "display_name": "Python 3",
   "language": "python",
   "name": "python3"
  },
  "language_info": {
   "codemirror_mode": {
    "name": "ipython",
    "version": 3
   },
   "file_extension": ".py",
   "mimetype": "text/x-python",
   "name": "python",
   "nbconvert_exporter": "python",
   "pygments_lexer": "ipython3",
   "version": "3.7.4"
  }
 },
 "nbformat": 4,
 "nbformat_minor": 2
}
