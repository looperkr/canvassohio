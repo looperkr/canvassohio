{
 "cells": [
  {
   "cell_type": "code",
   "execution_count": 1,
   "metadata": {},
   "outputs": [],
   "source": [
    "import numpy as np\n",
    "import pandas as pd\n",
    "import matplotlib.pyplot as plt\n",
    "import pickle\n",
    "import feather\n",
    "from datetime import date, datetime\n",
    "import joblib"
   ]
  },
  {
   "cell_type": "code",
   "execution_count": 80,
   "metadata": {},
   "outputs": [],
   "source": [
    "data_path = '/Volumes/FileStorage/Insight_data/'\n",
    "ohio_path = '/Volumes/FileStorage/Insight_data/Ohio_data/data_feather/'"
   ]
  },
  {
   "cell_type": "code",
   "execution_count": 81,
   "metadata": {},
   "outputs": [],
   "source": [
    "oh_df=feather.read_dataframe('/Volumes/FileStorage/Insight_data/Ohio_data/data_feather/oh_census_df.feather')"
   ]
  },
  {
   "cell_type": "code",
   "execution_count": 141,
   "metadata": {},
   "outputs": [
    {
     "data": {
      "text/html": [
       "<div>\n",
       "<style scoped>\n",
       "    .dataframe tbody tr th:only-of-type {\n",
       "        vertical-align: middle;\n",
       "    }\n",
       "\n",
       "    .dataframe tbody tr th {\n",
       "        vertical-align: top;\n",
       "    }\n",
       "\n",
       "    .dataframe thead th {\n",
       "        text-align: right;\n",
       "    }\n",
       "</style>\n",
       "<table border=\"1\" class=\"dataframe\">\n",
       "  <thead>\n",
       "    <tr style=\"text-align: right;\">\n",
       "      <th></th>\n",
       "      <th></th>\n",
       "      <th>COUNTY_NUMBER</th>\n",
       "      <th>COUNTY_ID</th>\n",
       "      <th>RESIDENTIAL_ZIP_PLUS4</th>\n",
       "      <th>RESIDENTIAL_COUNTRY</th>\n",
       "      <th>RESIDENTIAL_POSTALCODE</th>\n",
       "      <th>MAILING_ZIP</th>\n",
       "      <th>MAILING_ZIP_PLUS4</th>\n",
       "      <th>CONGRESSIONAL_DISTRICT</th>\n",
       "      <th>COURT_OF_APPEALS</th>\n",
       "      <th>LIBRARY</th>\n",
       "      <th>...</th>\n",
       "      <th>N_VOTED_ELIGIBLE_2016</th>\n",
       "      <th>N_ELIGIBLE_2016</th>\n",
       "      <th>N_VOTED_ELIGIBLE_2020</th>\n",
       "      <th>N_ELIGIBLE_2020</th>\n",
       "      <th>RATIO_2012</th>\n",
       "      <th>RATIO_2016</th>\n",
       "      <th>RATIO_2020</th>\n",
       "      <th>HC01_EST_VC13</th>\n",
       "      <th>HC02_EST_VC17</th>\n",
       "      <th>HC02_EST_VC18</th>\n",
       "    </tr>\n",
       "    <tr>\n",
       "      <th>PRECINCT_NAME</th>\n",
       "      <th>STATE_REPRESENTATIVE_DISTRICT</th>\n",
       "      <th></th>\n",
       "      <th></th>\n",
       "      <th></th>\n",
       "      <th></th>\n",
       "      <th></th>\n",
       "      <th></th>\n",
       "      <th></th>\n",
       "      <th></th>\n",
       "      <th></th>\n",
       "      <th></th>\n",
       "      <th></th>\n",
       "      <th></th>\n",
       "      <th></th>\n",
       "      <th></th>\n",
       "      <th></th>\n",
       "      <th></th>\n",
       "      <th></th>\n",
       "      <th></th>\n",
       "      <th></th>\n",
       "      <th></th>\n",
       "      <th></th>\n",
       "    </tr>\n",
       "  </thead>\n",
       "  <tbody>\n",
       "    <tr>\n",
       "      <th rowspan=\"2\" valign=\"top\">JACKSON A</th>\n",
       "      <th>4</th>\n",
       "      <td>1920</td>\n",
       "      <td>401746681</td>\n",
       "      <td>1292290.0</td>\n",
       "      <td>0.0</td>\n",
       "      <td>0.0</td>\n",
       "      <td>595789.0</td>\n",
       "      <td>16925.0</td>\n",
       "      <td>3840</td>\n",
       "      <td>2880</td>\n",
       "      <td>0.0</td>\n",
       "      <td>...</td>\n",
       "      <td>7603</td>\n",
       "      <td>29536</td>\n",
       "      <td>7461</td>\n",
       "      <td>27374</td>\n",
       "      <td>207.182034</td>\n",
       "      <td>196.819854</td>\n",
       "      <td>246.424772</td>\n",
       "      <td>45677073.0</td>\n",
       "      <td>85688.5</td>\n",
       "      <td>13938.6</td>\n",
       "    </tr>\n",
       "    <tr>\n",
       "      <th>88</th>\n",
       "      <td>45864</td>\n",
       "      <td>295297776482</td>\n",
       "      <td>1667100.0</td>\n",
       "      <td>0.0</td>\n",
       "      <td>0.0</td>\n",
       "      <td>164870.0</td>\n",
       "      <td>0.0</td>\n",
       "      <td>2548</td>\n",
       "      <td>3822</td>\n",
       "      <td>0.0</td>\n",
       "      <td>...</td>\n",
       "      <td>4794</td>\n",
       "      <td>18864</td>\n",
       "      <td>4557</td>\n",
       "      <td>17882</td>\n",
       "      <td>135.420970</td>\n",
       "      <td>132.128259</td>\n",
       "      <td>147.954357</td>\n",
       "      <td>35506145.0</td>\n",
       "      <td>57605.4</td>\n",
       "      <td>8900.7</td>\n",
       "    </tr>\n",
       "  </tbody>\n",
       "</table>\n",
       "<p>2 rows × 34 columns</p>\n",
       "</div>"
      ],
      "text/plain": [
       "                                             COUNTY_NUMBER     COUNTY_ID  \\\n",
       "PRECINCT_NAME STATE_REPRESENTATIVE_DISTRICT                                \n",
       "JACKSON A     4                                       1920     401746681   \n",
       "              88                                     45864  295297776482   \n",
       "\n",
       "                                             RESIDENTIAL_ZIP_PLUS4  \\\n",
       "PRECINCT_NAME STATE_REPRESENTATIVE_DISTRICT                          \n",
       "JACKSON A     4                                          1292290.0   \n",
       "              88                                         1667100.0   \n",
       "\n",
       "                                             RESIDENTIAL_COUNTRY  \\\n",
       "PRECINCT_NAME STATE_REPRESENTATIVE_DISTRICT                        \n",
       "JACKSON A     4                                              0.0   \n",
       "              88                                             0.0   \n",
       "\n",
       "                                             RESIDENTIAL_POSTALCODE  \\\n",
       "PRECINCT_NAME STATE_REPRESENTATIVE_DISTRICT                           \n",
       "JACKSON A     4                                                 0.0   \n",
       "              88                                                0.0   \n",
       "\n",
       "                                             MAILING_ZIP  MAILING_ZIP_PLUS4  \\\n",
       "PRECINCT_NAME STATE_REPRESENTATIVE_DISTRICT                                   \n",
       "JACKSON A     4                                 595789.0            16925.0   \n",
       "              88                                164870.0                0.0   \n",
       "\n",
       "                                             CONGRESSIONAL_DISTRICT  \\\n",
       "PRECINCT_NAME STATE_REPRESENTATIVE_DISTRICT                           \n",
       "JACKSON A     4                                                3840   \n",
       "              88                                               2548   \n",
       "\n",
       "                                             COURT_OF_APPEALS  LIBRARY  ...  \\\n",
       "PRECINCT_NAME STATE_REPRESENTATIVE_DISTRICT                             ...   \n",
       "JACKSON A     4                                          2880      0.0  ...   \n",
       "              88                                         3822      0.0  ...   \n",
       "\n",
       "                                             N_VOTED_ELIGIBLE_2016  \\\n",
       "PRECINCT_NAME STATE_REPRESENTATIVE_DISTRICT                          \n",
       "JACKSON A     4                                               7603   \n",
       "              88                                              4794   \n",
       "\n",
       "                                             N_ELIGIBLE_2016  \\\n",
       "PRECINCT_NAME STATE_REPRESENTATIVE_DISTRICT                    \n",
       "JACKSON A     4                                        29536   \n",
       "              88                                       18864   \n",
       "\n",
       "                                             N_VOTED_ELIGIBLE_2020  \\\n",
       "PRECINCT_NAME STATE_REPRESENTATIVE_DISTRICT                          \n",
       "JACKSON A     4                                               7461   \n",
       "              88                                              4557   \n",
       "\n",
       "                                             N_ELIGIBLE_2020  RATIO_2012  \\\n",
       "PRECINCT_NAME STATE_REPRESENTATIVE_DISTRICT                                \n",
       "JACKSON A     4                                        27374  207.182034   \n",
       "              88                                       17882  135.420970   \n",
       "\n",
       "                                             RATIO_2016  RATIO_2020  \\\n",
       "PRECINCT_NAME STATE_REPRESENTATIVE_DISTRICT                           \n",
       "JACKSON A     4                              196.819854  246.424772   \n",
       "              88                             132.128259  147.954357   \n",
       "\n",
       "                                             HC01_EST_VC13  HC02_EST_VC17  \\\n",
       "PRECINCT_NAME STATE_REPRESENTATIVE_DISTRICT                                 \n",
       "JACKSON A     4                                 45677073.0        85688.5   \n",
       "              88                                35506145.0        57605.4   \n",
       "\n",
       "                                             HC02_EST_VC18  \n",
       "PRECINCT_NAME STATE_REPRESENTATIVE_DISTRICT                 \n",
       "JACKSON A     4                                    13938.6  \n",
       "              88                                    8900.7  \n",
       "\n",
       "[2 rows x 34 columns]"
      ]
     },
     "execution_count": 141,
     "metadata": {},
     "output_type": "execute_result"
    }
   ],
   "source": [
    "oh_df[oh_df['PRECINCT_NAME']=='JACKSON A'].groupby(['PRECINCT_NAME','STATE_REPRESENTATIVE_DISTRICT']).sum()"
   ]
  },
  {
   "cell_type": "code",
   "execution_count": 9,
   "metadata": {},
   "outputs": [],
   "source": [
    "model = joblib.load('logreg_fulldata_census.joblib')"
   ]
  },
  {
   "cell_type": "code",
   "execution_count": 10,
   "metadata": {},
   "outputs": [],
   "source": [
    "features=['PARTY_AFFILIATION','STATE_REPRESENTATIVE_DISTRICT','PRECINCT_NAME','AGE_2020','GENERAL-11/08/2016','RATIO_2020','HC02_EST_VC17','HC02_EST_VC18']\n",
    "model_features=['AGE_2020','GENERAL-11/08/2016','RATIO_2020','HC02_EST_VC17','HC02_EST_VC18']"
   ]
  },
  {
   "cell_type": "code",
   "execution_count": 11,
   "metadata": {},
   "outputs": [],
   "source": [
    "df_X=oh_df.loc[:, features]"
   ]
  },
  {
   "cell_type": "code",
   "execution_count": 12,
   "metadata": {},
   "outputs": [],
   "source": [
    "df_X['PARTY_AFFILIATION']=df_X['PARTY_AFFILIATION'].fillna('N')"
   ]
  },
  {
   "cell_type": "code",
   "execution_count": 13,
   "metadata": {},
   "outputs": [
    {
     "data": {
      "text/plain": [
       "PARTY_AFFILIATION\n",
       "D    1338397\n",
       "G       6775\n",
       "L         23\n",
       "N    4563298\n",
       "R    1916892\n",
       "dtype: int64"
      ]
     },
     "execution_count": 13,
     "metadata": {},
     "output_type": "execute_result"
    }
   ],
   "source": [
    "df_X.groupby('PARTY_AFFILIATION').size()"
   ]
  },
  {
   "cell_type": "code",
   "execution_count": 14,
   "metadata": {},
   "outputs": [],
   "source": [
    "N=4563298\n",
    "D=1338397\n",
    "G=6775\n",
    "L=23\n",
    "R=1916892\n",
    "\n",
    "tot_p=N+D+G+L+R"
   ]
  },
  {
   "cell_type": "code",
   "execution_count": 15,
   "metadata": {},
   "outputs": [
    {
     "data": {
      "text/plain": [
       "7825385"
      ]
     },
     "execution_count": 15,
     "metadata": {},
     "output_type": "execute_result"
    }
   ],
   "source": [
    "tot_p"
   ]
  },
  {
   "cell_type": "code",
   "execution_count": 16,
   "metadata": {},
   "outputs": [
    {
     "data": {
      "image/png": "[encoded data removed]",
      "text/plain": [
       "<Figure size 432x288 with 1 Axes>"
      ]
     },
     "metadata": {
      "needs_background": "light"
     },
     "output_type": "display_data"
    }
   ],
   "source": [
    "import matplotlib.patches as mpatches\n",
    "\n",
    "s=pd.Series([N,R,D,G,L],index=['None','Republican','Democrat','Green','Libertarian'])\n",
    "c=['lightgrey','red','royalblue','royalblue','red']\n",
    "s.plot(kind='bar',color=c)\n",
    "plt.xticks(rotation=360)\n",
    "nopref=mpatches.Patch(color='lightgrey', label='No party')\n",
    "right=mpatches.Patch(color='red',label='Right-leaning')\n",
    "left=mpatches.Patch(color='royalblue',label='Left-leaning')\n",
    "plt.legend(handles=[nopref,right,left])\n",
    "axes = plt.gca()\n",
    "plt.yscale('symlog')\n",
    "#axes.set_ylim([0,ymax])\n",
    "plt.show()"
   ]
  },
  {
   "cell_type": "code",
   "execution_count": 17,
   "metadata": {},
   "outputs": [],
   "source": [
    "df_X_model=oh_df.loc[:, model_features]"
   ]
  },
  {
   "cell_type": "code",
   "execution_count": 18,
   "metadata": {},
   "outputs": [],
   "source": [
    "df_Y_model=model.predict(df_X_model)"
   ]
  },
  {
   "cell_type": "code",
   "execution_count": 19,
   "metadata": {},
   "outputs": [
    {
     "data": {
      "text/plain": [
       "(7825385,)"
      ]
     },
     "execution_count": 19,
     "metadata": {},
     "output_type": "execute_result"
    }
   ],
   "source": [
    "df_Y_model.shape"
   ]
  },
  {
   "cell_type": "code",
   "execution_count": 20,
   "metadata": {},
   "outputs": [],
   "source": [
    "df_results=df_X\n",
    "df_results['2020_pred']=df_Y_model"
   ]
  },
  {
   "cell_type": "code",
   "execution_count": 21,
   "metadata": {},
   "outputs": [
    {
     "data": {
      "text/html": [
       "<div>\n",
       "<style scoped>\n",
       "    .dataframe tbody tr th:only-of-type {\n",
       "        vertical-align: middle;\n",
       "    }\n",
       "\n",
       "    .dataframe tbody tr th {\n",
       "        vertical-align: top;\n",
       "    }\n",
       "\n",
       "    .dataframe thead th {\n",
       "        text-align: right;\n",
       "    }\n",
       "</style>\n",
       "<table border=\"1\" class=\"dataframe\">\n",
       "  <thead>\n",
       "    <tr style=\"text-align: right;\">\n",
       "      <th></th>\n",
       "      <th>PARTY_AFFILIATION</th>\n",
       "      <th>STATE_REPRESENTATIVE_DISTRICT</th>\n",
       "      <th>PRECINCT_NAME</th>\n",
       "      <th>AGE_2020</th>\n",
       "      <th>GENERAL-11/08/2016</th>\n",
       "      <th>RATIO_2020</th>\n",
       "      <th>HC02_EST_VC17</th>\n",
       "      <th>HC02_EST_VC18</th>\n",
       "      <th>2020_pred</th>\n",
       "    </tr>\n",
       "  </thead>\n",
       "  <tbody>\n",
       "    <tr>\n",
       "      <th>0</th>\n",
       "      <td>N</td>\n",
       "      <td>82</td>\n",
       "      <td>PRECINCT ST. MARYS 3A</td>\n",
       "      <td>50</td>\n",
       "      <td>-1</td>\n",
       "      <td>0.057143</td>\n",
       "      <td>90.5</td>\n",
       "      <td>15.7</td>\n",
       "      <td>-1</td>\n",
       "    </tr>\n",
       "    <tr>\n",
       "      <th>1</th>\n",
       "      <td>N</td>\n",
       "      <td>53</td>\n",
       "      <td>MONROE 2</td>\n",
       "      <td>45</td>\n",
       "      <td>0</td>\n",
       "      <td>0.257143</td>\n",
       "      <td>94.9</td>\n",
       "      <td>35.4</td>\n",
       "      <td>0</td>\n",
       "    </tr>\n",
       "    <tr>\n",
       "      <th>2</th>\n",
       "      <td>N</td>\n",
       "      <td>9</td>\n",
       "      <td>CLEVELAND-02-Q</td>\n",
       "      <td>49</td>\n",
       "      <td>-1</td>\n",
       "      <td>0.000000</td>\n",
       "      <td>78.6</td>\n",
       "      <td>9.9</td>\n",
       "      <td>-1</td>\n",
       "    </tr>\n",
       "    <tr>\n",
       "      <th>3</th>\n",
       "      <td>N</td>\n",
       "      <td>65</td>\n",
       "      <td>MIAMI TOWNSHIP X</td>\n",
       "      <td>47</td>\n",
       "      <td>0</td>\n",
       "      <td>0.171429</td>\n",
       "      <td>94.9</td>\n",
       "      <td>46.6</td>\n",
       "      <td>0</td>\n",
       "    </tr>\n",
       "    <tr>\n",
       "      <th>4</th>\n",
       "      <td>N</td>\n",
       "      <td>12</td>\n",
       "      <td>CLEVELAND-01-E</td>\n",
       "      <td>45</td>\n",
       "      <td>0</td>\n",
       "      <td>0.333333</td>\n",
       "      <td>85.5</td>\n",
       "      <td>14.0</td>\n",
       "      <td>0</td>\n",
       "    </tr>\n",
       "  </tbody>\n",
       "</table>\n",
       "</div>"
      ],
      "text/plain": [
       "  PARTY_AFFILIATION  STATE_REPRESENTATIVE_DISTRICT          PRECINCT_NAME  \\\n",
       "0                 N                             82  PRECINCT ST. MARYS 3A   \n",
       "1                 N                             53               MONROE 2   \n",
       "2                 N                              9         CLEVELAND-02-Q   \n",
       "3                 N                             65       MIAMI TOWNSHIP X   \n",
       "4                 N                             12         CLEVELAND-01-E   \n",
       "\n",
       "   AGE_2020  GENERAL-11/08/2016  RATIO_2020  HC02_EST_VC17  HC02_EST_VC18  \\\n",
       "0        50                  -1    0.057143           90.5           15.7   \n",
       "1        45                   0    0.257143           94.9           35.4   \n",
       "2        49                  -1    0.000000           78.6            9.9   \n",
       "3        47                   0    0.171429           94.9           46.6   \n",
       "4        45                   0    0.333333           85.5           14.0   \n",
       "\n",
       "   2020_pred  \n",
       "0         -1  \n",
       "1          0  \n",
       "2         -1  \n",
       "3          0  \n",
       "4          0  "
      ]
     },
     "execution_count": 21,
     "metadata": {},
     "output_type": "execute_result"
    }
   ],
   "source": [
    "df_results.head()"
   ]
  },
  {
   "cell_type": "code",
   "execution_count": 22,
   "metadata": {},
   "outputs": [],
   "source": [
    "feather.write_dataframe(df_results,'/Volumes/FileStorage/Insight_data/Ohio_data/data_feather/results.feather')\n",
    "feather.write_dataframe(df_results,'/Users/kristinalooper/WorkArea/insight/results.feather')"
   ]
  },
  {
   "cell_type": "code",
   "execution_count": 63,
   "metadata": {},
   "outputs": [],
   "source": [
    "df_results = feather.read_dataframe('/Volumes/FileStorage/Insight_data/Ohio_data/data_feather/results.feather')"
   ]
  },
  {
   "cell_type": "code",
   "execution_count": 64,
   "metadata": {},
   "outputs": [],
   "source": [
    "df_results['2020_pred'].replace(-1, np.nan,inplace=True)\n",
    "df_results['2020_pred'].replace(0,1,inplace=True)"
   ]
  },
  {
   "cell_type": "code",
   "execution_count": 65,
   "metadata": {},
   "outputs": [],
   "source": [
    "prec_votes = df_results.groupby(['STATE_REPRESENTATIVE_DISTRICT','PRECINCT_NAME'])['2020_pred'].sum()"
   ]
  },
  {
   "cell_type": "code",
   "execution_count": 71,
   "metadata": {},
   "outputs": [],
   "source": [
    "sorted_votes=prec_votes.reset_index().sort_values(['STATE_REPRESENTATIVE_DISTRICT','2020_pred'],ascending=[True,False]).set_index(['STATE_REPRESENTATIVE_DISTRICT','PRECINCT_NAME'])"
   ]
  },
  {
   "cell_type": "code",
   "execution_count": 75,
   "metadata": {},
   "outputs": [
    {
     "data": {
      "text/plain": [
       "Index(['WOOSTER CITY 4-C', 'WOOSTER CITY 3-C', 'WOOSTER CITY 4-D',\n",
       "       'ORRVILLE CITY 3', 'WAYNE TWP 1', 'SUGAR CREEK TWP 1',\n",
       "       'SUGAR CREEK TWP 2', 'SUGAR CREEK TWP 3 DALTON', 'CHESTER TWP 1',\n",
       "       'RITTMAN CITY 3',\n",
       "       ...\n",
       "       'PRECINCT ASHTABULA 3-B', 'PRECINCT ASHTABULA 2-D',\n",
       "       'PRECINCT ASHTABULA 4-B', 'PRECINCT ASHTABULA 3-C',\n",
       "       'PRECINCT ASHTABULA 4-A', 'PRECINCT CONNEAUT 4-C',\n",
       "       'PRECINCT ASHTABULA 5-A', 'PRECINCT ASHTABULA 5-B',\n",
       "       'PRECINCT AQUILLA VILLAGE', 'PRECINCT ASHTABULA 3-A'],\n",
       "      dtype='object', name='PRECINCT_NAME', length=9063)"
      ]
     },
     "execution_count": 75,
     "metadata": {},
     "output_type": "execute_result"
    }
   ],
   "source": [
    "#sorted_votes=sorted_votes.reset_index().set_index(['STATE_REPRESENTATIVE_DISTRICT','PRECINCT_NAME'])\n",
    "sorted_votes.index.get_level_values(1)"
   ]
  },
  {
   "cell_type": "code",
   "execution_count": 76,
   "metadata": {},
   "outputs": [],
   "source": [
    "#sorted_votes['2020_pred'].nlargest(3)\n",
    "top_sorted=sorted_votes['2020_pred'].groupby(level='STATE_REPRESENTATIVE_DISTRICT').nlargest(3).reset_index(level=0, drop=True).reset_index(level=1)\n",
    "#top_sorted=sorted_votes.groupby('STATE_REPRESENTATIVE_DISTRICT')['2020_pred'].nlargest(3)"
   ]
  },
  {
   "cell_type": "code",
   "execution_count": 143,
   "metadata": {},
   "outputs": [
    {
     "data": {
      "text/html": [
       "<div>\n",
       "<style scoped>\n",
       "    .dataframe tbody tr th:only-of-type {\n",
       "        vertical-align: middle;\n",
       "    }\n",
       "\n",
       "    .dataframe tbody tr th {\n",
       "        vertical-align: top;\n",
       "    }\n",
       "\n",
       "    .dataframe thead th {\n",
       "        text-align: right;\n",
       "    }\n",
       "</style>\n",
       "<table border=\"1\" class=\"dataframe\">\n",
       "  <thead>\n",
       "    <tr style=\"text-align: right;\">\n",
       "      <th></th>\n",
       "      <th>PRECINCT_NAME</th>\n",
       "      <th>2020_pred</th>\n",
       "    </tr>\n",
       "    <tr>\n",
       "      <th>STATE_REPRESENTATIVE_DISTRICT</th>\n",
       "      <th></th>\n",
       "      <th></th>\n",
       "    </tr>\n",
       "  </thead>\n",
       "  <tbody>\n",
       "    <tr>\n",
       "      <th>4</th>\n",
       "      <td>AMANDA E</td>\n",
       "      <td>822.0</td>\n",
       "    </tr>\n",
       "  </tbody>\n",
       "</table>\n",
       "</div>"
      ],
      "text/plain": [
       "                              PRECINCT_NAME  2020_pred\n",
       "STATE_REPRESENTATIVE_DISTRICT                         \n",
       "4                                  AMANDA E      822.0"
      ]
     },
     "execution_count": 143,
     "metadata": {},
     "output_type": "execute_result"
    }
   ],
   "source": [
    "top_sorted.loc[top_sorted['PRECINCT_NAME'].str.contains('AMANDA E')]"
   ]
  },
  {
   "cell_type": "code",
   "execution_count": 28,
   "metadata": {},
   "outputs": [],
   "source": [
    "top_dict=dict(top_sorted.groupby('STATE_REPRESENTATIVE_DISTRICT')['PRECINCT_NAME'].apply(list))"
   ]
  },
  {
   "cell_type": "code",
   "execution_count": 142,
   "metadata": {},
   "outputs": [
    {
     "data": {
      "text/plain": [
       "['JACKSON A', 'AMANDA E', 'MARION A']"
      ]
     },
     "execution_count": 142,
     "metadata": {},
     "output_type": "execute_result"
    }
   ],
   "source": [
    "top_dict[4]"
   ]
  },
  {
   "cell_type": "code",
   "execution_count": 30,
   "metadata": {},
   "outputs": [],
   "source": [
    "party_df=df_results.groupby(['PRECINCT_NAME','PARTY_AFFILIATION']).size()\n",
    "#party_dict=df_results.groupby(['PRECINCT_NAME','PARTY_AFFILIATION']).size().to_dict()\n",
    "#party_sort=df_results.groupby(['PRECINCT_NAME','PARTY_AFFILIATION']).size().reset_index()#.set_index(['PRECINT_NAME','PARTY_AFFILIATION'])\n"
   ]
  },
  {
   "cell_type": "code",
   "execution_count": 31,
   "metadata": {},
   "outputs": [
    {
     "data": {
      "text/html": [
       "<div>\n",
       "<style scoped>\n",
       "    .dataframe tbody tr th:only-of-type {\n",
       "        vertical-align: middle;\n",
       "    }\n",
       "\n",
       "    .dataframe tbody tr th {\n",
       "        vertical-align: top;\n",
       "    }\n",
       "\n",
       "    .dataframe thead th {\n",
       "        text-align: right;\n",
       "    }\n",
       "</style>\n",
       "<table border=\"1\" class=\"dataframe\">\n",
       "  <thead>\n",
       "    <tr style=\"text-align: right;\">\n",
       "      <th></th>\n",
       "      <th>PARTY_AFFILIATION</th>\n",
       "      <th>STATE_REPRESENTATIVE_DISTRICT</th>\n",
       "      <th>PRECINCT_NAME</th>\n",
       "      <th>AGE_2020</th>\n",
       "      <th>GENERAL-11/08/2016</th>\n",
       "      <th>RATIO_2020</th>\n",
       "      <th>HC02_EST_VC17</th>\n",
       "      <th>HC02_EST_VC18</th>\n",
       "      <th>2020_pred</th>\n",
       "    </tr>\n",
       "  </thead>\n",
       "  <tbody>\n",
       "    <tr>\n",
       "      <th>0</th>\n",
       "      <td>N</td>\n",
       "      <td>82</td>\n",
       "      <td>PRECINCT ST. MARYS 3A</td>\n",
       "      <td>50</td>\n",
       "      <td>-1</td>\n",
       "      <td>0.057143</td>\n",
       "      <td>90.5</td>\n",
       "      <td>15.7</td>\n",
       "      <td>NaN</td>\n",
       "    </tr>\n",
       "    <tr>\n",
       "      <th>1</th>\n",
       "      <td>N</td>\n",
       "      <td>53</td>\n",
       "      <td>MONROE 2</td>\n",
       "      <td>45</td>\n",
       "      <td>0</td>\n",
       "      <td>0.257143</td>\n",
       "      <td>94.9</td>\n",
       "      <td>35.4</td>\n",
       "      <td>1.0</td>\n",
       "    </tr>\n",
       "    <tr>\n",
       "      <th>2</th>\n",
       "      <td>N</td>\n",
       "      <td>9</td>\n",
       "      <td>CLEVELAND-02-Q</td>\n",
       "      <td>49</td>\n",
       "      <td>-1</td>\n",
       "      <td>0.000000</td>\n",
       "      <td>78.6</td>\n",
       "      <td>9.9</td>\n",
       "      <td>NaN</td>\n",
       "    </tr>\n",
       "    <tr>\n",
       "      <th>3</th>\n",
       "      <td>N</td>\n",
       "      <td>65</td>\n",
       "      <td>MIAMI TOWNSHIP X</td>\n",
       "      <td>47</td>\n",
       "      <td>0</td>\n",
       "      <td>0.171429</td>\n",
       "      <td>94.9</td>\n",
       "      <td>46.6</td>\n",
       "      <td>1.0</td>\n",
       "    </tr>\n",
       "    <tr>\n",
       "      <th>4</th>\n",
       "      <td>N</td>\n",
       "      <td>12</td>\n",
       "      <td>CLEVELAND-01-E</td>\n",
       "      <td>45</td>\n",
       "      <td>0</td>\n",
       "      <td>0.333333</td>\n",
       "      <td>85.5</td>\n",
       "      <td>14.0</td>\n",
       "      <td>1.0</td>\n",
       "    </tr>\n",
       "    <tr>\n",
       "      <th>5</th>\n",
       "      <td>D</td>\n",
       "      <td>16</td>\n",
       "      <td>NORTH OLMSTED-02-C</td>\n",
       "      <td>41</td>\n",
       "      <td>0</td>\n",
       "      <td>0.228571</td>\n",
       "      <td>92.1</td>\n",
       "      <td>29.8</td>\n",
       "      <td>1.0</td>\n",
       "    </tr>\n",
       "    <tr>\n",
       "      <th>6</th>\n",
       "      <td>N</td>\n",
       "      <td>65</td>\n",
       "      <td>WAYNE TOWNSHIP B</td>\n",
       "      <td>77</td>\n",
       "      <td>0</td>\n",
       "      <td>0.257143</td>\n",
       "      <td>87.8</td>\n",
       "      <td>13.8</td>\n",
       "      <td>1.0</td>\n",
       "    </tr>\n",
       "    <tr>\n",
       "      <th>7</th>\n",
       "      <td>R</td>\n",
       "      <td>64</td>\n",
       "      <td>PRECINCT WMSFLD TWP 2</td>\n",
       "      <td>77</td>\n",
       "      <td>0</td>\n",
       "      <td>0.344828</td>\n",
       "      <td>85.1</td>\n",
       "      <td>10.5</td>\n",
       "      <td>1.0</td>\n",
       "    </tr>\n",
       "    <tr>\n",
       "      <th>8</th>\n",
       "      <td>N</td>\n",
       "      <td>65</td>\n",
       "      <td>MIAMI TOWNSHIP L1L</td>\n",
       "      <td>48</td>\n",
       "      <td>-1</td>\n",
       "      <td>0.074074</td>\n",
       "      <td>94.9</td>\n",
       "      <td>46.6</td>\n",
       "      <td>1.0</td>\n",
       "    </tr>\n",
       "    <tr>\n",
       "      <th>9</th>\n",
       "      <td>N</td>\n",
       "      <td>12</td>\n",
       "      <td>PEPPER PIKE-00-D</td>\n",
       "      <td>28</td>\n",
       "      <td>0</td>\n",
       "      <td>0.200000</td>\n",
       "      <td>95.7</td>\n",
       "      <td>48.2</td>\n",
       "      <td>1.0</td>\n",
       "    </tr>\n",
       "  </tbody>\n",
       "</table>\n",
       "</div>"
      ],
      "text/plain": [
       "  PARTY_AFFILIATION  STATE_REPRESENTATIVE_DISTRICT          PRECINCT_NAME  \\\n",
       "0                 N                             82  PRECINCT ST. MARYS 3A   \n",
       "1                 N                             53               MONROE 2   \n",
       "2                 N                              9         CLEVELAND-02-Q   \n",
       "3                 N                             65       MIAMI TOWNSHIP X   \n",
       "4                 N                             12         CLEVELAND-01-E   \n",
       "5                 D                             16     NORTH OLMSTED-02-C   \n",
       "6                 N                             65       WAYNE TOWNSHIP B   \n",
       "7                 R                             64  PRECINCT WMSFLD TWP 2   \n",
       "8                 N                             65     MIAMI TOWNSHIP L1L   \n",
       "9                 N                             12       PEPPER PIKE-00-D   \n",
       "\n",
       "   AGE_2020  GENERAL-11/08/2016  RATIO_2020  HC02_EST_VC17  HC02_EST_VC18  \\\n",
       "0        50                  -1    0.057143           90.5           15.7   \n",
       "1        45                   0    0.257143           94.9           35.4   \n",
       "2        49                  -1    0.000000           78.6            9.9   \n",
       "3        47                   0    0.171429           94.9           46.6   \n",
       "4        45                   0    0.333333           85.5           14.0   \n",
       "5        41                   0    0.228571           92.1           29.8   \n",
       "6        77                   0    0.257143           87.8           13.8   \n",
       "7        77                   0    0.344828           85.1           10.5   \n",
       "8        48                  -1    0.074074           94.9           46.6   \n",
       "9        28                   0    0.200000           95.7           48.2   \n",
       "\n",
       "   2020_pred  \n",
       "0        NaN  \n",
       "1        1.0  \n",
       "2        NaN  \n",
       "3        1.0  \n",
       "4        1.0  \n",
       "5        1.0  \n",
       "6        1.0  \n",
       "7        1.0  \n",
       "8        1.0  \n",
       "9        1.0  "
      ]
     },
     "execution_count": 31,
     "metadata": {},
     "output_type": "execute_result"
    }
   ],
   "source": [
    "df_test = df_results\n",
    "df_test.head(10)"
   ]
  },
  {
   "cell_type": "code",
   "execution_count": 32,
   "metadata": {},
   "outputs": [],
   "source": [
    "#df = df.groupby(['A', 'B']).size().reset_index(name='Size')\n",
    "df_test=df_test.groupby(['PRECINCT_NAME','PARTY_AFFILIATION']).size().reset_index(name='Size')"
   ]
  },
  {
   "cell_type": "code",
   "execution_count": 33,
   "metadata": {},
   "outputs": [
    {
     "data": {
      "text/html": [
       "<div>\n",
       "<style scoped>\n",
       "    .dataframe tbody tr th:only-of-type {\n",
       "        vertical-align: middle;\n",
       "    }\n",
       "\n",
       "    .dataframe tbody tr th {\n",
       "        vertical-align: top;\n",
       "    }\n",
       "\n",
       "    .dataframe thead th {\n",
       "        text-align: right;\n",
       "    }\n",
       "</style>\n",
       "<table border=\"1\" class=\"dataframe\">\n",
       "  <thead>\n",
       "    <tr style=\"text-align: right;\">\n",
       "      <th></th>\n",
       "      <th>PRECINCT_NAME</th>\n",
       "      <th>PARTY_AFFILIATION</th>\n",
       "      <th>Size</th>\n",
       "    </tr>\n",
       "  </thead>\n",
       "  <tbody>\n",
       "    <tr>\n",
       "      <th>0</th>\n",
       "      <td>ABERDEEN VILLAGE</td>\n",
       "      <td>D</td>\n",
       "      <td>136</td>\n",
       "    </tr>\n",
       "    <tr>\n",
       "      <th>1</th>\n",
       "      <td>ABERDEEN VILLAGE</td>\n",
       "      <td>G</td>\n",
       "      <td>1</td>\n",
       "    </tr>\n",
       "    <tr>\n",
       "      <th>2</th>\n",
       "      <td>ABERDEEN VILLAGE</td>\n",
       "      <td>N</td>\n",
       "      <td>667</td>\n",
       "    </tr>\n",
       "    <tr>\n",
       "      <th>3</th>\n",
       "      <td>ABERDEEN VILLAGE</td>\n",
       "      <td>R</td>\n",
       "      <td>292</td>\n",
       "    </tr>\n",
       "    <tr>\n",
       "      <th>4</th>\n",
       "      <td>ADA NORTH</td>\n",
       "      <td>D</td>\n",
       "      <td>133</td>\n",
       "    </tr>\n",
       "    <tr>\n",
       "      <th>5</th>\n",
       "      <td>ADA NORTH</td>\n",
       "      <td>G</td>\n",
       "      <td>2</td>\n",
       "    </tr>\n",
       "    <tr>\n",
       "      <th>6</th>\n",
       "      <td>ADA NORTH</td>\n",
       "      <td>N</td>\n",
       "      <td>794</td>\n",
       "    </tr>\n",
       "    <tr>\n",
       "      <th>7</th>\n",
       "      <td>ADA NORTH</td>\n",
       "      <td>R</td>\n",
       "      <td>232</td>\n",
       "    </tr>\n",
       "    <tr>\n",
       "      <th>8</th>\n",
       "      <td>ADA SOUTH</td>\n",
       "      <td>D</td>\n",
       "      <td>102</td>\n",
       "    </tr>\n",
       "    <tr>\n",
       "      <th>9</th>\n",
       "      <td>ADA SOUTH</td>\n",
       "      <td>G</td>\n",
       "      <td>1</td>\n",
       "    </tr>\n",
       "  </tbody>\n",
       "</table>\n",
       "</div>"
      ],
      "text/plain": [
       "      PRECINCT_NAME PARTY_AFFILIATION  Size\n",
       "0  ABERDEEN VILLAGE                 D   136\n",
       "1  ABERDEEN VILLAGE                 G     1\n",
       "2  ABERDEEN VILLAGE                 N   667\n",
       "3  ABERDEEN VILLAGE                 R   292\n",
       "4         ADA NORTH                 D   133\n",
       "5         ADA NORTH                 G     2\n",
       "6         ADA NORTH                 N   794\n",
       "7         ADA NORTH                 R   232\n",
       "8         ADA SOUTH                 D   102\n",
       "9         ADA SOUTH                 G     1"
      ]
     },
     "execution_count": 33,
     "metadata": {},
     "output_type": "execute_result"
    }
   ],
   "source": [
    "df_test.head(10)"
   ]
  },
  {
   "cell_type": "code",
   "execution_count": 34,
   "metadata": {},
   "outputs": [],
   "source": [
    "party_rows=df_test.set_index(['PRECINCT_NAME', 'PARTY_AFFILIATION']).unstack(['PARTY_AFFILIATION'])"
   ]
  },
  {
   "cell_type": "code",
   "execution_count": 35,
   "metadata": {},
   "outputs": [],
   "source": [
    "party_rows=party_rows.reset_index()"
   ]
  },
  {
   "cell_type": "code",
   "execution_count": 36,
   "metadata": {},
   "outputs": [],
   "source": [
    "party_rows=party_rows.fillna(0)"
   ]
  },
  {
   "cell_type": "code",
   "execution_count": 38,
   "metadata": {},
   "outputs": [],
   "source": [
    "def party_lean(row):\n",
    "    d=row[('Size', 'D')]\n",
    "    g=row[('Size', 'G')]\n",
    "    l=row[('Size', 'L')]\n",
    "    r=row[('Size', 'R')]\n",
    "    \n",
    "    left=d+g\n",
    "    right=r+l\n",
    "    if right+left == 0:\n",
    "        return \"neutral\"\n",
    "    right_lean=right/(right+left)\n",
    "    left_lean=1-right_lean\n",
    "    if abs(right_lean-left_lean) < 0.05:\n",
    "        return \"neutral\"\n",
    "    elif right_lean > left_lean:\n",
    "        return \"right\"\n",
    "    else:\n",
    "        return \"left\""
   ]
  },
  {
   "cell_type": "code",
   "execution_count": 39,
   "metadata": {},
   "outputs": [],
   "source": [
    "%%capture\n",
    "from tqdm import tqdm_notebook as tqdm\n",
    "tqdm().pandas()"
   ]
  },
  {
   "cell_type": "code",
   "execution_count": 40,
   "metadata": {},
   "outputs": [
    {
     "data": {
      "application/vnd.jupyter.widget-view+json": {
       "model_id": "b78724a5ca33484f8c98e6a2d31cb06e",
       "version_major": 2,
       "version_minor": 0
      },
      "text/plain": [
       "HBox(children=(IntProgress(value=0, max=8764), HTML(value='')))"
      ]
     },
     "metadata": {},
     "output_type": "display_data"
    },
    {
     "name": "stdout",
     "output_type": "stream",
     "text": [
      "\n"
     ]
    }
   ],
   "source": [
    "#oh_train['N_ELIGIBLE_2012'] = oh_train.progress_apply(lambda row: n_eligible(row,date_2000,date_2012), axis=1)\n",
    "party_rows['Lean']=party_rows.progress_apply(lambda row: party_lean(row),axis=1)"
   ]
  },
  {
   "cell_type": "code",
   "execution_count": 41,
   "metadata": {},
   "outputs": [],
   "source": [
    "d=('Size', 'D')"
   ]
  },
  {
   "cell_type": "code",
   "execution_count": 42,
   "metadata": {},
   "outputs": [
    {
     "name": "stdout",
     "output_type": "stream",
     "text": [
      "('PRECINCT_NAME', '')\n",
      "('Size', 'D')\n",
      "('Size', 'G')\n",
      "('Size', 'L')\n",
      "('Size', 'N')\n",
      "('Size', 'R')\n",
      "('Lean', '')\n"
     ]
    }
   ],
   "source": [
    "for key in party_rows:\n",
    "    print(key)"
   ]
  },
  {
   "cell_type": "code",
   "execution_count": 43,
   "metadata": {},
   "outputs": [],
   "source": [
    "party_dict_df=party_rows.drop([('Size', 'D'),('Size', 'G'),('Size', 'L'),('Size', 'N'),('Size', 'R')],axis=1)"
   ]
  },
  {
   "cell_type": "code",
   "execution_count": 44,
   "metadata": {},
   "outputs": [],
   "source": [
    "party_dict=dict(zip(party_dict_df.PRECINCT_NAME,party_dict_df.Lean))"
   ]
  },
  {
   "cell_type": "code",
   "execution_count": 48,
   "metadata": {},
   "outputs": [],
   "source": [
    "with open('results_dict.pickle', 'wb') as handle:\n",
    "    pickle.dump(top_dict, handle, protocol=pickle.HIGHEST_PROTOCOL)"
   ]
  },
  {
   "cell_type": "code",
   "execution_count": 47,
   "metadata": {},
   "outputs": [],
   "source": [
    "with open('party_dict.pickle','wb') as handle:\n",
    "    pickle.dump(party_dict, handle, protocol=pickle.HIGHEST_PROTOCOL)"
   ]
  },
  {
   "cell_type": "code",
   "execution_count": 2,
   "metadata": {},
   "outputs": [],
   "source": [
    "import geopandas as gpd\n",
    "from matplotlib.figure import Figure"
   ]
  },
  {
   "cell_type": "code",
   "execution_count": 3,
   "metadata": {},
   "outputs": [],
   "source": [
    "fp = \"/Volumes/FileStorage/Insight_data/cb_2018_39_sldl_500k/cb_2018_39_sldl_500k.shp\"\n",
    "static_dir='/Users/kristinalooper/WorkArea/insight/canvassohio/canvassohio/static/'\n",
    "fp_prec = \"/Volumes/FileStorage/Insight_data/shp/precincts_results.shp\"\n",
    "\n",
    "with open('../canvassohio/static/results_dict.pickle','rb') as handle:\n",
    "    top_dict = pickle.load(handle)\n",
    "    \n"
   ]
  },
  {
   "cell_type": "code",
   "execution_count": 4,
   "metadata": {},
   "outputs": [],
   "source": [
    "prec_df = gpd.read_file(fp_prec)\n",
    "map_df = gpd.read_file(fp)"
   ]
  },
  {
   "cell_type": "code",
   "execution_count": 5,
   "metadata": {},
   "outputs": [],
   "source": [
    "map_df=map_df.to_crs(prec_df.crs)"
   ]
  },
  {
   "cell_type": "code",
   "execution_count": 6,
   "metadata": {},
   "outputs": [
    {
     "data": {
      "text/plain": [
       "<matplotlib.axes._subplots.AxesSubplot at 0x12ac3dc50>"
      ]
     },
     "execution_count": 6,
     "metadata": {},
     "output_type": "execute_result"
    },
    {
     "data": {
      "image/png": "[encoded data removed]",
      "text/plain": [
       "<Figure size 432x288 with 1 Axes>"
      ]
     },
     "metadata": {
      "needs_background": "light"
     },
     "output_type": "display_data"
    }
   ],
   "source": [
    "test_df=map_df[map_df.NAME=='4']\n",
    "test_df.plot()"
   ]
  },
  {
   "cell_type": "code",
   "execution_count": 7,
   "metadata": {},
   "outputs": [],
   "source": [
    "map_df = map_df[map_df.geometry.notnull()]\n",
    "prec_df = prec_df[prec_df.geometry.notnull()]"
   ]
  },
  {
   "cell_type": "code",
   "execution_count": 8,
   "metadata": {},
   "outputs": [
    {
     "ename": "NameError",
     "evalue": "name 'ptest_df' is not defined",
     "output_type": "error",
     "traceback": [
      "\u001b[0;31m---------------------------------------------------------------------------\u001b[0m",
      "\u001b[0;31mNameError\u001b[0m                                 Traceback (most recent call last)",
      "\u001b[0;32m<ipython-input-8-88d8e5503538>\u001b[0m in \u001b[0;36m<module>\u001b[0;34m\u001b[0m\n\u001b[1;32m      1\u001b[0m \u001b[0mfig\u001b[0m \u001b[0;34m=\u001b[0m \u001b[0mFigure\u001b[0m\u001b[0;34m(\u001b[0m\u001b[0;34m)\u001b[0m\u001b[0;34m\u001b[0m\u001b[0;34m\u001b[0m\u001b[0m\n\u001b[1;32m      2\u001b[0m \u001b[0mbase\u001b[0m \u001b[0;34m=\u001b[0m \u001b[0mtest_df\u001b[0m\u001b[0;34m.\u001b[0m\u001b[0mplot\u001b[0m\u001b[0;34m(\u001b[0m\u001b[0mcolor\u001b[0m\u001b[0;34m=\u001b[0m\u001b[0;34m'white'\u001b[0m\u001b[0;34m,\u001b[0m\u001b[0medgecolor\u001b[0m\u001b[0;34m=\u001b[0m\u001b[0;34m'black'\u001b[0m\u001b[0;34m)\u001b[0m\u001b[0;34m\u001b[0m\u001b[0;34m\u001b[0m\u001b[0m\n\u001b[0;32m----> 3\u001b[0;31m \u001b[0mptest_df\u001b[0m\u001b[0;34m.\u001b[0m\u001b[0mplot\u001b[0m\u001b[0;34m(\u001b[0m\u001b[0max\u001b[0m\u001b[0;34m=\u001b[0m\u001b[0mbase\u001b[0m\u001b[0;34m,\u001b[0m \u001b[0mcolor\u001b[0m\u001b[0;34m=\u001b[0m\u001b[0;34m'blue'\u001b[0m\u001b[0;34m,\u001b[0m \u001b[0mfigsize\u001b[0m\u001b[0;34m=\u001b[0m\u001b[0;34m(\u001b[0m\u001b[0;36m12\u001b[0m\u001b[0;34m,\u001b[0m \u001b[0;36m12\u001b[0m\u001b[0;34m)\u001b[0m\u001b[0;34m)\u001b[0m\u001b[0;34m\u001b[0m\u001b[0;34m\u001b[0m\u001b[0m\n\u001b[0m\u001b[1;32m      4\u001b[0m \u001b[0mplt\u001b[0m\u001b[0;34m.\u001b[0m\u001b[0mxticks\u001b[0m\u001b[0;34m(\u001b[0m\u001b[0;34m[\u001b[0m\u001b[0;34m]\u001b[0m\u001b[0;34m)\u001b[0m\u001b[0;34m\u001b[0m\u001b[0;34m\u001b[0m\u001b[0m\n\u001b[1;32m      5\u001b[0m \u001b[0mplt\u001b[0m\u001b[0;34m.\u001b[0m\u001b[0myticks\u001b[0m\u001b[0;34m(\u001b[0m\u001b[0;34m[\u001b[0m\u001b[0;34m]\u001b[0m\u001b[0;34m)\u001b[0m\u001b[0;34m\u001b[0m\u001b[0;34m\u001b[0m\u001b[0m\n",
      "\u001b[0;31mNameError\u001b[0m: name 'ptest_df' is not defined"
     ]
    },
    {
     "data": {
      "image/png": "[encoded data removed]",
      "text/plain": [
       "<Figure size 432x288 with 1 Axes>"
      ]
     },
     "metadata": {
      "needs_background": "light"
     },
     "output_type": "display_data"
    }
   ],
   "source": [
    "fig = Figure()\n",
    "base = test_df.plot(color='white',edgecolor='black')\n",
    "ptest_df.plot(ax=base, color='blue', figsize=(12, 12))\n",
    "plt.xticks([])\n",
    "plt.yticks([])"
   ]
  },
  {
   "cell_type": "code",
   "execution_count": 9,
   "metadata": {},
   "outputs": [],
   "source": [
    "ptest_1=prec_df[prec_df.PRECINCT_e=='WOOSTER CITY 4-C']\n",
    "ptest_2=prec_df[prec_df.PRECINCT_e=='WOOSTER CITY 3-C']\n",
    "ptest_3=prec_df[prec_df.PRECINCT_e=='WOOSTER CITY 4-D']"
   ]
  },
  {
   "cell_type": "code",
   "execution_count": 10,
   "metadata": {},
   "outputs": [
    {
     "data": {
      "text/plain": [
       "([], <a list of 0 Text yticklabel objects>)"
      ]
     },
     "execution_count": 10,
     "metadata": {},
     "output_type": "execute_result"
    },
    {
     "data": {
      "image/png": "[encoded data removed]",
      "text/plain": [
       "<Figure size 432x288 with 1 Axes>"
      ]
     },
     "metadata": {},
     "output_type": "display_data"
    }
   ],
   "source": [
    "fig = Figure()\n",
    "base = test_df.plot(color='white',edgecolor='black')\n",
    "ptest_1.plot(ax=base, color='blue', figsize=(12, 12))\n",
    "ptest_2.plot(ax=base, color='skyblue', figsize=(12, 12))\n",
    "ptest_3.plot(ax=base, color='silver', figsize=(12, 12))\n",
    "plt.xticks([])\n",
    "plt.yticks([])"
   ]
  },
  {
   "cell_type": "code",
   "execution_count": 183,
   "metadata": {},
   "outputs": [
    {
     "data": {
      "text/html": [
       "<div>\n",
       "<style scoped>\n",
       "    .dataframe tbody tr th:only-of-type {\n",
       "        vertical-align: middle;\n",
       "    }\n",
       "\n",
       "    .dataframe tbody tr th {\n",
       "        vertical-align: top;\n",
       "    }\n",
       "\n",
       "    .dataframe thead th {\n",
       "        text-align: right;\n",
       "    }\n",
       "</style>\n",
       "<table border=\"1\" class=\"dataframe\">\n",
       "  <thead>\n",
       "    <tr style=\"text-align: right;\">\n",
       "      <th></th>\n",
       "      <th>fid</th>\n",
       "      <th>PRECINCT</th>\n",
       "      <th>COUNTY</th>\n",
       "      <th>global_id</th>\n",
       "      <th>COUNTYGEOI</th>\n",
       "      <th>PRECINCT_e</th>\n",
       "      <th>PRECINCTCO</th>\n",
       "      <th>PRECINCT_m</th>\n",
       "      <th>county_nam</th>\n",
       "      <th>precinct_c</th>\n",
       "      <th>...</th>\n",
       "      <th>pres_16__3</th>\n",
       "      <th>pres_16_ev</th>\n",
       "      <th>pres_16_mo</th>\n",
       "      <th>pres_16__4</th>\n",
       "      <th>pres_16__5</th>\n",
       "      <th>pres_16_ji</th>\n",
       "      <th>pres_16__6</th>\n",
       "      <th>pres_16_do</th>\n",
       "      <th>pres_16__7</th>\n",
       "      <th>geometry</th>\n",
       "    </tr>\n",
       "  </thead>\n",
       "  <tbody>\n",
       "    <tr>\n",
       "      <th>2610</th>\n",
       "      <td>2611.0</td>\n",
       "      <td>Jackson A</td>\n",
       "      <td>allen</td>\n",
       "      <td>3924.0</td>\n",
       "      <td>39003.0</td>\n",
       "      <td>JACKSON A</td>\n",
       "      <td>AEN</td>\n",
       "      <td>None</td>\n",
       "      <td>Allen</td>\n",
       "      <td>AEN</td>\n",
       "      <td>...</td>\n",
       "      <td>0.0</td>\n",
       "      <td>0.0</td>\n",
       "      <td>0.0</td>\n",
       "      <td>0.0</td>\n",
       "      <td>0.0</td>\n",
       "      <td>3.0</td>\n",
       "      <td>0.0</td>\n",
       "      <td>0.0</td>\n",
       "      <td>679.0</td>\n",
       "      <td>POLYGON ((257108.6281311005 4522759.843866574,...</td>\n",
       "    </tr>\n",
       "  </tbody>\n",
       "</table>\n",
       "<p>1 rows × 39 columns</p>\n",
       "</div>"
      ],
      "text/plain": [
       "         fid   PRECINCT COUNTY  global_id  COUNTYGEOI PRECINCT_e PRECINCTCO  \\\n",
       "2610  2611.0  Jackson A  allen     3924.0     39003.0  JACKSON A        AEN   \n",
       "\n",
       "     PRECINCT_m county_nam precinct_c  ... pres_16__3 pres_16_ev  pres_16_mo  \\\n",
       "2610       None      Allen        AEN  ...        0.0        0.0         0.0   \n",
       "\n",
       "      pres_16__4  pres_16__5  pres_16_ji  pres_16__6  pres_16_do  pres_16__7  \\\n",
       "2610         0.0         0.0         3.0         0.0         0.0       679.0   \n",
       "\n",
       "                                               geometry  \n",
       "2610  POLYGON ((257108.6281311005 4522759.843866574,...  \n",
       "\n",
       "[1 rows x 39 columns]"
      ]
     },
     "execution_count": 183,
     "metadata": {},
     "output_type": "execute_result"
    }
   ],
   "source": [
    "prec_df[(prec_df.PRECINCT_e==top_dict[key][0]) & (prec_df.county_nam=='Allen')]"
   ]
  },
  {
   "cell_type": "code",
   "execution_count": 11,
   "metadata": {},
   "outputs": [
    {
     "name": "stdout",
     "output_type": "stream",
     "text": [
      "4\n",
      "['JACKSON A', 'AMANDA E', 'MARION A']\n",
      "district_4.png\n"
     ]
    },
    {
     "data": {
      "text/plain": [
       "<Figure size 432x288 with 0 Axes>"
      ]
     },
     "metadata": {},
     "output_type": "display_data"
    },
    {
     "data": {
      "image/png": "[encoded data removed]",
      "text/plain": [
       "<Figure size 864x864 with 1 Axes>"
      ]
     },
     "metadata": {},
     "output_type": "display_data"
    }
   ],
   "source": [
    "img_path='/Users/kristinalooper/WorkArea/insight/test_images/'\n",
    "#for key in top_dict:\n",
    "for key in range(4,5):\n",
    "    print(key)\n",
    "    plt.clf()\n",
    "    print(top_dict[key])\n",
    "    district_df=map_df[map_df.NAME==str(key)]\n",
    "    if key == 4:\n",
    "        precdf_0 = prec_df[(prec_df.PRECINCT_e==top_dict[key][0]) & (prec_df.county_nam=='Allen')]\n",
    "    else:\n",
    "        precdf_0=prec_df[prec_df.PRECINCT_e==top_dict[key][0]]\n",
    "    precdf_1=prec_df[prec_df.PRECINCT_e==top_dict[key][1]]\n",
    "    precdf_2=prec_df[prec_df.PRECINCT_e==top_dict[key][2]]\n",
    "    base = district_df.plot(color='white',edgecolor='black',figsize=(12, 12))\n",
    "    precdf_0.plot(ax=base, color='black', figsize=(12, 12))\n",
    "    precdf_1.plot(ax=base, color='grey', figsize=(12, 12))\n",
    "    precdf_2.plot(ax=base, color='gainsboro', figsize=(12, 12))\n",
    "    plt.xticks([])\n",
    "    plt.yticks([])\n",
    "    ax = plt.gca()\n",
    "    ax.axis('off')\n",
    "    fname='district_'+str(key)+'.png'\n",
    "    print(fname)\n",
    "    plt.savefig(img_path+fname, transparent=True)"
   ]
  },
  {
   "cell_type": "code",
   "execution_count": 36,
   "metadata": {},
   "outputs": [],
   "source": [
    "import contextily as ctx\n",
    "import matplotlib.patches as mpatches"
   ]
  },
  {
   "cell_type": "code",
   "execution_count": 104,
   "metadata": {},
   "outputs": [],
   "source": [
    "debug_dict=dict(zip(prec_df.PRECINCT_e,prec_df.PRECINCT_e))"
   ]
  },
  {
   "cell_type": "code",
   "execution_count": 288,
   "metadata": {},
   "outputs": [],
   "source": [
    "#dictionary[new_key] = dictionary.pop(old_key)\n",
    "#debug_dict['TWINSBURG TWP A'] = debug_dict.pop('TWINSBURG 5-B')\n",
    "#debug_dict['WASHINGTON TWP G'] = debug_dict.pop('WASHINGTON-G')\n",
    "#debug_dict['WASHINGTON TWP S'] = debug_dict.pop('WASHINGTON-S')\n",
    "#debug_dict['HARRISON TWP L'] = debug_dict.pop('HARRISON-L')\n",
    "#debug_dict['PRECINCT TOLEDO 12D'] = debug_dict.pop('TOLEDO 12D')\n",
    "#debug_dict['PRECINCT TOLEDO 12B'] = debug_dict.pop('TOLEDO 12B')\n",
    "#debug_dict['PRECINCT TOLEDO 5I'] = debug_dict.pop('TOLEDO 5I')\n",
    "#debug_dict['PRECINCT TOLEDO 1D'] = debug_dict.pop('TOLEDO 1D')\n",
    "#debug_dict['PRECINCT TOLEDO 3B'] = debug_dict.pop('TOLEDO 3B')\n",
    "#debug_dict['PRECINCT TOLEDO 3H'] = debug_dict.pop('TOLEDO 3H')\n",
    "#debug_dict['PRECINCT SPRINGFIELD 11'] = debug_dict.pop('SPRINGFIELD 11')\n",
    "#debug_dict['PRECINCT OREGON 5'] = debug_dict.pop('OREGON 5')\n",
    "#debug_dict['PRECINCT SPRINGFIELD 7'] = debug_dict.pop('SPRINGFIELD 7')\n",
    "#debug_dict['PRECINCT MONCLOVA 2'] = debug_dict.pop('MONCLOVA 2')\n",
    "#debug_dict['PRECINCT MONCLOVA 5'] = debug_dict.pop('MONCLOVA 5')\n",
    "#debug_dict['PRECINCT SYLVANIA TOWNSHIP Q'] = debug_dict.pop('SYLVANIA TOWNSHIP Q')\n",
    "#debug_dict['PRECINCT POT  2'] = debug_dict.pop('PRECINCT POT 2')\n",
    "#debug_dict['PRECINCT CNT  3'] = debug_dict.pop('PRECINCT CNT 3')\n",
    "#debug_dict['PRECINCT BVT  4'] = debug_dict.pop('PRECINCT BVT 4')\n",
    "#debug_dict['PRECINCT HINCKLEY TP A'] = debug_dict.pop('HINCKLEY TP A')\n",
    "#debug_dict['PRECINCT MEDINA CITY 2-A'] = debug_dict.pop('MEDINA CITY 2-A')\n",
    "#debug_dict['PRECINCT MEDINA CITY 4-B'] = debug_dict.pop('MEDINA CITY 4-B')\n",
    "#debug_dict['PRECINCT BAINBRIDGE TWP D'] = debug_dict.pop('009 BAINBRIDGE TWP D')\n",
    "#debug_dict['PRECINCT BAINBRIDGE TWP A'] = debug_dict.pop('006 BAINBRIDGE TWP A1')\n",
    "#debug_dict['PRECINCT TWIN TWP. GORDON & ITHACA'] = debug_dict.pop('PRECINCT TWIN TWP. GORDON &amp; ITHACA')\n",
    "#debug_dict['SOUTHERN POINT'] = debug_dict.pop('PRECINCT SOUTHERN POINT')\n",
    "#debug_dict['SCIOTO-SOUTH'] = debug_dict.pop('PRECINCT SCIOTO-SOUTH')\n",
    "#debug_dict['PRECINCT CHARDON CITY D'] = debug_dict.pop('022 CHARDON CITY D')\n",
    "#debug_dict['PRECINCT CHARDON CITY A'] = debug_dict.pop('019 CHARDON CITY A')\n",
    "#debug_dict['PRECINCT LIVERPOOL TP B'] = debug_dict.pop('LIVERPOOL TP B')\n",
    "#debug_dict['PRECINCT BRHILLS TP F'] = debug_dict.pop('BRHILLS TP F') \n",
    "debug_dict['PRECINCT BRUNSWICK CITY 4-C'] = debug_dict.pop('BRUNSWICK CITY 4-C')"
   ]
  },
  {
   "cell_type": "code",
   "execution_count": null,
   "metadata": {},
   "outputs": [
    {
     "name": "stdout",
     "output_type": "stream",
     "text": [
      "1\n",
      "['WOOSTER CITY 4-C', 'WOOSTER CITY 3-C', 'WOOSTER CITY 4-D']\n",
      "2\n",
      "['JEFF A', 'MAN 1 - E', 'MAN 1 - D']\n",
      "3\n",
      "['MIDDLETON TWP NORTH', 'PERRYSBURG X', 'BOWLING GREEN 3-E']\n"
     ]
    }
   ],
   "source": [
    "img_path='/Users/kristinalooper/WorkArea/insight/test_images/'\n",
    "map_df_proj = map_df.to_crs(epsg=3857)\n",
    "prec_df_proj = prec_df.to_crs(epsg=3857)\n",
    "for key in top_dict:\n",
    "    print(key)\n",
    "    plt.clf()\n",
    "    print(top_dict[key])\n",
    "    preckey_0=debug_dict[top_dict[key][0]]\n",
    "    preckey_1=debug_dict[top_dict[key][1]]\n",
    "    preckey_2=debug_dict[top_dict[key][2]]\n",
    "    if preckey_0 == 'PLAIN 19':\n",
    "        preckey_0 = 'PLAIN 20' #off-by-one error in shape file, checked with map\n",
    "    if key == 90 and preckey_0 == 'LIBERTY TOWNSHIP':\n",
    "        preckey_0 = 'LIBERTY NORTH' #Shapefile name error\n",
    "    if preckey_2 == 'PRECINCT MECHANIC TOWNSHIP':\n",
    "        preckey_2 = 'PRECINCT KILLBUCK TOWNSHIP' #obvious mapping issue in shapefile\n",
    "    district_df=map_df_proj[map_df_proj.NAME==str(key)]\n",
    "    if key == 4:\n",
    "        precdf_0 = prec_df_proj[(prec_df_proj.PRECINCT_e==preckey_0) & (prec_df_proj.county_nam=='Allen')]\n",
    "    elif key == 83:\n",
    "        precdf_0 = prec_df_proj[(prec_df_proj.PRECINCT_e==preckey_0) & (prec_df_proj.county_nam=='Hancock')]\n",
    "    elif key == 85:\n",
    "        precdf_0 = prec_df_proj[(prec_df_proj.PRECINCT_e==preckey_0) & (prec_df_proj.county_nam=='Logan')]\n",
    "    elif key == 98:\n",
    "        precdf_0 = prec_df_proj[(prec_df_proj.PRECINCT_e==preckey_0) & (prec_df_proj.county_nam=='Tuscarawas')]\n",
    "    else:\n",
    "        precdf_0=prec_df_proj[prec_df_proj.PRECINCT_e==preckey_0]\n",
    "    if key == 72:\n",
    "        precdf_1=prec_df_proj[(prec_df_proj.PRECINCT_e==preckey_1) & (prec_df_proj.county_nam=='Licking')]\n",
    "    elif key == 81:\n",
    "        precdf_1=prec_df_proj[(prec_df_proj.PRECINCT_e==preckey_1) & (prec_df_proj.county_nam=='Williams')]\n",
    "    elif key == 82:\n",
    "        precdf_1=prec_df_proj[(prec_df_proj.PRECINCT_e==preckey_1) & (prec_df_proj.county_nam=='Paulding')]\n",
    "    elif key == 83:\n",
    "        precdf_1=prec_df_proj[(prec_df_proj.PRECINCT_e==preckey_1) & (prec_df_proj.county_nam=='Hancock')]\n",
    "    elif key == 84:\n",
    "        precdf_1=prec_df_proj[(prec_df_proj.PRECINCT_e==preckey_1) & (prec_df_proj.county_nam=='Auglaize')]\n",
    "    elif key == 93:\n",
    "        precdf_1=prec_df_proj[(prec_df_proj.PRECINCT_e==preckey_1) & (prec_df_proj.county_nam=='Gallia')]\n",
    "    elif key == 96:\n",
    "        precdf_1=prec_df_proj[(prec_df_proj.PRECINCT_e==preckey_1) & (prec_df_proj.county_nam=='Jefferson')]\n",
    "    else:\n",
    "        precdf_1=prec_df_proj[prec_df_proj.PRECINCT_e==preckey_1]\n",
    "    if key == 42:\n",
    "        precdf_2=prec_df_proj[(prec_df_proj.PRECINCT_e=='WASHINGTON-A') & (prec_df_proj.county_nam=='Montgomery')]\n",
    "    elif key == 66:\n",
    "        precdf_2=prec_df_proj[(prec_df_proj.PRECINCT_e==preckey_2) & (prec_df_proj.county_nam=='Brown')]\n",
    "    elif key == 68:\n",
    "        precdf_2=prec_df_proj[(prec_df_proj.PRECINCT_e==preckey_2) & (prec_df_proj.county_nam=='Knox')]\n",
    "    elif key == 84:\n",
    "        precdf_2=prec_df_proj[(prec_df_proj.PRECINCT_e==preckey_2) & (prec_df_proj.county_nam=='Darke')]\n",
    "    else:\n",
    "        precdf_2=prec_df_proj[prec_df_proj.PRECINCT_e==preckey_2]\n",
    "    base = district_df.plot(facecolor='None',edgecolor='black', linewidth=3.0,figsize=(16, 16))\n",
    "    ax = precdf_0.plot(ax=base, color='#54278f', alpha=0.90, figsize=(16, 16))\n",
    "    ax = precdf_1.plot(ax=base, color='#756bb1', alpha=0.90, figsize=(16, 16))\n",
    "    ax = precdf_2.plot(ax=base, color='#cbc9e2', alpha = 0.90, figsize=(16, 16))\n",
    "    ctx.add_basemap(ax,url=ctx.providers.Stamen.TonerLite)\n",
    "    plt.xticks([])\n",
    "    plt.yticks([])\n",
    "    ax.axis('off')\n",
    "    black_patch = mpatches.Patch(color='#54278f', label=top_dict[key][0])\n",
    "    grey_patch = mpatches.Patch(color='#756bb1',label=top_dict[key][1])\n",
    "    light_patch= mpatches.Patch(color='#cbc9e2',label=top_dict[key][2])\n",
    "    legend = plt.legend(handles=[black_patch,grey_patch,light_patch], prop={'size': 30},bbox_to_anchor=(1.04,0.5), loc=\"center left\", borderaxespad=0)\n",
    "    fname='district_'+str(key)+'.png'\n",
    "    plt.savefig(img_path+fname, transparent=True, bbox_extra_artists=(legend,), bbox_inches='tight')"
   ]
  },
  {
   "cell_type": "code",
   "execution_count": 287,
   "metadata": {},
   "outputs": [
    {
     "name": "stdout",
     "output_type": "stream",
     "text": [
      "TWINSBURG TWP A\n",
      "       fid            PRECINCT  COUNTY  global_id  COUNTYGEOI  \\\n",
      "684  685.0  BRUNSWICK CITY 4-C  medina      241.0     39103.0   \n",
      "\n",
      "             PRECINCT_e PRECINCTCO PRECINCT_m county_nam precinct_c  ...  \\\n",
      "684  BRUNSWICK CITY 4-C        AAY       None     Medina        AAY  ...   \n",
      "\n",
      "    pres_16__3 pres_16_ev  pres_16_mo  pres_16__4  pres_16__5  pres_16_ji  \\\n",
      "684        0.0        0.0         0.0         0.0         0.0        11.0   \n",
      "\n",
      "     pres_16__6  pres_16_do  pres_16__7  \\\n",
      "684         0.0         0.0       560.0   \n",
      "\n",
      "                                              geometry  \n",
      "684  POLYGON ((-9108611.246684885 5047553.915018759...  \n",
      "\n",
      "[1 rows x 39 columns]\n"
     ]
    }
   ],
   "source": [
    "for key in range(37,38):\n",
    "    print(top_dict[key][2])\n",
    "    print(prec_df_proj[prec_df_proj.PRECINCT_e==\"BRUNSWICK CITY 4-C\"])"
   ]
  },
  {
   "cell_type": "code",
   "execution_count": 86,
   "metadata": {},
   "outputs": [
    {
     "data": {
      "text/html": [
       "<div>\n",
       "<style scoped>\n",
       "    .dataframe tbody tr th:only-of-type {\n",
       "        vertical-align: middle;\n",
       "    }\n",
       "\n",
       "    .dataframe tbody tr th {\n",
       "        vertical-align: top;\n",
       "    }\n",
       "\n",
       "    .dataframe thead th {\n",
       "        text-align: right;\n",
       "    }\n",
       "</style>\n",
       "<table border=\"1\" class=\"dataframe\">\n",
       "  <thead>\n",
       "    <tr style=\"text-align: right;\">\n",
       "      <th></th>\n",
       "      <th>fid</th>\n",
       "      <th>PRECINCT</th>\n",
       "      <th>COUNTY</th>\n",
       "      <th>global_id</th>\n",
       "      <th>COUNTYGEOI</th>\n",
       "      <th>PRECINCT_e</th>\n",
       "      <th>PRECINCTCO</th>\n",
       "      <th>PRECINCT_m</th>\n",
       "      <th>county_nam</th>\n",
       "      <th>precinct_c</th>\n",
       "      <th>...</th>\n",
       "      <th>pres_16__3</th>\n",
       "      <th>pres_16_ev</th>\n",
       "      <th>pres_16_mo</th>\n",
       "      <th>pres_16__4</th>\n",
       "      <th>pres_16__5</th>\n",
       "      <th>pres_16_ji</th>\n",
       "      <th>pres_16__6</th>\n",
       "      <th>pres_16_do</th>\n",
       "      <th>pres_16__7</th>\n",
       "      <th>geometry</th>\n",
       "    </tr>\n",
       "  </thead>\n",
       "  <tbody>\n",
       "    <tr>\n",
       "      <th>0</th>\n",
       "      <td>1.0</td>\n",
       "      <td>GALLIPOLIS CITY 1</td>\n",
       "      <td>gallia</td>\n",
       "      <td>4179.0</td>\n",
       "      <td>39053.0</td>\n",
       "      <td>GALLIPOLIS CITY 1</td>\n",
       "      <td>AAA</td>\n",
       "      <td>None</td>\n",
       "      <td>Gallia</td>\n",
       "      <td>AAA</td>\n",
       "      <td>...</td>\n",
       "      <td>0.0</td>\n",
       "      <td>0.0</td>\n",
       "      <td>0.0</td>\n",
       "      <td>0.0</td>\n",
       "      <td>0.0</td>\n",
       "      <td>2.0</td>\n",
       "      <td>0.0</td>\n",
       "      <td>0.0</td>\n",
       "      <td>267.0</td>\n",
       "      <td>POLYGON ((-9152524.002862403 4695016.148530925...</td>\n",
       "    </tr>\n",
       "    <tr>\n",
       "      <th>1</th>\n",
       "      <td>2.0</td>\n",
       "      <td>GALLIPOLIS CITY 3</td>\n",
       "      <td>gallia</td>\n",
       "      <td>4180.0</td>\n",
       "      <td>39053.0</td>\n",
       "      <td>GALLIPOLIS CITY 3</td>\n",
       "      <td>AAB</td>\n",
       "      <td>None</td>\n",
       "      <td>Gallia</td>\n",
       "      <td>AAB</td>\n",
       "      <td>...</td>\n",
       "      <td>0.0</td>\n",
       "      <td>0.0</td>\n",
       "      <td>0.0</td>\n",
       "      <td>0.0</td>\n",
       "      <td>0.0</td>\n",
       "      <td>9.0</td>\n",
       "      <td>0.0</td>\n",
       "      <td>0.0</td>\n",
       "      <td>449.0</td>\n",
       "      <td>POLYGON ((-9145427.719258998 4698440.078241647...</td>\n",
       "    </tr>\n",
       "    <tr>\n",
       "      <th>2</th>\n",
       "      <td>3.0</td>\n",
       "      <td>GALLIPOLIS CITY 2</td>\n",
       "      <td>gallia</td>\n",
       "      <td>4181.0</td>\n",
       "      <td>39053.0</td>\n",
       "      <td>GALLIPOLIS CITY 2</td>\n",
       "      <td>AAE</td>\n",
       "      <td>None</td>\n",
       "      <td>Gallia</td>\n",
       "      <td>AAE</td>\n",
       "      <td>...</td>\n",
       "      <td>0.0</td>\n",
       "      <td>0.0</td>\n",
       "      <td>0.0</td>\n",
       "      <td>0.0</td>\n",
       "      <td>0.0</td>\n",
       "      <td>6.0</td>\n",
       "      <td>0.0</td>\n",
       "      <td>0.0</td>\n",
       "      <td>247.0</td>\n",
       "      <td>POLYGON ((-9150643.816565091 4695971.823741222...</td>\n",
       "    </tr>\n",
       "    <tr>\n",
       "      <th>3</th>\n",
       "      <td>4.0</td>\n",
       "      <td>ADDISON TOWNSHIP</td>\n",
       "      <td>gallia</td>\n",
       "      <td>4182.0</td>\n",
       "      <td>39053.0</td>\n",
       "      <td>ADDISON TWP</td>\n",
       "      <td>AAG</td>\n",
       "      <td>None</td>\n",
       "      <td>Gallia</td>\n",
       "      <td>AAG</td>\n",
       "      <td>...</td>\n",
       "      <td>0.0</td>\n",
       "      <td>0.0</td>\n",
       "      <td>0.0</td>\n",
       "      <td>0.0</td>\n",
       "      <td>0.0</td>\n",
       "      <td>6.0</td>\n",
       "      <td>0.0</td>\n",
       "      <td>0.0</td>\n",
       "      <td>752.0</td>\n",
       "      <td>POLYGON ((-9146257.383458333 4711966.598681379...</td>\n",
       "    </tr>\n",
       "    <tr>\n",
       "      <th>4</th>\n",
       "      <td>5.0</td>\n",
       "      <td>CHESHIRE TOWNSHIP</td>\n",
       "      <td>gallia</td>\n",
       "      <td>4183.0</td>\n",
       "      <td>39053.0</td>\n",
       "      <td>CHESHIRE TWP</td>\n",
       "      <td>AAI</td>\n",
       "      <td>None</td>\n",
       "      <td>Gallia</td>\n",
       "      <td>AAI</td>\n",
       "      <td>...</td>\n",
       "      <td>0.0</td>\n",
       "      <td>0.0</td>\n",
       "      <td>0.0</td>\n",
       "      <td>0.0</td>\n",
       "      <td>0.0</td>\n",
       "      <td>3.0</td>\n",
       "      <td>0.0</td>\n",
       "      <td>0.0</td>\n",
       "      <td>330.0</td>\n",
       "      <td>POLYGON ((-9152391.198611351 4712299.322014051...</td>\n",
       "    </tr>\n",
       "  </tbody>\n",
       "</table>\n",
       "<p>5 rows × 39 columns</p>\n",
       "</div>"
      ],
      "text/plain": [
       "   fid           PRECINCT  COUNTY  global_id  COUNTYGEOI         PRECINCT_e  \\\n",
       "0  1.0  GALLIPOLIS CITY 1  gallia     4179.0     39053.0  GALLIPOLIS CITY 1   \n",
       "1  2.0  GALLIPOLIS CITY 3  gallia     4180.0     39053.0  GALLIPOLIS CITY 3   \n",
       "2  3.0  GALLIPOLIS CITY 2  gallia     4181.0     39053.0  GALLIPOLIS CITY 2   \n",
       "3  4.0   ADDISON TOWNSHIP  gallia     4182.0     39053.0        ADDISON TWP   \n",
       "4  5.0  CHESHIRE TOWNSHIP  gallia     4183.0     39053.0       CHESHIRE TWP   \n",
       "\n",
       "  PRECINCTCO PRECINCT_m county_nam precinct_c  ... pres_16__3 pres_16_ev  \\\n",
       "0        AAA       None     Gallia        AAA  ...        0.0        0.0   \n",
       "1        AAB       None     Gallia        AAB  ...        0.0        0.0   \n",
       "2        AAE       None     Gallia        AAE  ...        0.0        0.0   \n",
       "3        AAG       None     Gallia        AAG  ...        0.0        0.0   \n",
       "4        AAI       None     Gallia        AAI  ...        0.0        0.0   \n",
       "\n",
       "   pres_16_mo  pres_16__4  pres_16__5  pres_16_ji  pres_16__6  pres_16_do  \\\n",
       "0         0.0         0.0         0.0         2.0         0.0         0.0   \n",
       "1         0.0         0.0         0.0         9.0         0.0         0.0   \n",
       "2         0.0         0.0         0.0         6.0         0.0         0.0   \n",
       "3         0.0         0.0         0.0         6.0         0.0         0.0   \n",
       "4         0.0         0.0         0.0         3.0         0.0         0.0   \n",
       "\n",
       "   pres_16__7                                           geometry  \n",
       "0       267.0  POLYGON ((-9152524.002862403 4695016.148530925...  \n",
       "1       449.0  POLYGON ((-9145427.719258998 4698440.078241647...  \n",
       "2       247.0  POLYGON ((-9150643.816565091 4695971.823741222...  \n",
       "3       752.0  POLYGON ((-9146257.383458333 4711966.598681379...  \n",
       "4       330.0  POLYGON ((-9152391.198611351 4712299.322014051...  \n",
       "\n",
       "[5 rows x 39 columns]"
      ]
     },
     "execution_count": 86,
     "metadata": {},
     "output_type": "execute_result"
    }
   ],
   "source": [
    "prec_df_proj.head()"
   ]
  },
  {
   "cell_type": "code",
   "execution_count": 112,
   "metadata": {},
   "outputs": [
    {
     "name": "stdout",
     "output_type": "stream",
     "text": [
      "WASHINGTON TOWNSHIP A\n"
     ]
    }
   ],
   "source": [
    "fp = \"/Volumes/FileStorage/Insight_data/cb_2018_39_sldl_500k/cb_2018_39_sldl_500k.shp\"\n",
    "fig = Figure()\n",
    "oh_map_df = gpd.read_file(fp)\n",
    "oh_map_proj=oh_map_df.to_crs(epsg=3857)\n",
    "ax = oh_map_proj.plot(color='white', edgecolor='black',figsize=(16, 16))\n",
    "ctx.add_basemap(ax,url=ctx.providers.Stamen.TonerLite)\n",
    "plt.xticks([])\n",
    "plt.yticks([])\n",
    "ax.axis('off')"
   ]
  },
  {
   "cell_type": "code",
   "execution_count": null,
   "metadata": {},
   "outputs": [],
   "source": []
  }
 ],
 "metadata": {
  "kernelspec": {
   "display_name": "Python 3",
   "language": "python",
   "name": "python3"
  },
  "language_info": {
   "codemirror_mode": {
    "name": "ipython",
    "version": 3
   },
   "file_extension": ".py",
   "mimetype": "text/x-python",
   "name": "python",
   "nbconvert_exporter": "python",
   "pygments_lexer": "ipython3",
   "version": "3.7.4"
  }
 },
 "nbformat": 4,
 "nbformat_minor": 2
}
