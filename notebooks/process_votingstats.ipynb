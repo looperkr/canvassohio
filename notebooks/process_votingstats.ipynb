{
 "cells": [
  {
   "cell_type": "code",
   "execution_count": 1,
   "metadata": {},
   "outputs": [],
   "source": [
    "import numpy as np\n",
    "import pandas as pd\n",
    "import matplotlib.pyplot as plt\n",
    "import pickle\n",
    "import feather"
   ]
  },
  {
   "cell_type": "code",
   "execution_count": 2,
   "metadata": {},
   "outputs": [],
   "source": [
    "from datetime import date, datetime"
   ]
  },
  {
   "cell_type": "code",
   "execution_count": 3,
   "metadata": {},
   "outputs": [],
   "source": [
    "%%capture\n",
    "from tqdm import tqdm_notebook as tqdm\n",
    "tqdm().pandas()"
   ]
  },
  {
   "cell_type": "code",
   "execution_count": 4,
   "metadata": {},
   "outputs": [],
   "source": [
    "data_path = '/Volumes/FileStorage/Insight_data/'\n",
    "ohio_path = '/Volumes/FileStorage/Insight_data/Ohio_data/data_feather/'\n",
    "\n",
    "#oh_df = feather.read_dataframe(ohio_path+'oh_df_withvotenum.feather')\n",
    "oh_df=feather.read_dataframe(ohio_path+'oh_train.feather')"
   ]
  },
  {
   "cell_type": "code",
   "execution_count": 5,
   "metadata": {},
   "outputs": [],
   "source": [
    "election_list = []\n",
    "election_i = []\n",
    "general_list = []\n",
    "primary_list = []\n",
    "for key in oh_df:\n",
    "        if key[:7]=='GENERAL':\n",
    "                election_list.append(key)\n",
    "                general_list.append(key)\n",
    "        elif key[:7]=='PRIMARY':\n",
    "                election_list.append(key)\n",
    "                primary_list.append(key)\n",
    "        elif key[:7]=='SPECIAL':\n",
    "                election_list.append(key)\n",
    "                \n",
    "def el_to_date(election):\n",
    "    el_date_str = election.split('-')[1]\n",
    "    el_obj = datetime.strptime(el_date_str, '%m/%d/%Y')\n",
    "    return el_obj\n",
    "date_list = [el_to_date(e) for e in election_list]\n",
    "date_dict = dict(zip(election_list, date_list))"
   ]
  },
  {
   "cell_type": "code",
   "execution_count": 6,
   "metadata": {},
   "outputs": [],
   "source": [
    "def n_eligible_voted(row, start_date, end_date):\n",
    "    reg_date = datetime.strptime(row['REGISTRATION_DATE'],'%Y-%m-%d')\n",
    "    eligible_list = [l for l in election_list if date_dict[l]>reg_date and date_dict[l]>start_date and date_dict[l]<end_date]\n",
    "    n_el = row[eligible_list].count()\n",
    "    return n_el"
   ]
  },
  {
   "cell_type": "code",
   "execution_count": 7,
   "metadata": {},
   "outputs": [],
   "source": [
    "def n_eligible(row, start_date, end_date):\n",
    "    reg_date = datetime.strptime(row['REGISTRATION_DATE'],'%Y-%m-%d')\n",
    "    eligible_list = [l for l in election_list if date_dict[l]>reg_date and date_dict[l]>start_date and date_dict[l]<end_date]\n",
    "    return len(eligible_list)"
   ]
  },
  {
   "cell_type": "code",
   "execution_count": 8,
   "metadata": {},
   "outputs": [],
   "source": [
    "date_2000=datetime(2000, 11, 7)\n",
    "date_2004=datetime(2004,11,2)\n",
    "date_2008=datetime(2008,11,4)\n",
    "date_2012=datetime(2012,11,6)\n",
    "date_2016=datetime(2016,11,8)\n",
    "date_2020=datetime(2020,11,3)"
   ]
  },
  {
   "cell_type": "code",
   "execution_count": 10,
   "metadata": {},
   "outputs": [],
   "source": [
    "from sklearn.model_selection import train_test_split\n",
    "\n",
    "def train_validate_test_split(df, train_percent=.6, validate_percent=.2, seed=None):\n",
    "    np.random.seed(seed)\n",
    "    perm = np.random.permutation(df.index)\n",
    "    m = len(df.index)\n",
    "    train_end = int(train_percent * m)\n",
    "    validate_end = int(validate_percent * m) + train_end\n",
    "    train = df.iloc[perm[:train_end]]\n",
    "    validate = df.iloc[perm[train_end:validate_end]]\n",
    "    test = df.iloc[perm[validate_end:]]\n",
    "    return train, validate, test"
   ]
  },
  {
   "cell_type": "code",
   "execution_count": 11,
   "metadata": {},
   "outputs": [],
   "source": [
    "oh_train, oh_validate, oh_test = train_validate_test_split(oh_df,seed=1)"
   ]
  },
  {
   "cell_type": "code",
   "execution_count": 18,
   "metadata": {},
   "outputs": [],
   "source": [
    "oh_train = oh_train.drop(['N_VOTED_ELIGIBLE_2012','N_ELIGIBLE_2012','N_VOTED_ELIGIBLE_2016','N_ELIGIBLE_2016','N_VOTED_ELIGIBLE_2020','N_ELIGIBLE_2020','RATIO_2012','RATIO_2016','RATIO_2020'], axis=1)"
   ]
  },
  {
   "cell_type": "code",
   "execution_count": 19,
   "metadata": {},
   "outputs": [
    {
     "data": {
      "text/html": [
       "<div>\n",
       "<style scoped>\n",
       "    .dataframe tbody tr th:only-of-type {\n",
       "        vertical-align: middle;\n",
       "    }\n",
       "\n",
       "    .dataframe tbody tr th {\n",
       "        vertical-align: top;\n",
       "    }\n",
       "\n",
       "    .dataframe thead th {\n",
       "        text-align: right;\n",
       "    }\n",
       "</style>\n",
       "<table border=\"1\" class=\"dataframe\">\n",
       "  <thead>\n",
       "    <tr style=\"text-align: right;\">\n",
       "      <th></th>\n",
       "      <th>SOS_VOTERID</th>\n",
       "      <th>COUNTY_NUMBER</th>\n",
       "      <th>COUNTY_ID</th>\n",
       "      <th>LAST_NAME</th>\n",
       "      <th>FIRST_NAME</th>\n",
       "      <th>MIDDLE_NAME</th>\n",
       "      <th>SUFFIX</th>\n",
       "      <th>DATE_OF_BIRTH</th>\n",
       "      <th>REGISTRATION_DATE</th>\n",
       "      <th>VOTER_STATUS</th>\n",
       "      <th>...</th>\n",
       "      <th>GENERAL-11/07/2017</th>\n",
       "      <th>PRIMARY-05/08/2018</th>\n",
       "      <th>GENERAL-08/07/2018</th>\n",
       "      <th>GENERAL-11/06/2018</th>\n",
       "      <th>PRIMARY-05/07/2019</th>\n",
       "      <th>AGE_2016</th>\n",
       "      <th>AGE_2012</th>\n",
       "      <th>AGE_2020</th>\n",
       "      <th>N_VOTED_ELIGIBLE</th>\n",
       "      <th>N_ELIGIBLE</th>\n",
       "    </tr>\n",
       "  </thead>\n",
       "  <tbody>\n",
       "    <tr>\n",
       "      <th>1999447</th>\n",
       "      <td>OH0011130136</td>\n",
       "      <td>20</td>\n",
       "      <td>7101009</td>\n",
       "      <td>SNIDER</td>\n",
       "      <td>LINDA</td>\n",
       "      <td>L</td>\n",
       "      <td>None</td>\n",
       "      <td>1941-06-04</td>\n",
       "      <td>1971-08-17</td>\n",
       "      <td>ACTIVE</td>\n",
       "      <td>...</td>\n",
       "      <td>X</td>\n",
       "      <td>R</td>\n",
       "      <td>None</td>\n",
       "      <td>X</td>\n",
       "      <td>X</td>\n",
       "      <td>75</td>\n",
       "      <td>71</td>\n",
       "      <td>79</td>\n",
       "      <td>35</td>\n",
       "      <td>60</td>\n",
       "    </tr>\n",
       "    <tr>\n",
       "      <th>2787541</th>\n",
       "      <td>OH0020250018</td>\n",
       "      <td>7</td>\n",
       "      <td>61454</td>\n",
       "      <td>SULLIVAN</td>\n",
       "      <td>LYNDSAY</td>\n",
       "      <td>MARIE</td>\n",
       "      <td>None</td>\n",
       "      <td>1977-06-20</td>\n",
       "      <td>2010-05-29</td>\n",
       "      <td>ACTIVE</td>\n",
       "      <td>...</td>\n",
       "      <td>None</td>\n",
       "      <td>None</td>\n",
       "      <td>None</td>\n",
       "      <td>None</td>\n",
       "      <td>None</td>\n",
       "      <td>39</td>\n",
       "      <td>35</td>\n",
       "      <td>43</td>\n",
       "      <td>2</td>\n",
       "      <td>28</td>\n",
       "    </tr>\n",
       "    <tr>\n",
       "      <th>2021961</th>\n",
       "      <td>OH0011554867</td>\n",
       "      <td>15</td>\n",
       "      <td>8002371</td>\n",
       "      <td>SPEARS</td>\n",
       "      <td>LAWRENCE</td>\n",
       "      <td>None</td>\n",
       "      <td>None</td>\n",
       "      <td>1940-05-14</td>\n",
       "      <td>1980-07-15</td>\n",
       "      <td>ACTIVE</td>\n",
       "      <td>...</td>\n",
       "      <td>X</td>\n",
       "      <td>None</td>\n",
       "      <td>None</td>\n",
       "      <td>None</td>\n",
       "      <td>None</td>\n",
       "      <td>76</td>\n",
       "      <td>72</td>\n",
       "      <td>80</td>\n",
       "      <td>25</td>\n",
       "      <td>60</td>\n",
       "    </tr>\n",
       "    <tr>\n",
       "      <th>837321</th>\n",
       "      <td>OH0016215163</td>\n",
       "      <td>6</td>\n",
       "      <td>5252</td>\n",
       "      <td>SCHMITMEYER</td>\n",
       "      <td>ERMA</td>\n",
       "      <td>R</td>\n",
       "      <td>None</td>\n",
       "      <td>1940-09-22</td>\n",
       "      <td>1979-09-24</td>\n",
       "      <td>ACTIVE</td>\n",
       "      <td>...</td>\n",
       "      <td>X</td>\n",
       "      <td>None</td>\n",
       "      <td>None</td>\n",
       "      <td>X</td>\n",
       "      <td>None</td>\n",
       "      <td>76</td>\n",
       "      <td>72</td>\n",
       "      <td>80</td>\n",
       "      <td>13</td>\n",
       "      <td>60</td>\n",
       "    </tr>\n",
       "    <tr>\n",
       "      <th>1307711</th>\n",
       "      <td>OH0011568971</td>\n",
       "      <td>10</td>\n",
       "      <td>9705724</td>\n",
       "      <td>BANTA</td>\n",
       "      <td>STARLA</td>\n",
       "      <td>L</td>\n",
       "      <td>None</td>\n",
       "      <td>1965-10-07</td>\n",
       "      <td>2002-03-19</td>\n",
       "      <td>ACTIVE</td>\n",
       "      <td>...</td>\n",
       "      <td>None</td>\n",
       "      <td>X</td>\n",
       "      <td>None</td>\n",
       "      <td>None</td>\n",
       "      <td>None</td>\n",
       "      <td>51</td>\n",
       "      <td>47</td>\n",
       "      <td>55</td>\n",
       "      <td>12</td>\n",
       "      <td>56</td>\n",
       "    </tr>\n",
       "  </tbody>\n",
       "</table>\n",
       "<p>5 rows × 111 columns</p>\n",
       "</div>"
      ],
      "text/plain": [
       "          SOS_VOTERID  COUNTY_NUMBER  COUNTY_ID    LAST_NAME FIRST_NAME  \\\n",
       "1999447  OH0011130136             20    7101009       SNIDER      LINDA   \n",
       "2787541  OH0020250018              7      61454     SULLIVAN    LYNDSAY   \n",
       "2021961  OH0011554867             15    8002371       SPEARS   LAWRENCE   \n",
       "837321   OH0016215163              6       5252  SCHMITMEYER       ERMA   \n",
       "1307711  OH0011568971             10    9705724        BANTA     STARLA   \n",
       "\n",
       "        MIDDLE_NAME SUFFIX DATE_OF_BIRTH REGISTRATION_DATE VOTER_STATUS  ...  \\\n",
       "1999447           L   None    1941-06-04        1971-08-17       ACTIVE  ...   \n",
       "2787541       MARIE   None    1977-06-20        2010-05-29       ACTIVE  ...   \n",
       "2021961        None   None    1940-05-14        1980-07-15       ACTIVE  ...   \n",
       "837321            R   None    1940-09-22        1979-09-24       ACTIVE  ...   \n",
       "1307711           L   None    1965-10-07        2002-03-19       ACTIVE  ...   \n",
       "\n",
       "        GENERAL-11/07/2017 PRIMARY-05/08/2018 GENERAL-08/07/2018  \\\n",
       "1999447                  X                  R               None   \n",
       "2787541               None               None               None   \n",
       "2021961                  X               None               None   \n",
       "837321                   X               None               None   \n",
       "1307711               None                  X               None   \n",
       "\n",
       "        GENERAL-11/06/2018 PRIMARY-05/07/2019  AGE_2016  AGE_2012  AGE_2020  \\\n",
       "1999447                  X                  X        75        71        79   \n",
       "2787541               None               None        39        35        43   \n",
       "2021961               None               None        76        72        80   \n",
       "837321                   X               None        76        72        80   \n",
       "1307711               None               None        51        47        55   \n",
       "\n",
       "         N_VOTED_ELIGIBLE N_ELIGIBLE  \n",
       "1999447                35         60  \n",
       "2787541                 2         28  \n",
       "2021961                25         60  \n",
       "837321                 13         60  \n",
       "1307711                12         56  \n",
       "\n",
       "[5 rows x 111 columns]"
      ]
     },
     "execution_count": 19,
     "metadata": {},
     "output_type": "execute_result"
    }
   ],
   "source": [
    "oh_train.head()"
   ]
  },
  {
   "cell_type": "code",
   "execution_count": 20,
   "metadata": {
    "scrolled": true
   },
   "outputs": [
    {
     "data": {
      "application/vnd.jupyter.widget-view+json": {
       "model_id": "42a6ddcad8684cf0bbf0a03daa3838bc",
       "version_major": 2,
       "version_minor": 0
      },
      "text/plain": [
       "HBox(children=(IntProgress(value=0, max=2817138), HTML(value='')))"
      ]
     },
     "metadata": {},
     "output_type": "display_data"
    },
    {
     "name": "stdout",
     "output_type": "stream",
     "text": [
      "\n"
     ]
    },
    {
     "data": {
      "application/vnd.jupyter.widget-view+json": {
       "model_id": "3c701afac2f94035b82fe58e8d32c2cf",
       "version_major": 2,
       "version_minor": 0
      },
      "text/plain": [
       "HBox(children=(IntProgress(value=0, max=2817138), HTML(value='')))"
      ]
     },
     "metadata": {},
     "output_type": "display_data"
    },
    {
     "name": "stdout",
     "output_type": "stream",
     "text": [
      "\n"
     ]
    }
   ],
   "source": [
    "oh_train['N_VOTED_ELIGIBLE_2012'] = oh_train.progress_apply(lambda row: n_eligible_voted(row,date_2000,date_2012), axis=1)\n",
    "oh_train['N_ELIGIBLE_2012'] = oh_train.progress_apply(lambda row: n_eligible(row,date_2000,date_2012), axis=1)"
   ]
  },
  {
   "cell_type": "code",
   "execution_count": 21,
   "metadata": {},
   "outputs": [
    {
     "data": {
      "application/vnd.jupyter.widget-view+json": {
       "model_id": "27adb3fc538d42108096adc6d77becc3",
       "version_major": 2,
       "version_minor": 0
      },
      "text/plain": [
       "HBox(children=(IntProgress(value=0, max=2817138), HTML(value='')))"
      ]
     },
     "metadata": {},
     "output_type": "display_data"
    },
    {
     "name": "stdout",
     "output_type": "stream",
     "text": [
      "\n"
     ]
    },
    {
     "data": {
      "application/vnd.jupyter.widget-view+json": {
       "model_id": "420a44b4dbe043b4ba9ca7dd08e1a8bc",
       "version_major": 2,
       "version_minor": 0
      },
      "text/plain": [
       "HBox(children=(IntProgress(value=0, max=2817138), HTML(value='')))"
      ]
     },
     "metadata": {},
     "output_type": "display_data"
    },
    {
     "name": "stdout",
     "output_type": "stream",
     "text": [
      "\n"
     ]
    }
   ],
   "source": [
    "oh_train['N_VOTED_ELIGIBLE_2016'] = oh_train.progress_apply(lambda row: n_eligible_voted(row,date_2004,date_2016), axis=1)\n",
    "oh_train['N_ELIGIBLE_2016'] = oh_train.progress_apply(lambda row: n_eligible(row,date_2004,date_2016), axis=1)"
   ]
  },
  {
   "cell_type": "code",
   "execution_count": 22,
   "metadata": {},
   "outputs": [
    {
     "data": {
      "application/vnd.jupyter.widget-view+json": {
       "model_id": "09bbeb6b65f14e319e638a0673522262",
       "version_major": 2,
       "version_minor": 0
      },
      "text/plain": [
       "HBox(children=(IntProgress(value=0, max=2817138), HTML(value='')))"
      ]
     },
     "metadata": {},
     "output_type": "display_data"
    },
    {
     "name": "stdout",
     "output_type": "stream",
     "text": [
      "\n"
     ]
    },
    {
     "data": {
      "application/vnd.jupyter.widget-view+json": {
       "model_id": "ee51add82e2e4f57a3cc61261b19df4a",
       "version_major": 2,
       "version_minor": 0
      },
      "text/plain": [
       "HBox(children=(IntProgress(value=0, max=2817138), HTML(value='')))"
      ]
     },
     "metadata": {},
     "output_type": "display_data"
    },
    {
     "name": "stdout",
     "output_type": "stream",
     "text": [
      "\n"
     ]
    }
   ],
   "source": [
    "oh_train['N_VOTED_ELIGIBLE_2020'] = oh_train.progress_apply(lambda row: n_eligible_voted(row,date_2008,date_2020), axis=1)\n",
    "oh_train['N_ELIGIBLE_2020'] = oh_train.progress_apply(lambda row: n_eligible(row,date_2008,date_2020), axis=1)"
   ]
  },
  {
   "cell_type": "code",
   "execution_count": 24,
   "metadata": {},
   "outputs": [],
   "source": [
    "feather.write_dataframe(oh_train,'/Volumes/FileStorage/Insight_data/Ohio_data/data_feather/train_subset.feather')"
   ]
  },
  {
   "cell_type": "code",
   "execution_count": 27,
   "metadata": {},
   "outputs": [
    {
     "data": {
      "text/html": [
       "<div>\n",
       "<style scoped>\n",
       "    .dataframe tbody tr th:only-of-type {\n",
       "        vertical-align: middle;\n",
       "    }\n",
       "\n",
       "    .dataframe tbody tr th {\n",
       "        vertical-align: top;\n",
       "    }\n",
       "\n",
       "    .dataframe thead th {\n",
       "        text-align: right;\n",
       "    }\n",
       "</style>\n",
       "<table border=\"1\" class=\"dataframe\">\n",
       "  <thead>\n",
       "    <tr style=\"text-align: right;\">\n",
       "      <th></th>\n",
       "      <th>SOS_VOTERID</th>\n",
       "      <th>COUNTY_NUMBER</th>\n",
       "      <th>COUNTY_ID</th>\n",
       "      <th>LAST_NAME</th>\n",
       "      <th>FIRST_NAME</th>\n",
       "      <th>MIDDLE_NAME</th>\n",
       "      <th>SUFFIX</th>\n",
       "      <th>DATE_OF_BIRTH</th>\n",
       "      <th>REGISTRATION_DATE</th>\n",
       "      <th>VOTER_STATUS</th>\n",
       "      <th>...</th>\n",
       "      <th>AGE_2012</th>\n",
       "      <th>AGE_2020</th>\n",
       "      <th>N_VOTED_ELIGIBLE</th>\n",
       "      <th>N_ELIGIBLE</th>\n",
       "      <th>N_VOTED_ELIGIBLE_2012</th>\n",
       "      <th>N_ELIGIBLE_2012</th>\n",
       "      <th>N_VOTED_ELIGIBLE_2016</th>\n",
       "      <th>N_ELIGIBLE_2016</th>\n",
       "      <th>N_VOTED_ELIGIBLE_2020</th>\n",
       "      <th>N_ELIGIBLE_2020</th>\n",
       "    </tr>\n",
       "  </thead>\n",
       "  <tbody>\n",
       "    <tr>\n",
       "      <th>1999447</th>\n",
       "      <td>OH0011130136</td>\n",
       "      <td>20</td>\n",
       "      <td>7101009</td>\n",
       "      <td>SNIDER</td>\n",
       "      <td>LINDA</td>\n",
       "      <td>L</td>\n",
       "      <td>None</td>\n",
       "      <td>1941-06-04</td>\n",
       "      <td>1971-08-17</td>\n",
       "      <td>ACTIVE</td>\n",
       "      <td>...</td>\n",
       "      <td>71</td>\n",
       "      <td>79</td>\n",
       "      <td>35</td>\n",
       "      <td>60</td>\n",
       "      <td>22</td>\n",
       "      <td>37</td>\n",
       "      <td>21</td>\n",
       "      <td>42</td>\n",
       "      <td>17</td>\n",
       "      <td>35</td>\n",
       "    </tr>\n",
       "    <tr>\n",
       "      <th>2787541</th>\n",
       "      <td>OH0020250018</td>\n",
       "      <td>7</td>\n",
       "      <td>61454</td>\n",
       "      <td>SULLIVAN</td>\n",
       "      <td>LYNDSAY</td>\n",
       "      <td>MARIE</td>\n",
       "      <td>None</td>\n",
       "      <td>1977-06-20</td>\n",
       "      <td>2010-05-29</td>\n",
       "      <td>ACTIVE</td>\n",
       "      <td>...</td>\n",
       "      <td>35</td>\n",
       "      <td>43</td>\n",
       "      <td>2</td>\n",
       "      <td>28</td>\n",
       "      <td>1</td>\n",
       "      <td>7</td>\n",
       "      <td>2</td>\n",
       "      <td>20</td>\n",
       "      <td>2</td>\n",
       "      <td>28</td>\n",
       "    </tr>\n",
       "    <tr>\n",
       "      <th>2021961</th>\n",
       "      <td>OH0011554867</td>\n",
       "      <td>15</td>\n",
       "      <td>8002371</td>\n",
       "      <td>SPEARS</td>\n",
       "      <td>LAWRENCE</td>\n",
       "      <td>None</td>\n",
       "      <td>None</td>\n",
       "      <td>1940-05-14</td>\n",
       "      <td>1980-07-15</td>\n",
       "      <td>ACTIVE</td>\n",
       "      <td>...</td>\n",
       "      <td>72</td>\n",
       "      <td>80</td>\n",
       "      <td>25</td>\n",
       "      <td>60</td>\n",
       "      <td>18</td>\n",
       "      <td>37</td>\n",
       "      <td>15</td>\n",
       "      <td>42</td>\n",
       "      <td>10</td>\n",
       "      <td>35</td>\n",
       "    </tr>\n",
       "    <tr>\n",
       "      <th>837321</th>\n",
       "      <td>OH0016215163</td>\n",
       "      <td>6</td>\n",
       "      <td>5252</td>\n",
       "      <td>SCHMITMEYER</td>\n",
       "      <td>ERMA</td>\n",
       "      <td>R</td>\n",
       "      <td>None</td>\n",
       "      <td>1940-09-22</td>\n",
       "      <td>1979-09-24</td>\n",
       "      <td>ACTIVE</td>\n",
       "      <td>...</td>\n",
       "      <td>72</td>\n",
       "      <td>80</td>\n",
       "      <td>13</td>\n",
       "      <td>60</td>\n",
       "      <td>6</td>\n",
       "      <td>37</td>\n",
       "      <td>8</td>\n",
       "      <td>42</td>\n",
       "      <td>9</td>\n",
       "      <td>35</td>\n",
       "    </tr>\n",
       "    <tr>\n",
       "      <th>1307711</th>\n",
       "      <td>OH0011568971</td>\n",
       "      <td>10</td>\n",
       "      <td>9705724</td>\n",
       "      <td>BANTA</td>\n",
       "      <td>STARLA</td>\n",
       "      <td>L</td>\n",
       "      <td>None</td>\n",
       "      <td>1965-10-07</td>\n",
       "      <td>2002-03-19</td>\n",
       "      <td>ACTIVE</td>\n",
       "      <td>...</td>\n",
       "      <td>47</td>\n",
       "      <td>55</td>\n",
       "      <td>12</td>\n",
       "      <td>56</td>\n",
       "      <td>8</td>\n",
       "      <td>35</td>\n",
       "      <td>9</td>\n",
       "      <td>42</td>\n",
       "      <td>7</td>\n",
       "      <td>35</td>\n",
       "    </tr>\n",
       "  </tbody>\n",
       "</table>\n",
       "<p>5 rows × 117 columns</p>\n",
       "</div>"
      ],
      "text/plain": [
       "          SOS_VOTERID  COUNTY_NUMBER  COUNTY_ID    LAST_NAME FIRST_NAME  \\\n",
       "1999447  OH0011130136             20    7101009       SNIDER      LINDA   \n",
       "2787541  OH0020250018              7      61454     SULLIVAN    LYNDSAY   \n",
       "2021961  OH0011554867             15    8002371       SPEARS   LAWRENCE   \n",
       "837321   OH0016215163              6       5252  SCHMITMEYER       ERMA   \n",
       "1307711  OH0011568971             10    9705724        BANTA     STARLA   \n",
       "\n",
       "        MIDDLE_NAME SUFFIX DATE_OF_BIRTH REGISTRATION_DATE VOTER_STATUS  ...  \\\n",
       "1999447           L   None    1941-06-04        1971-08-17       ACTIVE  ...   \n",
       "2787541       MARIE   None    1977-06-20        2010-05-29       ACTIVE  ...   \n",
       "2021961        None   None    1940-05-14        1980-07-15       ACTIVE  ...   \n",
       "837321            R   None    1940-09-22        1979-09-24       ACTIVE  ...   \n",
       "1307711           L   None    1965-10-07        2002-03-19       ACTIVE  ...   \n",
       "\n",
       "        AGE_2012 AGE_2020 N_VOTED_ELIGIBLE N_ELIGIBLE N_VOTED_ELIGIBLE_2012  \\\n",
       "1999447       71       79               35         60                    22   \n",
       "2787541       35       43                2         28                     1   \n",
       "2021961       72       80               25         60                    18   \n",
       "837321        72       80               13         60                     6   \n",
       "1307711       47       55               12         56                     8   \n",
       "\n",
       "         N_ELIGIBLE_2012  N_VOTED_ELIGIBLE_2016  N_ELIGIBLE_2016  \\\n",
       "1999447               37                     21               42   \n",
       "2787541                7                      2               20   \n",
       "2021961               37                     15               42   \n",
       "837321                37                      8               42   \n",
       "1307711               35                      9               42   \n",
       "\n",
       "         N_VOTED_ELIGIBLE_2020 N_ELIGIBLE_2020  \n",
       "1999447                     17              35  \n",
       "2787541                      2              28  \n",
       "2021961                     10              35  \n",
       "837321                       9              35  \n",
       "1307711                      7              35  \n",
       "\n",
       "[5 rows x 117 columns]"
      ]
     },
     "execution_count": 27,
     "metadata": {},
     "output_type": "execute_result"
    }
   ],
   "source": [
    "oh_train.head()"
   ]
  },
  {
   "cell_type": "code",
   "execution_count": 25,
   "metadata": {},
   "outputs": [],
   "source": [
    "def row_ratio(row,year):\n",
    "    eligible_column = 'N_ELIGIBLE_'+year\n",
    "    voted_column = 'N_VOTED_ELIGIBLE_'+year\n",
    "    voted_i= row[voted_column]\n",
    "    eligible_i = row[eligible_column]\n",
    "    if eligible_i != 0:\n",
    "        v_ratio = voted_i/eligible_i\n",
    "    else:\n",
    "        v_ratio = float('Inf')\n",
    "    return v_ratio"
   ]
  },
  {
   "cell_type": "code",
   "execution_count": 29,
   "metadata": {},
   "outputs": [
    {
     "data": {
      "application/vnd.jupyter.widget-view+json": {
       "model_id": "030b67ca4a33449ea37b5837e01339ea",
       "version_major": 2,
       "version_minor": 0
      },
      "text/plain": [
       "HBox(children=(IntProgress(value=0, max=2817138), HTML(value='')))"
      ]
     },
     "metadata": {},
     "output_type": "display_data"
    },
    {
     "name": "stdout",
     "output_type": "stream",
     "text": [
      "\n"
     ]
    }
   ],
   "source": [
    "oh_train['RATIO_2012'] = oh_train.progress_apply(lambda row: row_ratio(row,'2012'), axis=1)"
   ]
  },
  {
   "cell_type": "code",
   "execution_count": 30,
   "metadata": {},
   "outputs": [
    {
     "data": {
      "application/vnd.jupyter.widget-view+json": {
       "model_id": "b7f90f763fc84fd19eb340cf56bcd6f9",
       "version_major": 2,
       "version_minor": 0
      },
      "text/plain": [
       "HBox(children=(IntProgress(value=0, max=2817138), HTML(value='')))"
      ]
     },
     "metadata": {},
     "output_type": "display_data"
    },
    {
     "name": "stdout",
     "output_type": "stream",
     "text": [
      "\n"
     ]
    }
   ],
   "source": [
    "oh_train['RATIO_2016'] = oh_train.progress_apply(lambda row: row_ratio(row,'2016'), axis=1)"
   ]
  },
  {
   "cell_type": "code",
   "execution_count": 31,
   "metadata": {},
   "outputs": [
    {
     "data": {
      "application/vnd.jupyter.widget-view+json": {
       "model_id": "646e6bd22a2444f7ae8be36a857ba6fe",
       "version_major": 2,
       "version_minor": 0
      },
      "text/plain": [
       "HBox(children=(IntProgress(value=0, max=2817138), HTML(value='')))"
      ]
     },
     "metadata": {},
     "output_type": "display_data"
    },
    {
     "name": "stdout",
     "output_type": "stream",
     "text": [
      "\n"
     ]
    }
   ],
   "source": [
    "oh_train['RATIO_2020'] = oh_train.progress_apply(lambda row: row_ratio(row,'2020'), axis=1)"
   ]
  },
  {
   "cell_type": "code",
   "execution_count": 32,
   "metadata": {},
   "outputs": [],
   "source": [
    "feather.write_dataframe(oh_train,'/Volumes/FileStorage/Insight_data/Ohio_data/data_feather/train_subset.feather')"
   ]
  },
  {
   "cell_type": "code",
   "execution_count": 33,
   "metadata": {},
   "outputs": [],
   "source": [
    "%matplotlib inline"
   ]
  },
  {
   "cell_type": "code",
   "execution_count": 40,
   "metadata": {},
   "outputs": [
    {
     "data": {
      "text/html": [
       "<div>\n",
       "<style scoped>\n",
       "    .dataframe tbody tr th:only-of-type {\n",
       "        vertical-align: middle;\n",
       "    }\n",
       "\n",
       "    .dataframe tbody tr th {\n",
       "        vertical-align: top;\n",
       "    }\n",
       "\n",
       "    .dataframe thead th {\n",
       "        text-align: right;\n",
       "    }\n",
       "</style>\n",
       "<table border=\"1\" class=\"dataframe\">\n",
       "  <thead>\n",
       "    <tr style=\"text-align: right;\">\n",
       "      <th></th>\n",
       "      <th>SOS_VOTERID</th>\n",
       "      <th>COUNTY_NUMBER</th>\n",
       "      <th>COUNTY_ID</th>\n",
       "      <th>LAST_NAME</th>\n",
       "      <th>FIRST_NAME</th>\n",
       "      <th>MIDDLE_NAME</th>\n",
       "      <th>SUFFIX</th>\n",
       "      <th>DATE_OF_BIRTH</th>\n",
       "      <th>REGISTRATION_DATE</th>\n",
       "      <th>VOTER_STATUS</th>\n",
       "      <th>...</th>\n",
       "      <th>N_ELIGIBLE</th>\n",
       "      <th>N_VOTED_ELIGIBLE_2012</th>\n",
       "      <th>N_ELIGIBLE_2012</th>\n",
       "      <th>N_VOTED_ELIGIBLE_2016</th>\n",
       "      <th>N_ELIGIBLE_2016</th>\n",
       "      <th>N_VOTED_ELIGIBLE_2020</th>\n",
       "      <th>N_ELIGIBLE_2020</th>\n",
       "      <th>RATIO_2012</th>\n",
       "      <th>RATIO_2016</th>\n",
       "      <th>RATIO_2020</th>\n",
       "    </tr>\n",
       "  </thead>\n",
       "  <tbody>\n",
       "    <tr>\n",
       "      <th>1999447</th>\n",
       "      <td>OH0011130136</td>\n",
       "      <td>20</td>\n",
       "      <td>7101009</td>\n",
       "      <td>SNIDER</td>\n",
       "      <td>LINDA</td>\n",
       "      <td>L</td>\n",
       "      <td>None</td>\n",
       "      <td>1941-06-04</td>\n",
       "      <td>1971-08-17</td>\n",
       "      <td>ACTIVE</td>\n",
       "      <td>...</td>\n",
       "      <td>60</td>\n",
       "      <td>22</td>\n",
       "      <td>37</td>\n",
       "      <td>21</td>\n",
       "      <td>42</td>\n",
       "      <td>17</td>\n",
       "      <td>35</td>\n",
       "      <td>0.594595</td>\n",
       "      <td>0.500000</td>\n",
       "      <td>0.485714</td>\n",
       "    </tr>\n",
       "    <tr>\n",
       "      <th>2787541</th>\n",
       "      <td>OH0020250018</td>\n",
       "      <td>7</td>\n",
       "      <td>61454</td>\n",
       "      <td>SULLIVAN</td>\n",
       "      <td>LYNDSAY</td>\n",
       "      <td>MARIE</td>\n",
       "      <td>None</td>\n",
       "      <td>1977-06-20</td>\n",
       "      <td>2010-05-29</td>\n",
       "      <td>ACTIVE</td>\n",
       "      <td>...</td>\n",
       "      <td>28</td>\n",
       "      <td>1</td>\n",
       "      <td>7</td>\n",
       "      <td>2</td>\n",
       "      <td>20</td>\n",
       "      <td>2</td>\n",
       "      <td>28</td>\n",
       "      <td>0.142857</td>\n",
       "      <td>0.100000</td>\n",
       "      <td>0.071429</td>\n",
       "    </tr>\n",
       "    <tr>\n",
       "      <th>2021961</th>\n",
       "      <td>OH0011554867</td>\n",
       "      <td>15</td>\n",
       "      <td>8002371</td>\n",
       "      <td>SPEARS</td>\n",
       "      <td>LAWRENCE</td>\n",
       "      <td>None</td>\n",
       "      <td>None</td>\n",
       "      <td>1940-05-14</td>\n",
       "      <td>1980-07-15</td>\n",
       "      <td>ACTIVE</td>\n",
       "      <td>...</td>\n",
       "      <td>60</td>\n",
       "      <td>18</td>\n",
       "      <td>37</td>\n",
       "      <td>15</td>\n",
       "      <td>42</td>\n",
       "      <td>10</td>\n",
       "      <td>35</td>\n",
       "      <td>0.486486</td>\n",
       "      <td>0.357143</td>\n",
       "      <td>0.285714</td>\n",
       "    </tr>\n",
       "    <tr>\n",
       "      <th>837321</th>\n",
       "      <td>OH0016215163</td>\n",
       "      <td>6</td>\n",
       "      <td>5252</td>\n",
       "      <td>SCHMITMEYER</td>\n",
       "      <td>ERMA</td>\n",
       "      <td>R</td>\n",
       "      <td>None</td>\n",
       "      <td>1940-09-22</td>\n",
       "      <td>1979-09-24</td>\n",
       "      <td>ACTIVE</td>\n",
       "      <td>...</td>\n",
       "      <td>60</td>\n",
       "      <td>6</td>\n",
       "      <td>37</td>\n",
       "      <td>8</td>\n",
       "      <td>42</td>\n",
       "      <td>9</td>\n",
       "      <td>35</td>\n",
       "      <td>0.162162</td>\n",
       "      <td>0.190476</td>\n",
       "      <td>0.257143</td>\n",
       "    </tr>\n",
       "    <tr>\n",
       "      <th>1307711</th>\n",
       "      <td>OH0011568971</td>\n",
       "      <td>10</td>\n",
       "      <td>9705724</td>\n",
       "      <td>BANTA</td>\n",
       "      <td>STARLA</td>\n",
       "      <td>L</td>\n",
       "      <td>None</td>\n",
       "      <td>1965-10-07</td>\n",
       "      <td>2002-03-19</td>\n",
       "      <td>ACTIVE</td>\n",
       "      <td>...</td>\n",
       "      <td>56</td>\n",
       "      <td>8</td>\n",
       "      <td>35</td>\n",
       "      <td>9</td>\n",
       "      <td>42</td>\n",
       "      <td>7</td>\n",
       "      <td>35</td>\n",
       "      <td>0.228571</td>\n",
       "      <td>0.214286</td>\n",
       "      <td>0.200000</td>\n",
       "    </tr>\n",
       "  </tbody>\n",
       "</table>\n",
       "<p>5 rows × 120 columns</p>\n",
       "</div>"
      ],
      "text/plain": [
       "          SOS_VOTERID  COUNTY_NUMBER  COUNTY_ID    LAST_NAME FIRST_NAME  \\\n",
       "1999447  OH0011130136             20    7101009       SNIDER      LINDA   \n",
       "2787541  OH0020250018              7      61454     SULLIVAN    LYNDSAY   \n",
       "2021961  OH0011554867             15    8002371       SPEARS   LAWRENCE   \n",
       "837321   OH0016215163              6       5252  SCHMITMEYER       ERMA   \n",
       "1307711  OH0011568971             10    9705724        BANTA     STARLA   \n",
       "\n",
       "        MIDDLE_NAME SUFFIX DATE_OF_BIRTH REGISTRATION_DATE VOTER_STATUS  ...  \\\n",
       "1999447           L   None    1941-06-04        1971-08-17       ACTIVE  ...   \n",
       "2787541       MARIE   None    1977-06-20        2010-05-29       ACTIVE  ...   \n",
       "2021961        None   None    1940-05-14        1980-07-15       ACTIVE  ...   \n",
       "837321            R   None    1940-09-22        1979-09-24       ACTIVE  ...   \n",
       "1307711           L   None    1965-10-07        2002-03-19       ACTIVE  ...   \n",
       "\n",
       "        N_ELIGIBLE N_VOTED_ELIGIBLE_2012 N_ELIGIBLE_2012  \\\n",
       "1999447         60                    22              37   \n",
       "2787541         28                     1               7   \n",
       "2021961         60                    18              37   \n",
       "837321          60                     6              37   \n",
       "1307711         56                     8              35   \n",
       "\n",
       "        N_VOTED_ELIGIBLE_2016 N_ELIGIBLE_2016  N_VOTED_ELIGIBLE_2020  \\\n",
       "1999447                    21              42                     17   \n",
       "2787541                     2              20                      2   \n",
       "2021961                    15              42                     10   \n",
       "837321                      8              42                      9   \n",
       "1307711                     9              42                      7   \n",
       "\n",
       "         N_ELIGIBLE_2020  RATIO_2012  RATIO_2016 RATIO_2020  \n",
       "1999447               35    0.594595    0.500000   0.485714  \n",
       "2787541               28    0.142857    0.100000   0.071429  \n",
       "2021961               35    0.486486    0.357143   0.285714  \n",
       "837321                35    0.162162    0.190476   0.257143  \n",
       "1307711               35    0.228571    0.214286   0.200000  \n",
       "\n",
       "[5 rows x 120 columns]"
      ]
     },
     "execution_count": 40,
     "metadata": {},
     "output_type": "execute_result"
    }
   ],
   "source": [
    "oh_train.head()"
   ]
  },
  {
   "cell_type": "code",
   "execution_count": 103,
   "metadata": {},
   "outputs": [
    {
     "data": {
      "text/plain": [
       "AGE_2016                int64\n",
       "GENERAL-11/06/2012       int8\n",
       "RATIO_2016            float64\n",
       "GENERAL-11/08/2016       int8\n",
       "dtype: object"
      ]
     },
     "execution_count": 103,
     "metadata": {},
     "output_type": "execute_result"
    }
   ],
   "source": [
    "traits=['AGE_2016','GENERAL-11/06/2012','RATIO_2016', 'GENERAL-11/08/2016']\n",
    "traits_plot=['Age','Voted 2012','Ratio(Voted/Elections)','Voted 2016']\n",
    "oh_train[traits].dtypes"
   ]
  },
  {
   "cell_type": "code",
   "execution_count": 84,
   "metadata": {},
   "outputs": [],
   "source": [
    "oh_train=oh_train.astype({'RESIDENTIAL_ZIP': 'category'})\n",
    "oh_train['RESIDENTIAL_ZIP'] = oh_train['RESIDENTIAL_ZIP'].astype('category')"
   ]
  },
  {
   "cell_type": "code",
   "execution_count": 85,
   "metadata": {},
   "outputs": [],
   "source": [
    "oh_train.astype({'GENERAL-11/06/2012': 'category'})\n",
    "oh_train.astype({'GENERAL-11/08/2016': 'category'})\n",
    "oh_train['GENERAL-11/06/2012'] = oh_train['GENERAL-11/06/2012'].astype('category')\n",
    "oh_train['GENERAL-11/08/2016'] = oh_train['GENERAL-11/08/2016'].astype('category')"
   ]
  },
  {
   "cell_type": "code",
   "execution_count": 94,
   "metadata": {},
   "outputs": [
    {
     "data": {
      "text/plain": [
       "1999447      X\n",
       "2787541    NaN\n",
       "2021961      X\n",
       "837321       X\n",
       "1307711      X\n",
       "Name: GENERAL-11/06/2012, dtype: category\n",
       "Categories (1, object): [X]"
      ]
     },
     "execution_count": 94,
     "metadata": {},
     "output_type": "execute_result"
    }
   ],
   "source": [
    "oh_train['GENERAL-11/06/2012'].head()"
   ]
  },
  {
   "cell_type": "code",
   "execution_count": 100,
   "metadata": {},
   "outputs": [
    {
     "data": {
      "application/vnd.jupyter.widget-view+json": {
       "model_id": "2e01c993139a4acdb917544d5551b959",
       "version_major": 2,
       "version_minor": 0
      },
      "text/plain": [
       "HBox(children=(IntProgress(value=0, max=2), HTML(value='')))"
      ]
     },
     "metadata": {},
     "output_type": "display_data"
    },
    {
     "name": "stdout",
     "output_type": "stream",
     "text": [
      "\n"
     ]
    }
   ],
   "source": [
    "el_train_list=['GENERAL-11/06/2012','GENERAL-11/08/2016']\n",
    "oh_train['GENERAL-11/06/2012'].cat.codes.head()\n",
    "oh_train[el_train_list] = oh_train[el_train_list].progress_apply(lambda x: x.cat.codes)"
   ]
  },
  {
   "cell_type": "code",
   "execution_count": 104,
   "metadata": {},
   "outputs": [
    {
     "name": "stdout",
     "output_type": "stream",
     "text": [
      "                    AGE_2016  GENERAL-11/06/2012  RATIO_2016  \\\n",
      "AGE_2016            1.000000            0.449604    0.459828   \n",
      "GENERAL-11/06/2012  0.449604            1.000000    0.510865   \n",
      "RATIO_2016          0.459828            0.510865    1.000000   \n",
      "GENERAL-11/08/2016  0.333517            0.509555    0.477048   \n",
      "\n",
      "                    GENERAL-11/08/2016  \n",
      "AGE_2016                      0.333517  \n",
      "GENERAL-11/06/2012            0.509555  \n",
      "RATIO_2016                    0.477048  \n",
      "GENERAL-11/08/2016            1.000000  \n"
     ]
    }
   ],
   "source": [
    "correlations=oh_train[traits].corr()\n",
    "print(correlations)"
   ]
  },
  {
   "cell_type": "code",
   "execution_count": 113,
   "metadata": {},
   "outputs": [
    {
     "name": "stdout",
     "output_type": "stream",
     "text": [
      "['Age', 'Voted 2012', 'Ratio(Voted/Elections)', 'Voted 2016']\n"
     ]
    },
    {
     "data": {
      "image/png": "[encoded data removed]",
      "text/plain": [
       "<Figure size 432x288 with 2 Axes>"
      ]
     },
     "metadata": {
      "needs_background": "light"
     },
     "output_type": "display_data"
    }
   ],
   "source": [
    "fig = plt.figure()\n",
    "ax = fig.add_subplot(111)\n",
    "cax = ax.matshow(correlations, vmin=-1, vmax=1)\n",
    "fig.colorbar(cax)\n",
    "print(traits_plot)\n",
    "ax.set_xticks(np.arange(0,correlations.shape[0], correlations.shape[0]*1.0/len(traits_plot)))\n",
    "ax.set_yticks(np.arange(0,correlations.shape[1], correlations.shape[1]*1.0/len(traits_plot)))\n",
    "ax.set_xticklabels(traits_plot,rotation=45)\n",
    "ax.set_yticklabels(traits_plot)\n",
    "plt.show()"
   ]
  },
  {
   "cell_type": "code",
   "execution_count": 57,
   "metadata": {},
   "outputs": [
    {
     "data": {
      "text/plain": [
       "[Text(0, 0.5, 'Voters'), Text(0.5, 0, '#Presidential elections')]"
      ]
     },
     "execution_count": 57,
     "metadata": {},
     "output_type": "execute_result"
    },
    {
     "data": {
      "image/png": "[encoded data removed]",
      "text/plain": [
       "<Figure size 432x288 with 1 Axes>"
      ]
     },
     "metadata": {
      "needs_background": "light"
     },
     "output_type": "display_data"
    }
   ],
   "source": [
    "import seaborn\n",
    "\n",
    "presidential_list=['GENERAL-11/07/2000','GENERAL-11/02/2004','GENERAL-11/04/2008','GENERAL-11/06/2012','GENERAL-11/08/2016']\n",
    "presidential_n=oh_train[presidential_list].notnull().sum(axis=1)\n",
    "ax = seaborn.distplot(presidential_n,bins=5,kde=False, rug=True);\n",
    "ax.set(xlabel='#Presidential elections', ylabel='Voters')"
   ]
  },
  {
   "cell_type": "code",
   "execution_count": 114,
   "metadata": {},
   "outputs": [],
   "source": [
    "X_train = oh_train.loc[:, traits]"
   ]
  },
  {
   "cell_type": "code",
   "execution_count": 115,
   "metadata": {},
   "outputs": [
    {
     "data": {
      "text/plain": [
       "(2817138, 4)"
      ]
     },
     "execution_count": 115,
     "metadata": {},
     "output_type": "execute_result"
    }
   ],
   "source": [
    "X_train.shape"
   ]
  },
  {
   "cell_type": "code",
   "execution_count": 163,
   "metadata": {},
   "outputs": [],
   "source": [
    "Y_train=oh_train['GENERAL-11/08/2016']"
   ]
  },
  {
   "cell_type": "code",
   "execution_count": 120,
   "metadata": {},
   "outputs": [
    {
     "data": {
      "text/plain": [
       "(2817138,)"
      ]
     },
     "execution_count": 120,
     "metadata": {},
     "output_type": "execute_result"
    }
   ],
   "source": [
    "Y_train.shape"
   ]
  },
  {
   "cell_type": "code",
   "execution_count": 133,
   "metadata": {},
   "outputs": [],
   "source": [
    "from sklearn.linear_model import LogisticRegression\n",
    "logreg = LogisticRegression(solver='lbfgs')"
   ]
  },
  {
   "cell_type": "code",
   "execution_count": 191,
   "metadata": {},
   "outputs": [],
   "source": [
    "X_train['RATIO_2016']=X_train['RATIO_2016'].replace(float('Inf'), 0)"
   ]
  },
  {
   "cell_type": "code",
   "execution_count": 192,
   "metadata": {},
   "outputs": [
    {
     "data": {
      "text/plain": [
       "AGE_2016              True\n",
       "GENERAL-11/06/2012    True\n",
       "RATIO_2016            True\n",
       "GENERAL-11/08/2016    True\n",
       "dtype: bool"
      ]
     },
     "execution_count": 192,
     "metadata": {},
     "output_type": "execute_result"
    }
   ],
   "source": [
    "np.isfinite(X_train).all()"
   ]
  },
  {
   "cell_type": "code",
   "execution_count": 170,
   "metadata": {},
   "outputs": [
    {
     "data": {
      "text/plain": [
       "False"
      ]
     },
     "execution_count": 170,
     "metadata": {},
     "output_type": "execute_result"
    }
   ],
   "source": [
    "np.any(np.isnan(Y_train))"
   ]
  },
  {
   "cell_type": "code",
   "execution_count": 169,
   "metadata": {},
   "outputs": [
    {
     "data": {
      "text/plain": [
       "False"
      ]
     },
     "execution_count": 169,
     "metadata": {},
     "output_type": "execute_result"
    }
   ],
   "source": [
    "np.all(np.isfinite(X_train))"
   ]
  },
  {
   "cell_type": "code",
   "execution_count": 165,
   "metadata": {},
   "outputs": [
    {
     "data": {
      "text/plain": [
       "True"
      ]
     },
     "execution_count": 165,
     "metadata": {},
     "output_type": "execute_result"
    }
   ],
   "source": [
    "Y_train.reset_index(drop=True, inplace=True)\n",
    "np.all(np.isfinite(Y_train))"
   ]
  },
  {
   "cell_type": "code",
   "execution_count": 179,
   "metadata": {},
   "outputs": [],
   "source": [
    "val_mask = Y_train == np.nan"
   ]
  },
  {
   "cell_type": "code",
   "execution_count": 180,
   "metadata": {},
   "outputs": [
    {
     "data": {
      "text/plain": [
       "Int64Index([], dtype='int64')"
      ]
     },
     "execution_count": 180,
     "metadata": {},
     "output_type": "execute_result"
    }
   ],
   "source": [
    "Y_train[val_mask].index"
   ]
  },
  {
   "cell_type": "code",
   "execution_count": 193,
   "metadata": {},
   "outputs": [
    {
     "data": {
      "text/plain": [
       "LogisticRegression(C=1.0, class_weight=None, dual=False, fit_intercept=True,\n",
       "                   intercept_scaling=1, l1_ratio=None, max_iter=100,\n",
       "                   multi_class='warn', n_jobs=None, penalty='l2',\n",
       "                   random_state=None, solver='lbfgs', tol=0.0001, verbose=0,\n",
       "                   warm_start=False)"
      ]
     },
     "execution_count": 193,
     "metadata": {},
     "output_type": "execute_result"
    }
   ],
   "source": [
    "logreg.fit(X_train, Y_train)"
   ]
  },
  {
   "cell_type": "code",
   "execution_count": 194,
   "metadata": {},
   "outputs": [
    {
     "data": {
      "text/plain": [
       "['logreg.joblib']"
      ]
     },
     "execution_count": 194,
     "metadata": {},
     "output_type": "execute_result"
    }
   ],
   "source": [
    "from joblib import dump, load\n",
    "dump(logreg, 'logreg.joblib') "
   ]
  },
  {
   "cell_type": "code",
   "execution_count": 197,
   "metadata": {},
   "outputs": [
    {
     "name": "stdout",
     "output_type": "stream",
     "text": [
      "1.0\n"
     ]
    }
   ],
   "source": [
    "predictions = logreg.predict(X_test)\n",
    "score = logreg.score(X_test, Y_test)\n",
    "print(score)"
   ]
  },
  {
   "cell_type": "code",
   "execution_count": 198,
   "metadata": {},
   "outputs": [
    {
     "name": "stdout",
     "output_type": "stream",
     "text": [
      "SOS_VOTERID\n",
      "COUNTY_NUMBER\n",
      "COUNTY_ID\n",
      "LAST_NAME\n",
      "FIRST_NAME\n",
      "MIDDLE_NAME\n",
      "SUFFIX\n",
      "DATE_OF_BIRTH\n",
      "REGISTRATION_DATE\n",
      "VOTER_STATUS\n",
      "PARTY_AFFILIATION\n",
      "RESIDENTIAL_ADDRESS1\n",
      "RESIDENTIAL_SECONDARY_ADDR\n",
      "RESIDENTIAL_CITY\n",
      "RESIDENTIAL_STATE\n",
      "RESIDENTIAL_ZIP\n",
      "RESIDENTIAL_ZIP_PLUS4\n",
      "RESIDENTIAL_COUNTRY\n",
      "RESIDENTIAL_POSTALCODE\n",
      "MAILING_ADDRESS1\n",
      "MAILING_SECONDARY_ADDRESS\n",
      "MAILING_CITY\n",
      "MAILING_STATE\n",
      "MAILING_ZIP\n",
      "MAILING_ZIP_PLUS4\n",
      "MAILING_COUNTRY\n",
      "MAILING_POSTAL_CODE\n",
      "CAREER_CENTER\n",
      "CITY\n",
      "CITY_SCHOOL_DISTRICT\n",
      "COUNTY_COURT_DISTRICT\n",
      "CONGRESSIONAL_DISTRICT\n",
      "COURT_OF_APPEALS\n",
      "EDU_SERVICE_CENTER_DISTRICT\n",
      "EXEMPTED_VILL_SCHOOL_DISTRICT\n",
      "LIBRARY\n",
      "LOCAL_SCHOOL_DISTRICT\n",
      "MUNICIPAL_COURT_DISTRICT\n",
      "PRECINCT_NAME\n",
      "PRECINCT_CODE\n",
      "STATE_BOARD_OF_EDUCATION\n",
      "STATE_REPRESENTATIVE_DISTRICT\n",
      "STATE_SENATE_DISTRICT\n",
      "TOWNSHIP\n",
      "VILLAGE\n",
      "WARD\n",
      "PRIMARY-03/07/2000\n",
      "GENERAL-11/07/2000\n",
      "SPECIAL-05/08/2001\n",
      "GENERAL-11/06/2001\n",
      "PRIMARY-05/07/2002\n",
      "GENERAL-11/05/2002\n",
      "SPECIAL-05/06/2003\n",
      "GENERAL-11/04/2003\n",
      "PRIMARY-03/02/2004\n",
      "GENERAL-11/02/2004\n",
      "SPECIAL-02/08/2005\n",
      "PRIMARY-05/03/2005\n",
      "PRIMARY-09/13/2005\n",
      "GENERAL-11/08/2005\n",
      "SPECIAL-02/07/2006\n",
      "PRIMARY-05/02/2006\n",
      "GENERAL-11/07/2006\n",
      "PRIMARY-05/08/2007\n",
      "PRIMARY-09/11/2007\n",
      "GENERAL-11/06/2007\n",
      "PRIMARY-11/06/2007\n",
      "GENERAL-12/11/2007\n",
      "PRIMARY-03/04/2008\n",
      "PRIMARY-10/14/2008\n",
      "GENERAL-11/04/2008\n",
      "GENERAL-11/18/2008\n",
      "PRIMARY-05/05/2009\n",
      "PRIMARY-09/08/2009\n",
      "PRIMARY-09/15/2009\n",
      "PRIMARY-09/29/2009\n",
      "GENERAL-11/03/2009\n",
      "PRIMARY-05/04/2010\n",
      "PRIMARY-07/13/2010\n",
      "PRIMARY-09/07/2010\n",
      "GENERAL-11/02/2010\n",
      "PRIMARY-05/03/2011\n",
      "PRIMARY-09/13/2011\n",
      "GENERAL-11/08/2011\n",
      "PRIMARY-03/06/2012\n",
      "GENERAL-11/06/2012\n",
      "PRIMARY-05/07/2013\n",
      "PRIMARY-09/10/2013\n",
      "PRIMARY-10/01/2013\n",
      "GENERAL-11/05/2013\n",
      "PRIMARY-05/06/2014\n",
      "GENERAL-11/04/2014\n",
      "PRIMARY-05/05/2015\n",
      "PRIMARY-09/15/2015\n",
      "GENERAL-11/03/2015\n",
      "PRIMARY-03/15/2016\n",
      "GENERAL-06/07/2016\n",
      "PRIMARY-09/13/2016\n",
      "GENERAL-11/08/2016\n",
      "PRIMARY-05/02/2017\n",
      "PRIMARY-09/12/2017\n",
      "GENERAL-11/07/2017\n",
      "PRIMARY-05/08/2018\n",
      "GENERAL-08/07/2018\n",
      "GENERAL-11/06/2018\n",
      "PRIMARY-05/07/2019\n",
      "AGE_2016\n",
      "AGE_2012\n",
      "AGE_2020\n",
      "N_VOTED_ELIGIBLE\n",
      "N_ELIGIBLE\n",
      "N_VOTED_ELIGIBLE_2012\n",
      "N_ELIGIBLE_2012\n",
      "N_VOTED_ELIGIBLE_2016\n",
      "N_ELIGIBLE_2016\n",
      "N_VOTED_ELIGIBLE_2020\n",
      "N_ELIGIBLE_2020\n",
      "RATIO_2012\n",
      "RATIO_2016\n",
      "RATIO_2020\n"
     ]
    }
   ],
   "source": [
    "for key in oh_train:\n",
    "    print(key)"
   ]
  },
  {
   "cell_type": "code",
   "execution_count": 202,
   "metadata": {},
   "outputs": [
    {
     "name": "stdout",
     "output_type": "stream",
     "text": [
      "                              PRECINCT_NAME PRECINCT_CODE\n",
      "1999447                      HICKSVILLE TWP         20ABA\n",
      "2787541                   PRECINCT YORK TWP         07ADK\n",
      "2021961      PRECINCT SALEM TWP FRANKLIN SQ         15AEM\n",
      "837321                PRECINCT NEW BREMEN E         06AAV\n",
      "1307711                          HARRISON A         10AAX\n",
      "17389                 WARRENSVILLE HTS-02-B      18-P-DEL\n",
      "1128634                       WESTLAKE-03-D      18-P-CYX\n",
      "1745892             UNIVERSITY HEIGHTS-00-C      18-P-CWQ\n",
      "967256                     SEVEN HILLS-01-A      18-P-CPM\n",
      "2635666                            MIDD7WD2      09-P-ADW\n",
      "463276         PRECINCT GREENVILLE CITY 3-A         19AAG\n",
      "3885527                      CLEVELAND-15-F      18-P-BDW\n",
      "2744621                      CLEVELAND-16-C      18-P-BHU\n",
      "979114                  PRECINCT KINGSTON A         21ACL\n",
      "4028097                      CLEVELAND-01-Q      18-P-AIX\n",
      "4624659               GARFIELD HEIGHTS-06-A      18-P-BUA\n",
      "2002768                   SOUTH EUCLID-03-A      18-P-CTW\n",
      "1045232              PRECINCT PULTNEY TWP 4         07ACH\n",
      "286869               CLEVELAND HEIGHTS-03-A      18-P-BKY\n",
      "32386                         LAKEWOOD-02-A      18-P-BWG\n",
      "2904878                 PRECINCT BER TWP #2         22ACD\n",
      "2040736                      CLEVELAND-10-S      18-P-AVQ\n",
      "2288920                 PRECINCT KINGSTON B         21ACM\n",
      "1700174                           GALION 2A      17-P-ABF\n",
      "2509174               PRECINCT WMSFLD TWP 1         04AEV\n",
      "3423372                           COLS 36-C        25-AHP\n",
      "4027900                       LAKEWOOD-01-H      18-P-BVM\n",
      "975102                        WESTLAKE-04-D      18-P-CZC\n",
      "4604221       PRECINCT WEST TWP E ROCHESTER         15AFD\n",
      "788322                OLMSTED TOWNSHIP-00-G      18-P-DBJ\n",
      "...                                     ...           ...\n",
      "359536                             MIDD6WD2      09-P-ADV\n",
      "1222501                   INDEPENDENCE-00-D      18-P-BVF\n",
      "144068                   FAIRVIEW PARK-05-A      18-P-BSM\n",
      "1501418                   PRECINCT ORANGE 2         03ACJ\n",
      "1369476             MIDDLEBURG HEIGHTS-01-C      18-P-CCJ\n",
      "1136956                   STRONGSVILLE-03-D      18-P-CVW\n",
      "4485017                 SHAKER HEIGHTS-00-N      18-P-CQK\n",
      "3373233                      CLEVELAND-03-D      18-P-AZL\n",
      "4610735                          BEREA-02-A      18-P-ADN\n",
      "2816913  PRECINCT TWIN TWP. GORDON & ITHACA         19ABP\n",
      "1877600               GARFIELD HEIGHTS-07-C      18-P-BUJ\n",
      "3803658                     PRECINCT BETH 8         12ADB\n",
      "4389912                  MIAMI TOWNSHIP K1K      13-P-ACL\n",
      "1172907                  WEST CHESTER TWP 8      09-P-AIQ\n",
      "2666567                          ANDERSON U        31-BAI\n",
      "3151918                    MIAMI TOWNSHIP I      13-P-ACG\n",
      "321732                     ROCKY RIVER-03-C      18-P-COW\n",
      "3801605                 NORTH ROYALTON-06-A      18-P-CGH\n",
      "3160088                          ATHENS 3-1         05AAK\n",
      "183472                       PRECINCT SAN H         22AEE\n",
      "510780                       CINCINNATI 2-B        31-ACA\n",
      "268809                   FAIRVIEW PARK-02-C      18-P-BRV\n",
      "2838099                BRUSH CREEK TOWNSHIP         01AAB\n",
      "3440992                      CLEVELAND-09-D      18-P-ATV\n",
      "1967424            PRECINCT SAYBROOK TWP. 1         04AEH\n",
      "20437                     PRECINCT BERLIN E         21AFC\n",
      "1151589                  PRECINCT JACKSON 2         03ABT\n",
      "4502903                       PRECINCT RUSH         11ABM\n",
      "4115353                          SOLON-04-C      18-P-CSO\n",
      "4658702                            HAM25WD1      09-P-AMF\n",
      "\n",
      "[2817138 rows x 2 columns]\n"
     ]
    }
   ],
   "source": [
    "print(oh_train[['PRECINCT_NAME','PRECINCT_CODE']])"
   ]
  },
  {
   "cell_type": "code",
   "execution_count": null,
   "metadata": {},
   "outputs": [],
   "source": []
  }
 ],
 "metadata": {
  "kernelspec": {
   "display_name": "Python 3",
   "language": "python",
   "name": "python3"
  },
  "language_info": {
   "codemirror_mode": {
    "name": "ipython",
    "version": 3
   },
   "file_extension": ".py",
   "mimetype": "text/x-python",
   "name": "python",
   "nbconvert_exporter": "python",
   "pygments_lexer": "ipython3",
   "version": "3.7.4"
  }
 },
 "nbformat": 4,
 "nbformat_minor": 2
}
