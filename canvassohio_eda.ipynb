{
 "cells": [
  {
   "cell_type": "code",
   "execution_count": 96,
   "metadata": {},
   "outputs": [],
   "source": [
    "import numpy as np\n",
    "import matplotlib.pyplot as plt\n",
    "import pandas as pd\n",
    "import feather\n",
    "import os"
   ]
  },
  {
   "cell_type": "code",
   "execution_count": 97,
   "metadata": {},
   "outputs": [],
   "source": [
    "#path to data:                                                                                                                                                               \n",
    "data_path = '/Volumes/FileStorage/Insight_data/'\n",
    "ohio_path = '/Volumes/FileStorage/Insight_data/Ohio_data/data_feather/'\n",
    "\n",
    "#open four ohio data files                                                                                                                                                   \n",
    "#files: SWVF_1_22.feather  SWVF_23_44.feather SWVF_45_66.feather SWVF_67_88.feather                                                                                          \n",
    "oh1_df = feather.read_dataframe(ohio_path+'SWVF_1_22.feather')\n",
    "oh2_df = feather.read_dataframe(ohio_path+'SWVF_23_44.feather')\n",
    "oh3_df = feather.read_dataframe(ohio_path+'SWVF_45_66.feather')\n",
    "oh4_df = feather.read_dataframe(ohio_path+'SWVF_67_88.feather')"
   ]
  },
  {
   "cell_type": "code",
   "execution_count": 98,
   "metadata": {},
   "outputs": [],
   "source": [
    "#combine into one dataframe                                                                                                                                                  \n",
    "oh_df = pd.concat([oh1_df,oh2_df,oh3_df,oh4_df])"
   ]
  },
  {
   "cell_type": "code",
   "execution_count": 99,
   "metadata": {},
   "outputs": [
    {
     "name": "stdout",
     "output_type": "stream",
     "text": [
      "['SOS_VOTERID', 'COUNTY_NUMBER', 'COUNTY_ID', 'LAST_NAME', 'FIRST_NAME', 'MIDDLE_NAME', 'SUFFIX', 'DATE_OF_BIRTH', 'REGISTRATION_DATE', 'VOTER_STATUS', 'PARTY_AFFILIATION', 'RESIDENTIAL_ADDRESS1', 'RESIDENTIAL_SECONDARY_ADDR', 'RESIDENTIAL_CITY', 'RESIDENTIAL_STATE', 'RESIDENTIAL_ZIP', 'RESIDENTIAL_ZIP_PLUS4', 'RESIDENTIAL_COUNTRY', 'RESIDENTIAL_POSTALCODE', 'MAILING_ADDRESS1', 'MAILING_SECONDARY_ADDRESS', 'MAILING_CITY', 'MAILING_STATE', 'MAILING_ZIP', 'MAILING_ZIP_PLUS4', 'MAILING_COUNTRY', 'MAILING_POSTAL_CODE', 'CAREER_CENTER', 'CITY', 'CITY_SCHOOL_DISTRICT', 'COUNTY_COURT_DISTRICT', 'CONGRESSIONAL_DISTRICT', 'COURT_OF_APPEALS', 'EDU_SERVICE_CENTER_DISTRICT', 'EXEMPTED_VILL_SCHOOL_DISTRICT', 'LIBRARY', 'LOCAL_SCHOOL_DISTRICT', 'MUNICIPAL_COURT_DISTRICT', 'PRECINCT_NAME', 'PRECINCT_CODE', 'STATE_BOARD_OF_EDUCATION', 'STATE_REPRESENTATIVE_DISTRICT', 'STATE_SENATE_DISTRICT', 'TOWNSHIP', 'VILLAGE', 'WARD', 'PRIMARY-03/07/2000', 'GENERAL-11/07/2000', 'SPECIAL-05/08/2001', 'GENERAL-11/06/2001', 'PRIMARY-05/07/2002', 'GENERAL-11/05/2002', 'SPECIAL-05/06/2003', 'GENERAL-11/04/2003', 'PRIMARY-03/02/2004', 'GENERAL-11/02/2004', 'SPECIAL-02/08/2005', 'PRIMARY-05/03/2005', 'PRIMARY-09/13/2005', 'GENERAL-11/08/2005', 'SPECIAL-02/07/2006', 'PRIMARY-05/02/2006', 'GENERAL-11/07/2006', 'PRIMARY-05/08/2007', 'PRIMARY-09/11/2007', 'GENERAL-11/06/2007', 'PRIMARY-11/06/2007', 'GENERAL-12/11/2007', 'PRIMARY-03/04/2008', 'PRIMARY-10/14/2008', 'GENERAL-11/04/2008', 'GENERAL-11/18/2008', 'PRIMARY-05/05/2009', 'PRIMARY-09/08/2009', 'PRIMARY-09/15/2009', 'PRIMARY-09/29/2009', 'GENERAL-11/03/2009', 'PRIMARY-05/04/2010', 'PRIMARY-07/13/2010', 'PRIMARY-09/07/2010', 'GENERAL-11/02/2010', 'PRIMARY-05/03/2011', 'PRIMARY-09/13/2011', 'GENERAL-11/08/2011', 'PRIMARY-03/06/2012', 'GENERAL-11/06/2012', 'PRIMARY-05/07/2013', 'PRIMARY-09/10/2013', 'PRIMARY-10/01/2013', 'GENERAL-11/05/2013', 'PRIMARY-05/06/2014', 'GENERAL-11/04/2014', 'PRIMARY-05/05/2015', 'PRIMARY-09/15/2015', 'GENERAL-11/03/2015', 'PRIMARY-03/15/2016', 'GENERAL-06/07/2016', 'PRIMARY-09/13/2016', 'GENERAL-11/08/2016', 'PRIMARY-05/02/2017', 'PRIMARY-09/12/2017', 'GENERAL-11/07/2017', 'PRIMARY-05/08/2018', 'GENERAL-08/07/2018', 'GENERAL-11/06/2018', 'PRIMARY-05/07/2019']\n"
     ]
    }
   ],
   "source": [
    "columns=list(oh_df) #list of column names                                                                                                                                    \n",
    "print(columns)"
   ]
  },
  {
   "cell_type": "code",
   "execution_count": 100,
   "metadata": {},
   "outputs": [],
   "source": [
    "%matplotlib inline"
   ]
  },
  {
   "cell_type": "code",
   "execution_count": 101,
   "metadata": {
    "scrolled": true
   },
   "outputs": [
    {
     "data": {
      "text/plain": [
       "<matplotlib.axes._subplots.AxesSubplot at 0x20b9da9d0>"
      ]
     },
     "execution_count": 101,
     "metadata": {},
     "output_type": "execute_result"
    },
    {
     "data": {
      "image/png": "[encoded data removed]",
      "text/plain": [
       "<Figure size 432x288 with 1 Axes>"
      ]
     },
     "metadata": {
      "needs_background": "light"
     },
     "output_type": "display_data"
    }
   ],
   "source": [
    "grouped=oh_df.groupby('STATE_REPRESENTATIVE_DISTRICT')\n",
    "grouped['SOS_VOTERID'].count().plot.bar()"
   ]
  },
  {
   "cell_type": "code",
   "execution_count": 102,
   "metadata": {},
   "outputs": [],
   "source": [
    "status_df=oh_df.loc[oh_df['VOTER_STATUS'] == 'ACTIVE']"
   ]
  },
  {
   "cell_type": "code",
   "execution_count": 103,
   "metadata": {},
   "outputs": [],
   "source": [
    "grouped_active=status_df.groupby('STATE_REPRESENTATIVE_DISTRICT')"
   ]
  },
  {
   "cell_type": "code",
   "execution_count": 104,
   "metadata": {},
   "outputs": [],
   "source": [
    "n_voters=grouped['SOS_VOTERID'].count()"
   ]
  },
  {
   "cell_type": "code",
   "execution_count": 105,
   "metadata": {},
   "outputs": [],
   "source": [
    "n_active=grouped_active['SOS_VOTERID'].count()"
   ]
  },
  {
   "cell_type": "code",
   "execution_count": 106,
   "metadata": {},
   "outputs": [
    {
     "data": {
      "text/plain": [
       "<matplotlib.axes._subplots.AxesSubplot at 0x20bf6b590>"
      ]
     },
     "execution_count": 106,
     "metadata": {},
     "output_type": "execute_result"
    },
    {
     "data": {
      "image/png": "[encoded data removed]",
      "text/plain": [
       "<Figure size 432x288 with 1 Axes>"
      ]
     },
     "metadata": {
      "needs_background": "light"
     },
     "output_type": "display_data"
    }
   ],
   "source": [
    "n_active.divide(n_voters).plot.bar()"
   ]
  },
  {
   "cell_type": "code",
   "execution_count": 107,
   "metadata": {},
   "outputs": [
    {
     "name": "stdout",
     "output_type": "stream",
     "text": [
      "GENERAL-11/07/2000\n",
      "GENERAL-11/06/2001\n",
      "GENERAL-11/05/2002\n",
      "GENERAL-11/04/2003\n",
      "GENERAL-11/02/2004\n",
      "GENERAL-11/08/2005\n",
      "GENERAL-11/07/2006\n",
      "GENERAL-11/06/2007\n",
      "GENERAL-12/11/2007\n",
      "GENERAL-11/04/2008\n",
      "GENERAL-11/18/2008\n",
      "GENERAL-11/03/2009\n",
      "GENERAL-11/02/2010\n",
      "GENERAL-11/08/2011\n",
      "GENERAL-11/06/2012\n",
      "GENERAL-11/05/2013\n",
      "GENERAL-11/04/2014\n",
      "GENERAL-11/03/2015\n",
      "GENERAL-06/07/2016\n",
      "GENERAL-11/08/2016\n",
      "GENERAL-11/07/2017\n",
      "GENERAL-08/07/2018\n",
      "GENERAL-11/06/2018\n"
     ]
    }
   ],
   "source": [
    "for key in oh_df:\n",
    "        if key[:7]=='GENERAL':\n",
    "            print(key)"
   ]
  },
  {
   "cell_type": "code",
   "execution_count": 108,
   "metadata": {},
   "outputs": [],
   "source": [
    "import seaborn"
   ]
  },
  {
   "cell_type": "code",
   "execution_count": 109,
   "metadata": {},
   "outputs": [
    {
     "name": "stdout",
     "output_type": "stream",
     "text": [
      "['PRIMARY-03/07/2000', 'GENERAL-11/07/2000', 'SPECIAL-05/08/2001', 'GENERAL-11/06/2001', 'PRIMARY-05/07/2002', 'GENERAL-11/05/2002', 'SPECIAL-05/06/2003', 'GENERAL-11/04/2003', 'PRIMARY-03/02/2004', 'GENERAL-11/02/2004', 'SPECIAL-02/08/2005', 'PRIMARY-05/03/2005', 'PRIMARY-09/13/2005', 'GENERAL-11/08/2005', 'SPECIAL-02/07/2006', 'PRIMARY-05/02/2006', 'GENERAL-11/07/2006', 'PRIMARY-05/08/2007', 'PRIMARY-09/11/2007', 'GENERAL-11/06/2007', 'PRIMARY-11/06/2007', 'GENERAL-12/11/2007', 'PRIMARY-03/04/2008', 'PRIMARY-10/14/2008', 'GENERAL-11/04/2008', 'GENERAL-11/18/2008', 'PRIMARY-05/05/2009', 'PRIMARY-09/08/2009', 'PRIMARY-09/15/2009', 'PRIMARY-09/29/2009', 'GENERAL-11/03/2009', 'PRIMARY-05/04/2010', 'PRIMARY-07/13/2010', 'PRIMARY-09/07/2010', 'GENERAL-11/02/2010', 'PRIMARY-05/03/2011', 'PRIMARY-09/13/2011', 'GENERAL-11/08/2011', 'PRIMARY-03/06/2012', 'GENERAL-11/06/2012', 'PRIMARY-05/07/2013', 'PRIMARY-09/10/2013', 'PRIMARY-10/01/2013', 'GENERAL-11/05/2013', 'PRIMARY-05/06/2014', 'GENERAL-11/04/2014', 'PRIMARY-05/05/2015', 'PRIMARY-09/15/2015', 'GENERAL-11/03/2015', 'PRIMARY-03/15/2016', 'GENERAL-06/07/2016', 'PRIMARY-09/13/2016', 'GENERAL-11/08/2016', 'PRIMARY-05/02/2017', 'PRIMARY-09/12/2017', 'GENERAL-11/07/2017', 'PRIMARY-05/08/2018', 'GENERAL-08/07/2018', 'GENERAL-11/06/2018', 'PRIMARY-05/07/2019']\n"
     ]
    }
   ],
   "source": [
    "election_list = []\n",
    "election_i = []\n",
    "general_list = []\n",
    "primary_list = []\n",
    "for key in oh_df:\n",
    "        if key[:7]=='GENERAL':\n",
    "                election_list.append(key)\n",
    "                general_list.append(key)\n",
    "        elif key[:7]=='PRIMARY':\n",
    "                election_list.append(key)\n",
    "                primary_list.append(key)\n",
    "        elif key[:7]=='SPECIAL':\n",
    "                election_list.append(key)\n",
    "print(election_list)"
   ]
  },
  {
   "cell_type": "code",
   "execution_count": 110,
   "metadata": {},
   "outputs": [
    {
     "data": {
      "text/plain": [
       "0    None\n",
       "1    None\n",
       "2    None\n",
       "3    None\n",
       "4    None\n",
       "Name: PRIMARY-03/07/2000, dtype: object"
      ]
     },
     "execution_count": 110,
     "metadata": {},
     "output_type": "execute_result"
    }
   ],
   "source": [
    "oh_df.loc[:,'PRIMARY-03/07/2000'].head()\n",
    "    "
   ]
  },
  {
   "cell_type": "code",
   "execution_count": 111,
   "metadata": {},
   "outputs": [],
   "source": [
    "election_n=oh_df[election_list].isnull().sum(axis=1)\n"
   ]
  },
  {
   "cell_type": "code",
   "execution_count": 112,
   "metadata": {},
   "outputs": [
    {
     "data": {
      "image/png": "[encoded data removed]",
      "text/plain": [
       "<Figure size 432x288 with 1 Axes>"
      ]
     },
     "metadata": {
      "needs_background": "light"
     },
     "output_type": "display_data"
    }
   ],
   "source": [
    "seaborn.distplot(election_n,bins=6,kde=False, rug=True);\n"
   ]
  },
  {
   "cell_type": "code",
   "execution_count": 113,
   "metadata": {},
   "outputs": [
    {
     "name": "stdout",
     "output_type": "stream",
     "text": [
      "60\n"
     ]
    }
   ],
   "source": [
    "print(len(election_list))"
   ]
  },
  {
   "cell_type": "code",
   "execution_count": 114,
   "metadata": {},
   "outputs": [
    {
     "name": "stdout",
     "output_type": "stream",
     "text": [
      "SOS_VOTERID\n",
      "COUNTY_NUMBER\n",
      "COUNTY_ID\n",
      "LAST_NAME\n",
      "FIRST_NAME\n",
      "MIDDLE_NAME\n",
      "SUFFIX\n",
      "DATE_OF_BIRTH\n",
      "REGISTRATION_DATE\n",
      "VOTER_STATUS\n",
      "PARTY_AFFILIATION\n",
      "RESIDENTIAL_ADDRESS1\n",
      "RESIDENTIAL_SECONDARY_ADDR\n",
      "RESIDENTIAL_CITY\n",
      "RESIDENTIAL_STATE\n",
      "RESIDENTIAL_ZIP\n",
      "RESIDENTIAL_ZIP_PLUS4\n",
      "RESIDENTIAL_COUNTRY\n",
      "RESIDENTIAL_POSTALCODE\n",
      "MAILING_ADDRESS1\n",
      "MAILING_SECONDARY_ADDRESS\n",
      "MAILING_CITY\n",
      "MAILING_STATE\n",
      "MAILING_ZIP\n",
      "MAILING_ZIP_PLUS4\n",
      "MAILING_COUNTRY\n",
      "MAILING_POSTAL_CODE\n",
      "CAREER_CENTER\n",
      "CITY\n",
      "CITY_SCHOOL_DISTRICT\n",
      "COUNTY_COURT_DISTRICT\n",
      "CONGRESSIONAL_DISTRICT\n",
      "COURT_OF_APPEALS\n",
      "EDU_SERVICE_CENTER_DISTRICT\n",
      "EXEMPTED_VILL_SCHOOL_DISTRICT\n",
      "LIBRARY\n",
      "LOCAL_SCHOOL_DISTRICT\n",
      "MUNICIPAL_COURT_DISTRICT\n",
      "PRECINCT_NAME\n",
      "PRECINCT_CODE\n",
      "STATE_BOARD_OF_EDUCATION\n",
      "STATE_REPRESENTATIVE_DISTRICT\n",
      "STATE_SENATE_DISTRICT\n",
      "TOWNSHIP\n",
      "VILLAGE\n",
      "WARD\n",
      "PRIMARY-03/07/2000\n",
      "GENERAL-11/07/2000\n",
      "SPECIAL-05/08/2001\n",
      "GENERAL-11/06/2001\n",
      "PRIMARY-05/07/2002\n",
      "GENERAL-11/05/2002\n",
      "SPECIAL-05/06/2003\n",
      "GENERAL-11/04/2003\n",
      "PRIMARY-03/02/2004\n",
      "GENERAL-11/02/2004\n",
      "SPECIAL-02/08/2005\n",
      "PRIMARY-05/03/2005\n",
      "PRIMARY-09/13/2005\n",
      "GENERAL-11/08/2005\n",
      "SPECIAL-02/07/2006\n",
      "PRIMARY-05/02/2006\n",
      "GENERAL-11/07/2006\n",
      "PRIMARY-05/08/2007\n",
      "PRIMARY-09/11/2007\n",
      "GENERAL-11/06/2007\n",
      "PRIMARY-11/06/2007\n",
      "GENERAL-12/11/2007\n",
      "PRIMARY-03/04/2008\n",
      "PRIMARY-10/14/2008\n",
      "GENERAL-11/04/2008\n",
      "GENERAL-11/18/2008\n",
      "PRIMARY-05/05/2009\n",
      "PRIMARY-09/08/2009\n",
      "PRIMARY-09/15/2009\n",
      "PRIMARY-09/29/2009\n",
      "GENERAL-11/03/2009\n",
      "PRIMARY-05/04/2010\n",
      "PRIMARY-07/13/2010\n",
      "PRIMARY-09/07/2010\n",
      "GENERAL-11/02/2010\n",
      "PRIMARY-05/03/2011\n",
      "PRIMARY-09/13/2011\n",
      "GENERAL-11/08/2011\n",
      "PRIMARY-03/06/2012\n",
      "GENERAL-11/06/2012\n",
      "PRIMARY-05/07/2013\n",
      "PRIMARY-09/10/2013\n",
      "PRIMARY-10/01/2013\n",
      "GENERAL-11/05/2013\n",
      "PRIMARY-05/06/2014\n",
      "GENERAL-11/04/2014\n",
      "PRIMARY-05/05/2015\n",
      "PRIMARY-09/15/2015\n",
      "GENERAL-11/03/2015\n",
      "PRIMARY-03/15/2016\n",
      "GENERAL-06/07/2016\n",
      "PRIMARY-09/13/2016\n",
      "GENERAL-11/08/2016\n",
      "PRIMARY-05/02/2017\n",
      "PRIMARY-09/12/2017\n",
      "GENERAL-11/07/2017\n",
      "PRIMARY-05/08/2018\n",
      "GENERAL-08/07/2018\n",
      "GENERAL-11/06/2018\n",
      "PRIMARY-05/07/2019\n"
     ]
    }
   ],
   "source": [
    "for key in oh_df:\n",
    "    print(key)"
   ]
  },
  {
   "cell_type": "code",
   "execution_count": 115,
   "metadata": {},
   "outputs": [
    {
     "data": {
      "text/html": [
       "<div>\n",
       "<style scoped>\n",
       "    .dataframe tbody tr th:only-of-type {\n",
       "        vertical-align: middle;\n",
       "    }\n",
       "\n",
       "    .dataframe tbody tr th {\n",
       "        vertical-align: top;\n",
       "    }\n",
       "\n",
       "    .dataframe thead th {\n",
       "        text-align: right;\n",
       "    }\n",
       "</style>\n",
       "<table border=\"1\" class=\"dataframe\">\n",
       "  <thead>\n",
       "    <tr style=\"text-align: right;\">\n",
       "      <th></th>\n",
       "      <th>RESIDENTIAL_ADDRESS1</th>\n",
       "      <th>RESIDENTIAL_SECONDARY_ADDR</th>\n",
       "      <th>RESIDENTIAL_CITY</th>\n",
       "      <th>RESIDENTIAL_STATE</th>\n",
       "      <th>RESIDENTIAL_ZIP</th>\n",
       "    </tr>\n",
       "  </thead>\n",
       "  <tbody>\n",
       "    <tr>\n",
       "      <th>0</th>\n",
       "      <td>122 CONCORD AVE</td>\n",
       "      <td>None</td>\n",
       "      <td>ST MARYS</td>\n",
       "      <td>OH</td>\n",
       "      <td>45885</td>\n",
       "    </tr>\n",
       "    <tr>\n",
       "      <th>1</th>\n",
       "      <td>932 SLEEPY HOLLOW DR</td>\n",
       "      <td>None</td>\n",
       "      <td>MONROE</td>\n",
       "      <td>OH</td>\n",
       "      <td>45050</td>\n",
       "    </tr>\n",
       "    <tr>\n",
       "      <th>2</th>\n",
       "      <td>13902 BENWOOD AVE</td>\n",
       "      <td>None</td>\n",
       "      <td>CLEVELAND</td>\n",
       "      <td>OH</td>\n",
       "      <td>44105</td>\n",
       "    </tr>\n",
       "    <tr>\n",
       "      <th>3</th>\n",
       "      <td>1090 S MUSCOVY DR</td>\n",
       "      <td>None</td>\n",
       "      <td>LOVELAND</td>\n",
       "      <td>OH</td>\n",
       "      <td>45140</td>\n",
       "    </tr>\n",
       "    <tr>\n",
       "      <th>4</th>\n",
       "      <td>16308 KOLLIN AVE</td>\n",
       "      <td>None</td>\n",
       "      <td>CLEVELAND</td>\n",
       "      <td>OH</td>\n",
       "      <td>44128</td>\n",
       "    </tr>\n",
       "    <tr>\n",
       "      <th>5</th>\n",
       "      <td>3419 E OXFORD OVAL</td>\n",
       "      <td>None</td>\n",
       "      <td>NORTH OLMSTED</td>\n",
       "      <td>OH</td>\n",
       "      <td>44070</td>\n",
       "    </tr>\n",
       "    <tr>\n",
       "      <th>6</th>\n",
       "      <td>6137 TAYLOR PIKE</td>\n",
       "      <td>None</td>\n",
       "      <td>BLANCHESTER</td>\n",
       "      <td>OH</td>\n",
       "      <td>45107</td>\n",
       "    </tr>\n",
       "    <tr>\n",
       "      <th>7</th>\n",
       "      <td>6787 LINDSLEY AV</td>\n",
       "      <td>None</td>\n",
       "      <td>ANDOVER</td>\n",
       "      <td>OH</td>\n",
       "      <td>44003</td>\n",
       "    </tr>\n",
       "    <tr>\n",
       "      <th>8</th>\n",
       "      <td>6321 TRAIL RIDGE CT</td>\n",
       "      <td>None</td>\n",
       "      <td>LOVELAND</td>\n",
       "      <td>OH</td>\n",
       "      <td>45140</td>\n",
       "    </tr>\n",
       "    <tr>\n",
       "      <th>9</th>\n",
       "      <td>25 PEPPER CREEK DR</td>\n",
       "      <td>None</td>\n",
       "      <td>PEPPER PIKE</td>\n",
       "      <td>OH</td>\n",
       "      <td>44124</td>\n",
       "    </tr>\n",
       "    <tr>\n",
       "      <th>10</th>\n",
       "      <td>1916 W 50TH ST</td>\n",
       "      <td>None</td>\n",
       "      <td>CLEVELAND</td>\n",
       "      <td>OH</td>\n",
       "      <td>44102</td>\n",
       "    </tr>\n",
       "    <tr>\n",
       "      <th>11</th>\n",
       "      <td>55505 BLOOMINGDALE ST WOLFHURST</td>\n",
       "      <td>None</td>\n",
       "      <td>BRIDGEPORT</td>\n",
       "      <td>OH</td>\n",
       "      <td>43912</td>\n",
       "    </tr>\n",
       "    <tr>\n",
       "      <th>12</th>\n",
       "      <td>4691 BAKER RD</td>\n",
       "      <td>None</td>\n",
       "      <td>CRESTLINE</td>\n",
       "      <td>OH</td>\n",
       "      <td>44827</td>\n",
       "    </tr>\n",
       "    <tr>\n",
       "      <th>13</th>\n",
       "      <td>6103 NORTHCLIFF AVE</td>\n",
       "      <td>None</td>\n",
       "      <td>BROOKLYN</td>\n",
       "      <td>OH</td>\n",
       "      <td>44144</td>\n",
       "    </tr>\n",
       "    <tr>\n",
       "      <th>14</th>\n",
       "      <td>1998 TR 1095</td>\n",
       "      <td>None</td>\n",
       "      <td>ASHLAND</td>\n",
       "      <td>OH</td>\n",
       "      <td>44805</td>\n",
       "    </tr>\n",
       "    <tr>\n",
       "      <th>15</th>\n",
       "      <td>14307 GRANGER RD</td>\n",
       "      <td>None</td>\n",
       "      <td>MAPLE HTS</td>\n",
       "      <td>OH</td>\n",
       "      <td>44137</td>\n",
       "    </tr>\n",
       "    <tr>\n",
       "      <th>16</th>\n",
       "      <td>18 TWIN LAKES DR</td>\n",
       "      <td>None</td>\n",
       "      <td>FAIRFIELD</td>\n",
       "      <td>OH</td>\n",
       "      <td>45014</td>\n",
       "    </tr>\n",
       "    <tr>\n",
       "      <th>17</th>\n",
       "      <td>251 E 214TH ST</td>\n",
       "      <td>None</td>\n",
       "      <td>EUCLID</td>\n",
       "      <td>OH</td>\n",
       "      <td>44123</td>\n",
       "    </tr>\n",
       "    <tr>\n",
       "      <th>18</th>\n",
       "      <td>726 EDGEWOOD RD</td>\n",
       "      <td>None</td>\n",
       "      <td>RICHMOND HTS</td>\n",
       "      <td>OH</td>\n",
       "      <td>44143</td>\n",
       "    </tr>\n",
       "    <tr>\n",
       "      <th>19</th>\n",
       "      <td>2769 ARROWHEAD TRL</td>\n",
       "      <td>None</td>\n",
       "      <td>OXFORD</td>\n",
       "      <td>OH</td>\n",
       "      <td>45056</td>\n",
       "    </tr>\n",
       "    <tr>\n",
       "      <th>20</th>\n",
       "      <td>6007 HURSH RD</td>\n",
       "      <td>None</td>\n",
       "      <td>MIDDLETOWN</td>\n",
       "      <td>OH</td>\n",
       "      <td>45042</td>\n",
       "    </tr>\n",
       "    <tr>\n",
       "      <th>21</th>\n",
       "      <td>5445 YANKEE RD</td>\n",
       "      <td>None</td>\n",
       "      <td>MIDDLETOWN</td>\n",
       "      <td>OH</td>\n",
       "      <td>45044</td>\n",
       "    </tr>\n",
       "    <tr>\n",
       "      <th>22</th>\n",
       "      <td>1590 CEDARWOOD DR</td>\n",
       "      <td>APT C</td>\n",
       "      <td>WESTLAKE</td>\n",
       "      <td>OH</td>\n",
       "      <td>44145</td>\n",
       "    </tr>\n",
       "    <tr>\n",
       "      <th>23</th>\n",
       "      <td>4229 HINSDALE RD</td>\n",
       "      <td>None</td>\n",
       "      <td>SOUTH EUCLID</td>\n",
       "      <td>OH</td>\n",
       "      <td>44121</td>\n",
       "    </tr>\n",
       "    <tr>\n",
       "      <th>24</th>\n",
       "      <td>12037 LAKE AVE</td>\n",
       "      <td>APT 201</td>\n",
       "      <td>LAKEWOOD</td>\n",
       "      <td>OH</td>\n",
       "      <td>44107</td>\n",
       "    </tr>\n",
       "    <tr>\n",
       "      <th>25</th>\n",
       "      <td>9310 STAGECOACH RD</td>\n",
       "      <td>None</td>\n",
       "      <td>ATHENS</td>\n",
       "      <td>OH</td>\n",
       "      <td>45701</td>\n",
       "    </tr>\n",
       "    <tr>\n",
       "      <th>26</th>\n",
       "      <td>1890 PEBBLE RIDGE TRL</td>\n",
       "      <td>APT 5</td>\n",
       "      <td>MILFORD</td>\n",
       "      <td>OH</td>\n",
       "      <td>45150</td>\n",
       "    </tr>\n",
       "    <tr>\n",
       "      <th>27</th>\n",
       "      <td>72 HONEY LOCUST LN</td>\n",
       "      <td>None</td>\n",
       "      <td>WILMINGTON</td>\n",
       "      <td>OH</td>\n",
       "      <td>45177</td>\n",
       "    </tr>\n",
       "    <tr>\n",
       "      <th>28</th>\n",
       "      <td>3138 KENSINGTON RD</td>\n",
       "      <td>UPPR</td>\n",
       "      <td>CLEVELAND HTS</td>\n",
       "      <td>OH</td>\n",
       "      <td>44118</td>\n",
       "    </tr>\n",
       "    <tr>\n",
       "      <th>29</th>\n",
       "      <td>26151 LAKE SHORE BLVD</td>\n",
       "      <td>APT 419</td>\n",
       "      <td>EUCLID</td>\n",
       "      <td>OH</td>\n",
       "      <td>44132</td>\n",
       "    </tr>\n",
       "    <tr>\n",
       "      <th>...</th>\n",
       "      <td>...</td>\n",
       "      <td>...</td>\n",
       "      <td>...</td>\n",
       "      <td>...</td>\n",
       "      <td>...</td>\n",
       "    </tr>\n",
       "    <tr>\n",
       "      <th>1713100</th>\n",
       "      <td>6431 S TR 93</td>\n",
       "      <td>None</td>\n",
       "      <td>NEW RIEGEL</td>\n",
       "      <td>OH</td>\n",
       "      <td>44853</td>\n",
       "    </tr>\n",
       "    <tr>\n",
       "      <th>1713101</th>\n",
       "      <td>100 INDIAN LN</td>\n",
       "      <td>None</td>\n",
       "      <td>TIFFIN</td>\n",
       "      <td>OH</td>\n",
       "      <td>44883</td>\n",
       "    </tr>\n",
       "    <tr>\n",
       "      <th>1713102</th>\n",
       "      <td>10245 W TR 36</td>\n",
       "      <td>None</td>\n",
       "      <td>FOSTORIA</td>\n",
       "      <td>OH</td>\n",
       "      <td>44830</td>\n",
       "    </tr>\n",
       "    <tr>\n",
       "      <th>1713103</th>\n",
       "      <td>1511 CHATHAM AVE NE</td>\n",
       "      <td>None</td>\n",
       "      <td>NORTH CANTON</td>\n",
       "      <td>OH</td>\n",
       "      <td>44720</td>\n",
       "    </tr>\n",
       "    <tr>\n",
       "      <th>1713104</th>\n",
       "      <td>4781 E TR 138</td>\n",
       "      <td>None</td>\n",
       "      <td>TIFFIN</td>\n",
       "      <td>OH</td>\n",
       "      <td>44883</td>\n",
       "    </tr>\n",
       "    <tr>\n",
       "      <th>1713105</th>\n",
       "      <td>3163 CHARLES ST</td>\n",
       "      <td>None</td>\n",
       "      <td>CUYAHOGA FALLS</td>\n",
       "      <td>OH</td>\n",
       "      <td>44221</td>\n",
       "    </tr>\n",
       "    <tr>\n",
       "      <th>1713106</th>\n",
       "      <td>1124 JONES RD</td>\n",
       "      <td>None</td>\n",
       "      <td>WHEELERSBURG</td>\n",
       "      <td>OH</td>\n",
       "      <td>45694</td>\n",
       "    </tr>\n",
       "    <tr>\n",
       "      <th>1713107</th>\n",
       "      <td>6673 CHARLESTON PARK DR</td>\n",
       "      <td>None</td>\n",
       "      <td>MASON</td>\n",
       "      <td>OH</td>\n",
       "      <td>45040</td>\n",
       "    </tr>\n",
       "    <tr>\n",
       "      <th>1713108</th>\n",
       "      <td>4658 HARRISON RD</td>\n",
       "      <td>None</td>\n",
       "      <td>FREDERICKSBURG</td>\n",
       "      <td>OH</td>\n",
       "      <td>44627</td>\n",
       "    </tr>\n",
       "    <tr>\n",
       "      <th>1713109</th>\n",
       "      <td>3785 MARTHA RD</td>\n",
       "      <td>None</td>\n",
       "      <td>KENT</td>\n",
       "      <td>OH</td>\n",
       "      <td>44240</td>\n",
       "    </tr>\n",
       "    <tr>\n",
       "      <th>1713110</th>\n",
       "      <td>2813 BUSHNELL CAMPBELL RD</td>\n",
       "      <td>None</td>\n",
       "      <td>FOWLER</td>\n",
       "      <td>OH</td>\n",
       "      <td>44418</td>\n",
       "    </tr>\n",
       "    <tr>\n",
       "      <th>1713111</th>\n",
       "      <td>4363 RAMBLER RD</td>\n",
       "      <td>None</td>\n",
       "      <td>NEWTON FALLS</td>\n",
       "      <td>OH</td>\n",
       "      <td>44444</td>\n",
       "    </tr>\n",
       "    <tr>\n",
       "      <th>1713112</th>\n",
       "      <td>8971 PERRY AVE</td>\n",
       "      <td>None</td>\n",
       "      <td>FRANKLIN</td>\n",
       "      <td>OH</td>\n",
       "      <td>45005</td>\n",
       "    </tr>\n",
       "    <tr>\n",
       "      <th>1713113</th>\n",
       "      <td>759 WEST POINT DR</td>\n",
       "      <td>4</td>\n",
       "      <td>AKRON</td>\n",
       "      <td>OH</td>\n",
       "      <td>44333</td>\n",
       "    </tr>\n",
       "    <tr>\n",
       "      <th>1713114</th>\n",
       "      <td>159 26TH ST NW</td>\n",
       "      <td>None</td>\n",
       "      <td>BARBERTON</td>\n",
       "      <td>OH</td>\n",
       "      <td>44203</td>\n",
       "    </tr>\n",
       "    <tr>\n",
       "      <th>1713115</th>\n",
       "      <td>7989 STATE ROUTE 45</td>\n",
       "      <td>None</td>\n",
       "      <td>N BLOOMFIELD</td>\n",
       "      <td>OH</td>\n",
       "      <td>44450</td>\n",
       "    </tr>\n",
       "    <tr>\n",
       "      <th>1713116</th>\n",
       "      <td>307 EUROPE CV</td>\n",
       "      <td>None</td>\n",
       "      <td>EATON</td>\n",
       "      <td>OH</td>\n",
       "      <td>45320</td>\n",
       "    </tr>\n",
       "    <tr>\n",
       "      <th>1713117</th>\n",
       "      <td>2844 CHAMBERLIN BLVD</td>\n",
       "      <td>None</td>\n",
       "      <td>HUDSON</td>\n",
       "      <td>OH</td>\n",
       "      <td>44236</td>\n",
       "    </tr>\n",
       "    <tr>\n",
       "      <th>1713118</th>\n",
       "      <td>4668 GRAFORD LN</td>\n",
       "      <td>None</td>\n",
       "      <td>STOW</td>\n",
       "      <td>OH</td>\n",
       "      <td>44224</td>\n",
       "    </tr>\n",
       "    <tr>\n",
       "      <th>1713119</th>\n",
       "      <td>297 E ROBINSON AVE</td>\n",
       "      <td>None</td>\n",
       "      <td>BARBERTON</td>\n",
       "      <td>OH</td>\n",
       "      <td>44203</td>\n",
       "    </tr>\n",
       "    <tr>\n",
       "      <th>1713120</th>\n",
       "      <td>1038 CHALKER ST</td>\n",
       "      <td>None</td>\n",
       "      <td>AKRON</td>\n",
       "      <td>OH</td>\n",
       "      <td>44310</td>\n",
       "    </tr>\n",
       "    <tr>\n",
       "      <th>1713121</th>\n",
       "      <td>10203 GLEN EAGLE LN</td>\n",
       "      <td>None</td>\n",
       "      <td>TWINSBURG</td>\n",
       "      <td>OH</td>\n",
       "      <td>44087</td>\n",
       "    </tr>\n",
       "    <tr>\n",
       "      <th>1713122</th>\n",
       "      <td>210 HEDGECLIFF DR</td>\n",
       "      <td>None</td>\n",
       "      <td>AURORA</td>\n",
       "      <td>OH</td>\n",
       "      <td>44202</td>\n",
       "    </tr>\n",
       "    <tr>\n",
       "      <th>1713123</th>\n",
       "      <td>523 SHERWOOD DR</td>\n",
       "      <td>None</td>\n",
       "      <td>AURORA</td>\n",
       "      <td>OH</td>\n",
       "      <td>44202</td>\n",
       "    </tr>\n",
       "    <tr>\n",
       "      <th>1713124</th>\n",
       "      <td>306 VINE ST</td>\n",
       "      <td>None</td>\n",
       "      <td>BLOOMDALE</td>\n",
       "      <td>OH</td>\n",
       "      <td>44817</td>\n",
       "    </tr>\n",
       "    <tr>\n",
       "      <th>1713125</th>\n",
       "      <td>848 WEDGEWOOD DR</td>\n",
       "      <td>None</td>\n",
       "      <td>MARYSVILLE</td>\n",
       "      <td>OH</td>\n",
       "      <td>43040</td>\n",
       "    </tr>\n",
       "    <tr>\n",
       "      <th>1713126</th>\n",
       "      <td>109 GREENWOOD DR</td>\n",
       "      <td>None</td>\n",
       "      <td>HASKINS</td>\n",
       "      <td>OH</td>\n",
       "      <td>43525</td>\n",
       "    </tr>\n",
       "    <tr>\n",
       "      <th>1713127</th>\n",
       "      <td>3353 SHARON DR SE</td>\n",
       "      <td>None</td>\n",
       "      <td>NEW PHILADELPHIA</td>\n",
       "      <td>OH</td>\n",
       "      <td>44663</td>\n",
       "    </tr>\n",
       "    <tr>\n",
       "      <th>1713128</th>\n",
       "      <td>13345 JUDY AVE NW</td>\n",
       "      <td>None</td>\n",
       "      <td>UNIONTOWN</td>\n",
       "      <td>OH</td>\n",
       "      <td>44685</td>\n",
       "    </tr>\n",
       "    <tr>\n",
       "      <th>1713129</th>\n",
       "      <td>1501 GULLING AVE</td>\n",
       "      <td>None</td>\n",
       "      <td>LOUISVILLE</td>\n",
       "      <td>OH</td>\n",
       "      <td>44641</td>\n",
       "    </tr>\n",
       "  </tbody>\n",
       "</table>\n",
       "<p>7825385 rows × 5 columns</p>\n",
       "</div>"
      ],
      "text/plain": [
       "                    RESIDENTIAL_ADDRESS1 RESIDENTIAL_SECONDARY_ADDR  \\\n",
       "0                        122 CONCORD AVE                       None   \n",
       "1                   932 SLEEPY HOLLOW DR                       None   \n",
       "2                      13902 BENWOOD AVE                       None   \n",
       "3                      1090 S MUSCOVY DR                       None   \n",
       "4                       16308 KOLLIN AVE                       None   \n",
       "5                     3419 E OXFORD OVAL                       None   \n",
       "6                       6137 TAYLOR PIKE                       None   \n",
       "7                       6787 LINDSLEY AV                       None   \n",
       "8                    6321 TRAIL RIDGE CT                       None   \n",
       "9                     25 PEPPER CREEK DR                       None   \n",
       "10                        1916 W 50TH ST                       None   \n",
       "11       55505 BLOOMINGDALE ST WOLFHURST                       None   \n",
       "12                         4691 BAKER RD                       None   \n",
       "13                   6103 NORTHCLIFF AVE                       None   \n",
       "14                          1998 TR 1095                       None   \n",
       "15                      14307 GRANGER RD                       None   \n",
       "16                      18 TWIN LAKES DR                       None   \n",
       "17                        251 E 214TH ST                       None   \n",
       "18                       726 EDGEWOOD RD                       None   \n",
       "19                    2769 ARROWHEAD TRL                       None   \n",
       "20                         6007 HURSH RD                       None   \n",
       "21                        5445 YANKEE RD                       None   \n",
       "22                     1590 CEDARWOOD DR                      APT C   \n",
       "23                      4229 HINSDALE RD                       None   \n",
       "24                        12037 LAKE AVE                    APT 201   \n",
       "25                    9310 STAGECOACH RD                       None   \n",
       "26                 1890 PEBBLE RIDGE TRL                      APT 5   \n",
       "27                    72 HONEY LOCUST LN                       None   \n",
       "28                    3138 KENSINGTON RD                       UPPR   \n",
       "29                 26151 LAKE SHORE BLVD                    APT 419   \n",
       "...                                  ...                        ...   \n",
       "1713100                     6431 S TR 93                       None   \n",
       "1713101                    100 INDIAN LN                       None   \n",
       "1713102                    10245 W TR 36                       None   \n",
       "1713103              1511 CHATHAM AVE NE                       None   \n",
       "1713104                    4781 E TR 138                       None   \n",
       "1713105                  3163 CHARLES ST                       None   \n",
       "1713106                    1124 JONES RD                       None   \n",
       "1713107          6673 CHARLESTON PARK DR                       None   \n",
       "1713108                 4658 HARRISON RD                       None   \n",
       "1713109                   3785 MARTHA RD                       None   \n",
       "1713110        2813 BUSHNELL CAMPBELL RD                       None   \n",
       "1713111                  4363 RAMBLER RD                       None   \n",
       "1713112                   8971 PERRY AVE                       None   \n",
       "1713113                759 WEST POINT DR                          4   \n",
       "1713114                   159 26TH ST NW                       None   \n",
       "1713115              7989 STATE ROUTE 45                       None   \n",
       "1713116                    307 EUROPE CV                       None   \n",
       "1713117             2844 CHAMBERLIN BLVD                       None   \n",
       "1713118                  4668 GRAFORD LN                       None   \n",
       "1713119               297 E ROBINSON AVE                       None   \n",
       "1713120                  1038 CHALKER ST                       None   \n",
       "1713121              10203 GLEN EAGLE LN                       None   \n",
       "1713122                210 HEDGECLIFF DR                       None   \n",
       "1713123                  523 SHERWOOD DR                       None   \n",
       "1713124                      306 VINE ST                       None   \n",
       "1713125                 848 WEDGEWOOD DR                       None   \n",
       "1713126                 109 GREENWOOD DR                       None   \n",
       "1713127                3353 SHARON DR SE                       None   \n",
       "1713128                13345 JUDY AVE NW                       None   \n",
       "1713129                 1501 GULLING AVE                       None   \n",
       "\n",
       "         RESIDENTIAL_CITY RESIDENTIAL_STATE  RESIDENTIAL_ZIP  \n",
       "0                ST MARYS                OH            45885  \n",
       "1                  MONROE                OH            45050  \n",
       "2               CLEVELAND                OH            44105  \n",
       "3                LOVELAND                OH            45140  \n",
       "4               CLEVELAND                OH            44128  \n",
       "5           NORTH OLMSTED                OH            44070  \n",
       "6             BLANCHESTER                OH            45107  \n",
       "7                 ANDOVER                OH            44003  \n",
       "8                LOVELAND                OH            45140  \n",
       "9             PEPPER PIKE                OH            44124  \n",
       "10              CLEVELAND                OH            44102  \n",
       "11             BRIDGEPORT                OH            43912  \n",
       "12              CRESTLINE                OH            44827  \n",
       "13               BROOKLYN                OH            44144  \n",
       "14                ASHLAND                OH            44805  \n",
       "15              MAPLE HTS                OH            44137  \n",
       "16              FAIRFIELD                OH            45014  \n",
       "17                 EUCLID                OH            44123  \n",
       "18           RICHMOND HTS                OH            44143  \n",
       "19                 OXFORD                OH            45056  \n",
       "20             MIDDLETOWN                OH            45042  \n",
       "21             MIDDLETOWN                OH            45044  \n",
       "22               WESTLAKE                OH            44145  \n",
       "23           SOUTH EUCLID                OH            44121  \n",
       "24               LAKEWOOD                OH            44107  \n",
       "25                 ATHENS                OH            45701  \n",
       "26                MILFORD                OH            45150  \n",
       "27             WILMINGTON                OH            45177  \n",
       "28          CLEVELAND HTS                OH            44118  \n",
       "29                 EUCLID                OH            44132  \n",
       "...                   ...               ...              ...  \n",
       "1713100        NEW RIEGEL                OH            44853  \n",
       "1713101            TIFFIN                OH            44883  \n",
       "1713102          FOSTORIA                OH            44830  \n",
       "1713103      NORTH CANTON                OH            44720  \n",
       "1713104            TIFFIN                OH            44883  \n",
       "1713105    CUYAHOGA FALLS                OH            44221  \n",
       "1713106      WHEELERSBURG                OH            45694  \n",
       "1713107             MASON                OH            45040  \n",
       "1713108    FREDERICKSBURG                OH            44627  \n",
       "1713109              KENT                OH            44240  \n",
       "1713110            FOWLER                OH            44418  \n",
       "1713111      NEWTON FALLS                OH            44444  \n",
       "1713112          FRANKLIN                OH            45005  \n",
       "1713113             AKRON                OH            44333  \n",
       "1713114         BARBERTON                OH            44203  \n",
       "1713115      N BLOOMFIELD                OH            44450  \n",
       "1713116             EATON                OH            45320  \n",
       "1713117            HUDSON                OH            44236  \n",
       "1713118              STOW                OH            44224  \n",
       "1713119         BARBERTON                OH            44203  \n",
       "1713120             AKRON                OH            44310  \n",
       "1713121         TWINSBURG                OH            44087  \n",
       "1713122            AURORA                OH            44202  \n",
       "1713123            AURORA                OH            44202  \n",
       "1713124         BLOOMDALE                OH            44817  \n",
       "1713125        MARYSVILLE                OH            43040  \n",
       "1713126           HASKINS                OH            43525  \n",
       "1713127  NEW PHILADELPHIA                OH            44663  \n",
       "1713128         UNIONTOWN                OH            44685  \n",
       "1713129        LOUISVILLE                OH            44641  \n",
       "\n",
       "[7825385 rows x 5 columns]"
      ]
     },
     "execution_count": 115,
     "metadata": {},
     "output_type": "execute_result"
    }
   ],
   "source": [
    "oh_df.loc[:,'RESIDENTIAL_ADDRESS1':'RESIDENTIAL_ZIP']"
   ]
  },
  {
   "cell_type": "code",
   "execution_count": 116,
   "metadata": {},
   "outputs": [],
   "source": [
    "test_df=oh_df.head()"
   ]
  },
  {
   "cell_type": "code",
   "execution_count": 117,
   "metadata": {},
   "outputs": [
    {
     "name": "stdout",
     "output_type": "stream",
     "text": [
      "    SOS_VOTERID  COUNTY_NUMBER  COUNTY_ID  LAST_NAME FIRST_NAME MIDDLE_NAME  \\\n",
      "0  OH0019419095              6      40055    KITCHEN     LESLIE           L   \n",
      "1  OH0019489283              9     482703      GRACE     AMANDA       LEIGH   \n",
      "2  OH0015384921             18    2044314     CARNER    TIFFANY           J   \n",
      "3  OH0020115764             13    6100757  VAN SCYOC      SUSAN           L   \n",
      "4  OH0015058130             18    1674659      BERRY     NICOLE           L   \n",
      "\n",
      "  SUFFIX DATE_OF_BIRTH REGISTRATION_DATE VOTER_STATUS  ... GENERAL-06/07/2016  \\\n",
      "0   None    1969-12-26        2008-01-09       ACTIVE  ...               None   \n",
      "1   None    1974-11-09        2008-02-01       ACTIVE  ...               None   \n",
      "2   None    1971-08-28        2016-05-25       ACTIVE  ...               None   \n",
      "3   None    1973-08-01        2008-09-18       ACTIVE  ...               None   \n",
      "4   None    1975-04-25        2009-08-19       ACTIVE  ...               None   \n",
      "\n",
      "  PRIMARY-09/13/2016 GENERAL-11/08/2016 PRIMARY-05/02/2017 PRIMARY-09/12/2017  \\\n",
      "0               None               None               None               None   \n",
      "1               None                  X               None               None   \n",
      "2               None               None               None               None   \n",
      "3               None                  X               None               None   \n",
      "4               None                  X               None                  X   \n",
      "\n",
      "   GENERAL-11/07/2017  PRIMARY-05/08/2018  GENERAL-08/07/2018  \\\n",
      "0                None                None                None   \n",
      "1                None                None                None   \n",
      "2                None                None                None   \n",
      "3                None                None                None   \n",
      "4                None                None                None   \n",
      "\n",
      "   GENERAL-11/06/2018 PRIMARY-05/07/2019  \n",
      "0                   X               None  \n",
      "1                   X               None  \n",
      "2                None               None  \n",
      "3                None               None  \n",
      "4                   X               None  \n",
      "\n",
      "[5 rows x 106 columns]\n"
     ]
    }
   ],
   "source": [
    "print(test_df)"
   ]
  },
  {
   "cell_type": "code",
   "execution_count": 118,
   "metadata": {},
   "outputs": [
    {
     "data": {
      "text/plain": [
       "(7825385, 106)"
      ]
     },
     "execution_count": 118,
     "metadata": {},
     "output_type": "execute_result"
    }
   ],
   "source": [
    "oh_df.shape"
   ]
  },
  {
   "cell_type": "code",
   "execution_count": 119,
   "metadata": {},
   "outputs": [],
   "source": [
    "oh_df['test']=oh_df['RESIDENTIAL_ADDRESS1']+' '+oh_df['RESIDENTIAL_CITY']+' '+oh_df['RESIDENTIAL_STATE']+' '+oh_df['RESIDENTIAL_ZIP'].map(str)"
   ]
  },
  {
   "cell_type": "code",
   "execution_count": 120,
   "metadata": {},
   "outputs": [],
   "source": [
    "oh_df.drop_duplicates(subset=['test'],keep='first',inplace=True)"
   ]
  },
  {
   "cell_type": "code",
   "execution_count": 121,
   "metadata": {},
   "outputs": [
    {
     "data": {
      "text/plain": [
       "(3681982, 107)"
      ]
     },
     "execution_count": 121,
     "metadata": {},
     "output_type": "execute_result"
    }
   ],
   "source": [
    "oh_df.shape"
   ]
  },
  {
   "cell_type": "code",
   "execution_count": 122,
   "metadata": {},
   "outputs": [
    {
     "data": {
      "image/png": "[encoded data removed]",
      "text/plain": [
       "<Figure size 432x288 with 1 Axes>"
      ]
     },
     "metadata": {
      "needs_background": "light"
     },
     "output_type": "display_data"
    }
   ],
   "source": [
    "general_n=oh_df[general_list].notnull().sum(axis=1)\n",
    "seaborn.distplot(general_n,bins=6,kde=False, rug=True);"
   ]
  },
  {
   "cell_type": "code",
   "execution_count": 123,
   "metadata": {},
   "outputs": [
    {
     "data": {
      "image/png": "[encoded data removed]",
      "text/plain": [
       "<Figure size 432x288 with 1 Axes>"
      ]
     },
     "metadata": {
      "needs_background": "light"
     },
     "output_type": "display_data"
    }
   ],
   "source": [
    "seaborn.distplot(general_n,bins=21,kde=False, rug=True);"
   ]
  },
  {
   "cell_type": "code",
   "execution_count": 124,
   "metadata": {},
   "outputs": [
    {
     "data": {
      "text/plain": [
       "23"
      ]
     },
     "execution_count": 124,
     "metadata": {},
     "output_type": "execute_result"
    }
   ],
   "source": [
    "len(general_list)"
   ]
  },
  {
   "cell_type": "code",
   "execution_count": 125,
   "metadata": {},
   "outputs": [
    {
     "name": "stdout",
     "output_type": "stream",
     "text": [
      "['GENERAL-11/07/2000', 'GENERAL-11/06/2001', 'GENERAL-11/05/2002', 'GENERAL-11/04/2003', 'GENERAL-11/02/2004', 'GENERAL-11/08/2005', 'GENERAL-11/07/2006', 'GENERAL-11/06/2007', 'GENERAL-12/11/2007', 'GENERAL-11/04/2008', 'GENERAL-11/18/2008', 'GENERAL-11/03/2009', 'GENERAL-11/02/2010', 'GENERAL-11/08/2011', 'GENERAL-11/06/2012', 'GENERAL-11/05/2013', 'GENERAL-11/04/2014', 'GENERAL-11/03/2015', 'GENERAL-06/07/2016', 'GENERAL-11/08/2016', 'GENERAL-11/07/2017', 'GENERAL-08/07/2018', 'GENERAL-11/06/2018']\n"
     ]
    }
   ],
   "source": [
    "print(general_list)"
   ]
  },
  {
   "cell_type": "code",
   "execution_count": 126,
   "metadata": {},
   "outputs": [
    {
     "data": {
      "text/plain": [
       "5"
      ]
     },
     "execution_count": 126,
     "metadata": {},
     "output_type": "execute_result"
    }
   ],
   "source": [
    "presidential_list=['GENERAL-11/07/2000','GENERAL-11/02/2004','GENERAL-11/04/2008','GENERAL-11/06/2012','GENERAL-11/08/2016']\n",
    "len(presidential_list)"
   ]
  },
  {
   "cell_type": "code",
   "execution_count": 127,
   "metadata": {},
   "outputs": [
    {
     "data": {
      "image/png": "[encoded data removed]",
      "text/plain": [
       "<Figure size 432x288 with 1 Axes>"
      ]
     },
     "metadata": {
      "needs_background": "light"
     },
     "output_type": "display_data"
    }
   ],
   "source": [
    "presidential_n=oh_df[presidential_list].notnull().sum(axis=1)\n",
    "seaborn.distplot(presidential_n,bins=5,kde=False, rug=True);"
   ]
  },
  {
   "cell_type": "code",
   "execution_count": 128,
   "metadata": {},
   "outputs": [
    {
     "data": {
      "text/plain": [
       "0    PRECINCT ST. MARYS 3A\n",
       "1                 MONROE 2\n",
       "2           CLEVELAND-02-Q\n",
       "3         MIAMI TOWNSHIP X\n",
       "4           CLEVELAND-01-E\n",
       "Name: PRECINCT_NAME, dtype: object"
      ]
     },
     "execution_count": 128,
     "metadata": {},
     "output_type": "execute_result"
    }
   ],
   "source": [
    "oh_df['PRECINCT_NAME'].head()"
   ]
  },
  {
   "cell_type": "code",
   "execution_count": 129,
   "metadata": {},
   "outputs": [
    {
     "data": {
      "text/plain": [
       "0       06AAE\n",
       "1    09-P-AKN\n",
       "2    18-P-ALJ\n",
       "3    13-P-ACY\n",
       "4    18-P-AIA\n",
       "Name: PRECINCT_CODE, dtype: object"
      ]
     },
     "execution_count": 129,
     "metadata": {},
     "output_type": "execute_result"
    }
   ],
   "source": [
    "oh_df['PRECINCT_CODE'].head()"
   ]
  },
  {
   "cell_type": "code",
   "execution_count": 130,
   "metadata": {},
   "outputs": [
    {
     "data": {
      "text/plain": [
       "GENERAL-11/06/2012  GENERAL-11/08/2016\n",
       "X                   X                     2138780\n",
       "dtype: int64"
      ]
     },
     "execution_count": 130,
     "metadata": {},
     "output_type": "execute_result"
    }
   ],
   "source": [
    "oh_df.groupby(['GENERAL-11/06/2012','GENERAL-11/08/2016']).size()"
   ]
  },
  {
   "cell_type": "code",
   "execution_count": 131,
   "metadata": {},
   "outputs": [
    {
     "data": {
      "text/plain": [
       "GENERAL-11/06/2012  GENERAL-11/08/2016\n",
       "-1                  -1                     773260\n",
       "                    X                      466904\n",
       "X                   -1                     303038\n",
       "                    X                     2138780\n",
       "dtype: int64"
      ]
     },
     "execution_count": 131,
     "metadata": {},
     "output_type": "execute_result"
    }
   ],
   "source": [
    "oh_df.fillna('-1').groupby(['GENERAL-11/06/2012','GENERAL-11/08/2016']).size()"
   ]
  },
  {
   "cell_type": "code",
   "execution_count": 132,
   "metadata": {},
   "outputs": [],
   "source": [
    "grouped=oh_df.groupby(['STATE_REPRESENTATIVE_DISTRICT','PRECINCT_NAME'])"
   ]
  },
  {
   "cell_type": "code",
   "execution_count": 133,
   "metadata": {},
   "outputs": [
    {
     "data": {
      "text/plain": [
       "STATE_REPRESENTATIVE_DISTRICT  PRECINCT_NAME                  \n",
       "1                              BAUGHMAN TWP 1                     377\n",
       "                               BAUGHMAN TWP 2                     476\n",
       "                               CANAAN TWP 1                       397\n",
       "                               CANAAN TWP 2 CRESTON               438\n",
       "                               CANAAN TWP 3                       266\n",
       "                               CHESTER TWP 1                      467\n",
       "                               CHESTER TWP 2                      235\n",
       "                               CHIPPEWA TWP 1                     406\n",
       "                               CHIPPEWA TWP 2                     403\n",
       "                               CHIPPEWA TWP 3                     315\n",
       "                               CHIPPEWA TWP 4 DOY/TOWN            444\n",
       "                               CHIPPEWA TWP 5 DOY/TOWN            354\n",
       "                               CHIPPEWA TWP 6                     380\n",
       "                               CLINTON TWP 1                      408\n",
       "                               CLINTON TWP 2 SHREVE               274\n",
       "                               CONGRESS TWP 1 W SALEM             213\n",
       "                               CONGRESS TWP 2                     388\n",
       "                               CONGRESS TWP 3                     260\n",
       "                               EAST UNION TWP 1                   293\n",
       "                               EAST UNION TWP 2                   131\n",
       "                               EAST UNION TWP 3 APL CRK           277\n",
       "                               EAST UNION TWP 4                   341\n",
       "                               FRANKLIN TWP 1                     369\n",
       "                               FRANKLIN TWP 2                     387\n",
       "                               GREEN TWP 1                        413\n",
       "                               GREEN TWP 2                        407\n",
       "                               GREEN TWP 3 SMITHVILLE             341\n",
       "                               MILTON TWP 1                       344\n",
       "                               MILTON TWP 2                       328\n",
       "                               ORRVILLE CITY 1                    345\n",
       "                                                                 ... \n",
       "99                             PRECINCT LENOX TWP. 2              164\n",
       "                               PRECINCT MONROE TWP. 1             259\n",
       "                               PRECINCT MONROE TWP. 2             234\n",
       "                               PRECINCT MONTVILLE TWP A           292\n",
       "                               PRECINCT MONTVILLE TWP B           267\n",
       "                               PRECINCT MORGAN TWP.               212\n",
       "                               PRECINCT N KINGS VILL 1            277\n",
       "                               PRECINCT N KINGS VILL 2            354\n",
       "                               PRECINCT N KINGS VILL 3            126\n",
       "                               PRECINCT NEW LYME TWP.             254\n",
       "                               PRECINCT PIERPONT TWP.             261\n",
       "                               PRECINCT PLYMOUTH TWP. 1           190\n",
       "                               PRECINCT PLYMOUTH TWP. 2           365\n",
       "                               PRECINCT RICHMOND TWP.             208\n",
       "                               PRECINCT ROAMING SHORES VILLAGE    431\n",
       "                               PRECINCT ROCK CREEK VILLAGE         98\n",
       "                               PRECINCT ROME TWP.                 234\n",
       "                               PRECINCT SAYBROOK TWP. 1           164\n",
       "                               PRECINCT SAYBROOK TWP. 2           141\n",
       "                               PRECINCT SAYBROOK TWP. 3           194\n",
       "                               PRECINCT SAYBROOK TWP. 4           216\n",
       "                               PRECINCT SAYBROOK TWP. 5           187\n",
       "                               PRECINCT SAYBROOK TWP. 6           299\n",
       "                               PRECINCT SAYBROOK TWP. 7           174\n",
       "                               PRECINCT SAYBROOK TWP. 8           152\n",
       "                               PRECINCT SHEFFIELD TWP. 1          163\n",
       "                               PRECINCT SHEFFIELD TWP. 2          231\n",
       "                               PRECINCT THOMPSON TWP A            283\n",
       "                               PRECINCT THOMPSON TWP B            256\n",
       "                               PRECINCT TRUMBULL TWP.             377\n",
       "Name: GENERAL-11/08/2016, Length: 9061, dtype: int64"
      ]
     },
     "execution_count": 133,
     "metadata": {},
     "output_type": "execute_result"
    }
   ],
   "source": [
    "grouped['GENERAL-11/08/2016'].count()"
   ]
  },
  {
   "cell_type": "code",
   "execution_count": 134,
   "metadata": {},
   "outputs": [],
   "source": [
    "g1 = grouped['GENERAL-11/08/2016'].count().reset_index()"
   ]
  },
  {
   "cell_type": "code",
   "execution_count": 135,
   "metadata": {},
   "outputs": [
    {
     "data": {
      "text/html": [
       "<div>\n",
       "<style scoped>\n",
       "    .dataframe tbody tr th:only-of-type {\n",
       "        vertical-align: middle;\n",
       "    }\n",
       "\n",
       "    .dataframe tbody tr th {\n",
       "        vertical-align: top;\n",
       "    }\n",
       "\n",
       "    .dataframe thead th {\n",
       "        text-align: right;\n",
       "    }\n",
       "</style>\n",
       "<table border=\"1\" class=\"dataframe\">\n",
       "  <thead>\n",
       "    <tr style=\"text-align: right;\">\n",
       "      <th></th>\n",
       "      <th>STATE_REPRESENTATIVE_DISTRICT</th>\n",
       "      <th>PRECINCT_NAME</th>\n",
       "      <th>GENERAL-11/08/2016</th>\n",
       "    </tr>\n",
       "  </thead>\n",
       "  <tbody>\n",
       "    <tr>\n",
       "      <th>0</th>\n",
       "      <td>1</td>\n",
       "      <td>BAUGHMAN TWP 1</td>\n",
       "      <td>377</td>\n",
       "    </tr>\n",
       "    <tr>\n",
       "      <th>1</th>\n",
       "      <td>1</td>\n",
       "      <td>BAUGHMAN TWP 2</td>\n",
       "      <td>476</td>\n",
       "    </tr>\n",
       "    <tr>\n",
       "      <th>2</th>\n",
       "      <td>1</td>\n",
       "      <td>CANAAN TWP 1</td>\n",
       "      <td>397</td>\n",
       "    </tr>\n",
       "    <tr>\n",
       "      <th>3</th>\n",
       "      <td>1</td>\n",
       "      <td>CANAAN TWP 2 CRESTON</td>\n",
       "      <td>438</td>\n",
       "    </tr>\n",
       "    <tr>\n",
       "      <th>4</th>\n",
       "      <td>1</td>\n",
       "      <td>CANAAN TWP 3</td>\n",
       "      <td>266</td>\n",
       "    </tr>\n",
       "  </tbody>\n",
       "</table>\n",
       "</div>"
      ],
      "text/plain": [
       "   STATE_REPRESENTATIVE_DISTRICT         PRECINCT_NAME  GENERAL-11/08/2016\n",
       "0                              1        BAUGHMAN TWP 1                 377\n",
       "1                              1        BAUGHMAN TWP 2                 476\n",
       "2                              1          CANAAN TWP 1                 397\n",
       "3                              1  CANAAN TWP 2 CRESTON                 438\n",
       "4                              1          CANAAN TWP 3                 266"
      ]
     },
     "execution_count": 135,
     "metadata": {},
     "output_type": "execute_result"
    }
   ],
   "source": [
    "g1.head()"
   ]
  },
  {
   "cell_type": "code",
   "execution_count": 136,
   "metadata": {},
   "outputs": [],
   "source": [
    "results_prec=g1.groupby(['STATE_REPRESENTATIVE_DISTRICT']).max()"
   ]
  },
  {
   "cell_type": "code",
   "execution_count": 137,
   "metadata": {},
   "outputs": [
    {
     "data": {
      "text/plain": [
       "pandas.core.frame.DataFrame"
      ]
     },
     "execution_count": 137,
     "metadata": {},
     "output_type": "execute_result"
    }
   ],
   "source": [
    "type(results_prec)"
   ]
  },
  {
   "cell_type": "raw",
   "metadata": {},
   "source": [
    "results_prec=results_prec.drop(columns=['GENERAL-11/08/2016'])"
   ]
  },
  {
   "cell_type": "code",
   "execution_count": 138,
   "metadata": {},
   "outputs": [],
   "source": [
    "result_dic=results_prec.to_dict()"
   ]
  },
  {
   "cell_type": "code",
   "execution_count": 139,
   "metadata": {},
   "outputs": [
    {
     "name": "stdout",
     "output_type": "stream",
     "text": [
      "{'PRECINCT_NAME': {1: 'WOOSTER TWP 3', 2: 'WORTH B', 3: 'WESTON TWP WILLOW', 4: 'SUGAR CREEK', 5: 'PRECINCT YELLOW CREEK TWP WEST', 6: 'WALTON HILLS-00-B', 7: 'STRONGSVILLE-04-G', 8: 'WOODMERE-00-A', 9: 'UNIVERSITY HEIGHTS-00-I', 10: 'CLEVELAND-14-O', 11: 'NEWBURGH HEIGHTS-00-A', 12: 'WARRENSVILLE HTS-07-B', 13: 'LINNDALE-00-A', 14: 'PARMA HEIGHTS-04-C', 15: 'PARMA-09-F', 16: 'WESTLAKE-06-D', 17: 'VALLEYVIEW-A', 18: 'GRANDVIEW-F', 19: 'WESTERVILLE 5-E', 20: 'WHITEHALL 4-C', 21: 'WORTH 4-D', 22: 'SHARON-A', 23: 'URBANCREST-A', 24: 'WASHINGTON-A', 25: 'MIFFLIN-B', 26: 'WHITEHALL 3-C', 27: 'TERRACE PARK B', 28: 'SYCAMORE N', 29: 'WHITEWATER C', 30: 'GREEN Z', 31: 'ST BERNARD 4-A', 32: 'SPRINGFIELD K', 33: 'WYOMING E', 34: 'CUY FALLS 8-B', 35: 'SPRINGFIELD TWP A', 36: 'TALLMADGE 4-D', 37: 'TWINSBURG TWP C', 38: 'TUSCARAWAS 4', 39: 'TROTWOOD 4-C', 40: 'VANDALIA-J', 41: 'RIVERSIDE-L', 42: 'WASHINGTON TWP X', 43: 'TROTWOOD 4-D', 44: 'PRECINCT TOLEDO 8H', 45: 'PRECINCT WASHINGTON 2', 46: 'PRECINCT TOLEDO 7J', 47: 'WAUSEON TWO', 48: 'PLAIN 9', 49: 'TUSCARAWAS 2', 50: 'WASHINGTON 3', 51: 'ST CLAIR TWP 5', 52: 'WEST CHESTER TWP 9', 53: 'WAYNE TWP 5', 54: 'UNION TWP A', 55: 'PRECINCT SHEFFIELD VILL #3', 56: 'PRECINCT VERMILION CITY 5-B', 57: 'WILLARD 4', 58: 'PRECINCT YGN7 G', 59: 'PRECINCT WNV  1', 60: 'PRECINCT WILLOWICK CITY 3C', 61: 'PRECINCT WILLOUGHBY HILLS CITY GG', 62: 'WAYNESVILLE VILLAGE B', 63: 'WEATHERSFIELD TWP J', 64: 'WEST FARMINGTON VILLAGE', 65: 'WAYNE TOWNSHIP C', 66: 'WILLIAMSBURG VILLAGE C', 67: 'PRECINCT TROY B', 68: 'PRECINCT WESTERVILLE CITY I', 69: 'PRECINCT YORK TP A', 70: 'PRECINCT YORK TP C', 71: 'WASHINGTON TOWNSHIP', 72: 'WHITE EYES / ADAMS', 73: 'YEL SPG VLG 443', 74: 'XENIA TWP 358', 75: 'PRECINCT SUGAR BUSH KNOLLS', 76: 'PRECINCT WINDHAM VIL B', 77: 'WALNUT D', 78: 'WASHINGTON-SOUTH', 79: 'PRECINCT T-8', 80: 'PRECINCT WEST MILTON C', 81: 'YORK', 82: 'WASHINGTON TWP', 83: 'WASHINGTON', 84: 'WEST JEFFERSON', 85: 'PRECINCT ZANE', 86: 'YORK', 87: 'WHETSTONE TWP SOUTH', 88: 'YORK B', 89: 'SALEM 5', 90: 'WINCHESTER VILLAGE', 91: 'WILSON', 92: 'WAYNE TOWNSHIP', 93: 'WALNUT TWP', 94: 'YORK TOWNSHIP', 95: 'WAYNE', 96: 'PRECINCT YORKVILLE VILLAGE', 97: 'PRECINCT ZANESVILLE 6-C', 98: 'PRECINCT YORK TOWNSHIP', 99: 'PRECINCT TRUMBULL TWP.'}, 'GENERAL-11/08/2016': {1: 522, 2: 584, 3: 659, 4: 451, 5: 476, 6: 602, 7: 649, 8: 523, 9: 463, 10: 350, 11: 456, 12: 486, 13: 444, 14: 483, 15: 486, 16: 516, 17: 537, 18: 504, 19: 611, 20: 597, 21: 572, 22: 624, 23: 520, 24: 573, 25: 463, 26: 552, 27: 519, 28: 547, 29: 580, 30: 583, 31: 510, 32: 446, 33: 610, 34: 439, 35: 402, 36: 407, 37: 478, 38: 534, 39: 466, 40: 583, 41: 608, 42: 578, 43: 578, 44: 489, 45: 422, 46: 533, 47: 639, 48: 531, 49: 543, 50: 520, 51: 585, 52: 681, 53: 691, 54: 467, 55: 553, 56: 546, 57: 542, 58: 463, 59: 480, 60: 505, 61: 570, 62: 512, 63: 485, 64: 451, 65: 538, 66: 501, 67: 520, 68: 497, 69: 554, 70: 527, 71: 634, 72: 604, 73: 637, 74: 611, 75: 539, 76: 481, 77: 489, 78: 486, 79: 656, 80: 524, 81: 573, 82: 495, 83: 624, 84: 544, 85: 619, 86: 511, 87: 568, 88: 430, 89: 480, 90: 451, 91: 518, 92: 448, 93: 449, 94: 538, 95: 536, 96: 492, 97: 540, 98: 518, 99: 459}}\n"
     ]
    }
   ],
   "source": [
    "print(result_dic)"
   ]
  },
  {
   "cell_type": "code",
   "execution_count": 140,
   "metadata": {},
   "outputs": [
    {
     "name": "stdout",
     "output_type": "stream",
     "text": [
      "                                                PRECINCT_NAME  \\\n",
      "STATE_REPRESENTATIVE_DISTRICT                                   \n",
      "1                                               WOOSTER TWP 3   \n",
      "2                                                     WORTH B   \n",
      "3                                           WESTON TWP WILLOW   \n",
      "4                                                 SUGAR CREEK   \n",
      "5                              PRECINCT YELLOW CREEK TWP WEST   \n",
      "6                                           WALTON HILLS-00-B   \n",
      "7                                           STRONGSVILLE-04-G   \n",
      "8                                               WOODMERE-00-A   \n",
      "9                                     UNIVERSITY HEIGHTS-00-I   \n",
      "10                                             CLEVELAND-14-O   \n",
      "11                                      NEWBURGH HEIGHTS-00-A   \n",
      "12                                      WARRENSVILLE HTS-07-B   \n",
      "13                                              LINNDALE-00-A   \n",
      "14                                         PARMA HEIGHTS-04-C   \n",
      "15                                                 PARMA-09-F   \n",
      "16                                              WESTLAKE-06-D   \n",
      "17                                               VALLEYVIEW-A   \n",
      "18                                                GRANDVIEW-F   \n",
      "19                                            WESTERVILLE 5-E   \n",
      "20                                              WHITEHALL 4-C   \n",
      "21                                                  WORTH 4-D   \n",
      "22                                                   SHARON-A   \n",
      "23                                               URBANCREST-A   \n",
      "24                                               WASHINGTON-A   \n",
      "25                                                  MIFFLIN-B   \n",
      "26                                              WHITEHALL 3-C   \n",
      "27                                             TERRACE PARK B   \n",
      "28                                                 SYCAMORE N   \n",
      "29                                               WHITEWATER C   \n",
      "30                                                    GREEN Z   \n",
      "...                                                       ...   \n",
      "70                                         PRECINCT YORK TP C   \n",
      "71                                        WASHINGTON TOWNSHIP   \n",
      "72                                         WHITE EYES / ADAMS   \n",
      "73                                            YEL SPG VLG 443   \n",
      "74                                              XENIA TWP 358   \n",
      "75                                 PRECINCT SUGAR BUSH KNOLLS   \n",
      "76                                     PRECINCT WINDHAM VIL B   \n",
      "77                                                   WALNUT D   \n",
      "78                                           WASHINGTON-SOUTH   \n",
      "79                                               PRECINCT T-8   \n",
      "80                                     PRECINCT WEST MILTON C   \n",
      "81                                                       YORK   \n",
      "82                                             WASHINGTON TWP   \n",
      "83                                                 WASHINGTON   \n",
      "84                                             WEST JEFFERSON   \n",
      "85                                              PRECINCT ZANE   \n",
      "86                                                       YORK   \n",
      "87                                        WHETSTONE TWP SOUTH   \n",
      "88                                                     YORK B   \n",
      "89                                                    SALEM 5   \n",
      "90                                         WINCHESTER VILLAGE   \n",
      "91                                                     WILSON   \n",
      "92                                             WAYNE TOWNSHIP   \n",
      "93                                                 WALNUT TWP   \n",
      "94                                              YORK TOWNSHIP   \n",
      "95                                                      WAYNE   \n",
      "96                                 PRECINCT YORKVILLE VILLAGE   \n",
      "97                                    PRECINCT ZANESVILLE 6-C   \n",
      "98                                     PRECINCT YORK TOWNSHIP   \n",
      "99                                     PRECINCT TRUMBULL TWP.   \n",
      "\n",
      "                               GENERAL-11/08/2016  \n",
      "STATE_REPRESENTATIVE_DISTRICT                      \n",
      "1                                             522  \n",
      "2                                             584  \n",
      "3                                             659  \n",
      "4                                             451  \n",
      "5                                             476  \n",
      "6                                             602  \n",
      "7                                             649  \n",
      "8                                             523  \n",
      "9                                             463  \n",
      "10                                            350  \n",
      "11                                            456  \n",
      "12                                            486  \n",
      "13                                            444  \n",
      "14                                            483  \n",
      "15                                            486  \n",
      "16                                            516  \n",
      "17                                            537  \n",
      "18                                            504  \n",
      "19                                            611  \n",
      "20                                            597  \n",
      "21                                            572  \n",
      "22                                            624  \n",
      "23                                            520  \n",
      "24                                            573  \n",
      "25                                            463  \n",
      "26                                            552  \n",
      "27                                            519  \n",
      "28                                            547  \n",
      "29                                            580  \n",
      "30                                            583  \n",
      "...                                           ...  \n",
      "70                                            527  \n",
      "71                                            634  \n",
      "72                                            604  \n",
      "73                                            637  \n",
      "74                                            611  \n",
      "75                                            539  \n",
      "76                                            481  \n",
      "77                                            489  \n",
      "78                                            486  \n",
      "79                                            656  \n",
      "80                                            524  \n",
      "81                                            573  \n",
      "82                                            495  \n",
      "83                                            624  \n",
      "84                                            544  \n",
      "85                                            619  \n",
      "86                                            511  \n",
      "87                                            568  \n",
      "88                                            430  \n",
      "89                                            480  \n",
      "90                                            451  \n",
      "91                                            518  \n",
      "92                                            448  \n",
      "93                                            449  \n",
      "94                                            538  \n",
      "95                                            536  \n",
      "96                                            492  \n",
      "97                                            540  \n",
      "98                                            518  \n",
      "99                                            459  \n",
      "\n",
      "[99 rows x 2 columns]\n"
     ]
    }
   ],
   "source": [
    "print(results_prec)"
   ]
  },
  {
   "cell_type": "code",
   "execution_count": 141,
   "metadata": {},
   "outputs": [],
   "source": [
    "results_prec=results_prec.drop(columns=['GENERAL-11/08/2016'])"
   ]
  },
  {
   "cell_type": "code",
   "execution_count": 146,
   "metadata": {},
   "outputs": [
    {
     "name": "stdout",
     "output_type": "stream",
     "text": [
      "                                                PRECINCT_NAME\n",
      "STATE_REPRESENTATIVE_DISTRICT                                \n",
      "1                                               WOOSTER TWP 3\n",
      "2                                                     WORTH B\n",
      "3                                           WESTON TWP WILLOW\n",
      "4                                                 SUGAR CREEK\n",
      "5                              PRECINCT YELLOW CREEK TWP WEST\n",
      "6                                           WALTON HILLS-00-B\n",
      "7                                           STRONGSVILLE-04-G\n",
      "8                                               WOODMERE-00-A\n",
      "9                                     UNIVERSITY HEIGHTS-00-I\n",
      "10                                             CLEVELAND-14-O\n",
      "11                                      NEWBURGH HEIGHTS-00-A\n",
      "12                                      WARRENSVILLE HTS-07-B\n",
      "13                                              LINNDALE-00-A\n",
      "14                                         PARMA HEIGHTS-04-C\n",
      "15                                                 PARMA-09-F\n",
      "16                                              WESTLAKE-06-D\n",
      "17                                               VALLEYVIEW-A\n",
      "18                                                GRANDVIEW-F\n",
      "19                                            WESTERVILLE 5-E\n",
      "20                                              WHITEHALL 4-C\n",
      "21                                                  WORTH 4-D\n",
      "22                                                   SHARON-A\n",
      "23                                               URBANCREST-A\n",
      "24                                               WASHINGTON-A\n",
      "25                                                  MIFFLIN-B\n",
      "26                                              WHITEHALL 3-C\n",
      "27                                             TERRACE PARK B\n",
      "28                                                 SYCAMORE N\n",
      "29                                               WHITEWATER C\n",
      "30                                                    GREEN Z\n",
      "...                                                       ...\n",
      "70                                         PRECINCT YORK TP C\n",
      "71                                        WASHINGTON TOWNSHIP\n",
      "72                                         WHITE EYES / ADAMS\n",
      "73                                            YEL SPG VLG 443\n",
      "74                                              XENIA TWP 358\n",
      "75                                 PRECINCT SUGAR BUSH KNOLLS\n",
      "76                                     PRECINCT WINDHAM VIL B\n",
      "77                                                   WALNUT D\n",
      "78                                           WASHINGTON-SOUTH\n",
      "79                                               PRECINCT T-8\n",
      "80                                     PRECINCT WEST MILTON C\n",
      "81                                                       YORK\n",
      "82                                             WASHINGTON TWP\n",
      "83                                                 WASHINGTON\n",
      "84                                             WEST JEFFERSON\n",
      "85                                              PRECINCT ZANE\n",
      "86                                                       YORK\n",
      "87                                        WHETSTONE TWP SOUTH\n",
      "88                                                     YORK B\n",
      "89                                                    SALEM 5\n",
      "90                                         WINCHESTER VILLAGE\n",
      "91                                                     WILSON\n",
      "92                                             WAYNE TOWNSHIP\n",
      "93                                                 WALNUT TWP\n",
      "94                                              YORK TOWNSHIP\n",
      "95                                                      WAYNE\n",
      "96                                 PRECINCT YORKVILLE VILLAGE\n",
      "97                                    PRECINCT ZANESVILLE 6-C\n",
      "98                                     PRECINCT YORK TOWNSHIP\n",
      "99                                     PRECINCT TRUMBULL TWP.\n",
      "\n",
      "[99 rows x 1 columns]\n"
     ]
    }
   ],
   "source": [
    "print(results_prec)"
   ]
  },
  {
   "cell_type": "code",
   "execution_count": 149,
   "metadata": {},
   "outputs": [
    {
     "data": {
      "text/plain": [
       "pandas.core.frame.DataFrame"
      ]
     },
     "execution_count": 149,
     "metadata": {},
     "output_type": "execute_result"
    }
   ],
   "source": [
    "type(results_prec)"
   ]
  },
  {
   "cell_type": "raw",
   "metadata": {},
   "source": []
  },
  {
   "cell_type": "code",
   "execution_count": 152,
   "metadata": {},
   "outputs": [],
   "source": [
    "new_dict=results_prec.to_dict()['PRECINCT_NAME']"
   ]
  },
  {
   "cell_type": "code",
   "execution_count": 155,
   "metadata": {},
   "outputs": [
    {
     "data": {
      "text/plain": [
       "'WORTH B'"
      ]
     },
     "execution_count": 155,
     "metadata": {},
     "output_type": "execute_result"
    }
   ],
   "source": [
    "new_dict[2]"
   ]
  },
  {
   "cell_type": "code",
   "execution_count": 156,
   "metadata": {},
   "outputs": [],
   "source": [
    "import pickle"
   ]
  },
  {
   "cell_type": "code",
   "execution_count": 157,
   "metadata": {},
   "outputs": [],
   "source": [
    "with open('precinct_dict.pickle', 'wb') as handle:\n",
    "    pickle.dump(new_dict, handle, protocol=pickle.HIGHEST_PROTOCOL)"
   ]
  },
  {
   "cell_type": "code",
   "execution_count": 159,
   "metadata": {},
   "outputs": [
    {
     "name": "stdout",
     "output_type": "stream",
     "text": [
      "{1: 'WOOSTER TWP 3', 2: 'WORTH B', 3: 'WESTON TWP WILLOW', 4: 'SUGAR CREEK', 5: 'PRECINCT YELLOW CREEK TWP WEST', 6: 'WALTON HILLS-00-B', 7: 'STRONGSVILLE-04-G', 8: 'WOODMERE-00-A', 9: 'UNIVERSITY HEIGHTS-00-I', 10: 'CLEVELAND-14-O', 11: 'NEWBURGH HEIGHTS-00-A', 12: 'WARRENSVILLE HTS-07-B', 13: 'LINNDALE-00-A', 14: 'PARMA HEIGHTS-04-C', 15: 'PARMA-09-F', 16: 'WESTLAKE-06-D', 17: 'VALLEYVIEW-A', 18: 'GRANDVIEW-F', 19: 'WESTERVILLE 5-E', 20: 'WHITEHALL 4-C', 21: 'WORTH 4-D', 22: 'SHARON-A', 23: 'URBANCREST-A', 24: 'WASHINGTON-A', 25: 'MIFFLIN-B', 26: 'WHITEHALL 3-C', 27: 'TERRACE PARK B', 28: 'SYCAMORE N', 29: 'WHITEWATER C', 30: 'GREEN Z', 31: 'ST BERNARD 4-A', 32: 'SPRINGFIELD K', 33: 'WYOMING E', 34: 'CUY FALLS 8-B', 35: 'SPRINGFIELD TWP A', 36: 'TALLMADGE 4-D', 37: 'TWINSBURG TWP C', 38: 'TUSCARAWAS 4', 39: 'TROTWOOD 4-C', 40: 'VANDALIA-J', 41: 'RIVERSIDE-L', 42: 'WASHINGTON TWP X', 43: 'TROTWOOD 4-D', 44: 'PRECINCT TOLEDO 8H', 45: 'PRECINCT WASHINGTON 2', 46: 'PRECINCT TOLEDO 7J', 47: 'WAUSEON TWO', 48: 'PLAIN 9', 49: 'TUSCARAWAS 2', 50: 'WASHINGTON 3', 51: 'ST CLAIR TWP 5', 52: 'WEST CHESTER TWP 9', 53: 'WAYNE TWP 5', 54: 'UNION TWP A', 55: 'PRECINCT SHEFFIELD VILL #3', 56: 'PRECINCT VERMILION CITY 5-B', 57: 'WILLARD 4', 58: 'PRECINCT YGN7 G', 59: 'PRECINCT WNV  1', 60: 'PRECINCT WILLOWICK CITY 3C', 61: 'PRECINCT WILLOUGHBY HILLS CITY GG', 62: 'WAYNESVILLE VILLAGE B', 63: 'WEATHERSFIELD TWP J', 64: 'WEST FARMINGTON VILLAGE', 65: 'WAYNE TOWNSHIP C', 66: 'WILLIAMSBURG VILLAGE C', 67: 'PRECINCT TROY B', 68: 'PRECINCT WESTERVILLE CITY I', 69: 'PRECINCT YORK TP A', 70: 'PRECINCT YORK TP C', 71: 'WASHINGTON TOWNSHIP', 72: 'WHITE EYES / ADAMS', 73: 'YEL SPG VLG 443', 74: 'XENIA TWP 358', 75: 'PRECINCT SUGAR BUSH KNOLLS', 76: 'PRECINCT WINDHAM VIL B', 77: 'WALNUT D', 78: 'WASHINGTON-SOUTH', 79: 'PRECINCT T-8', 80: 'PRECINCT WEST MILTON C', 81: 'YORK', 82: 'WASHINGTON TWP', 83: 'WASHINGTON', 84: 'WEST JEFFERSON', 85: 'PRECINCT ZANE', 86: 'YORK', 87: 'WHETSTONE TWP SOUTH', 88: 'YORK B', 89: 'SALEM 5', 90: 'WINCHESTER VILLAGE', 91: 'WILSON', 92: 'WAYNE TOWNSHIP', 93: 'WALNUT TWP', 94: 'YORK TOWNSHIP', 95: 'WAYNE', 96: 'PRECINCT YORKVILLE VILLAGE', 97: 'PRECINCT ZANESVILLE 6-C', 98: 'PRECINCT YORK TOWNSHIP', 99: 'PRECINCT TRUMBULL TWP.'}\n"
     ]
    }
   ],
   "source": [
    "print(new_dict)"
   ]
  },
  {
   "cell_type": "code",
   "execution_count": 162,
   "metadata": {},
   "outputs": [
    {
     "data": {
      "text/plain": [
       "'WOOSTER TWP 3'"
      ]
     },
     "execution_count": 162,
     "metadata": {},
     "output_type": "execute_result"
    }
   ],
   "source": [
    "new_dict[1]"
   ]
  },
  {
   "cell_type": "code",
   "execution_count": 163,
   "metadata": {},
   "outputs": [
    {
     "data": {
      "text/plain": [
       "dict_items([(1, 'WOOSTER TWP 3'), (2, 'WORTH B'), (3, 'WESTON TWP WILLOW'), (4, 'SUGAR CREEK'), (5, 'PRECINCT YELLOW CREEK TWP WEST'), (6, 'WALTON HILLS-00-B'), (7, 'STRONGSVILLE-04-G'), (8, 'WOODMERE-00-A'), (9, 'UNIVERSITY HEIGHTS-00-I'), (10, 'CLEVELAND-14-O'), (11, 'NEWBURGH HEIGHTS-00-A'), (12, 'WARRENSVILLE HTS-07-B'), (13, 'LINNDALE-00-A'), (14, 'PARMA HEIGHTS-04-C'), (15, 'PARMA-09-F'), (16, 'WESTLAKE-06-D'), (17, 'VALLEYVIEW-A'), (18, 'GRANDVIEW-F'), (19, 'WESTERVILLE 5-E'), (20, 'WHITEHALL 4-C'), (21, 'WORTH 4-D'), (22, 'SHARON-A'), (23, 'URBANCREST-A'), (24, 'WASHINGTON-A'), (25, 'MIFFLIN-B'), (26, 'WHITEHALL 3-C'), (27, 'TERRACE PARK B'), (28, 'SYCAMORE N'), (29, 'WHITEWATER C'), (30, 'GREEN Z'), (31, 'ST BERNARD 4-A'), (32, 'SPRINGFIELD K'), (33, 'WYOMING E'), (34, 'CUY FALLS 8-B'), (35, 'SPRINGFIELD TWP A'), (36, 'TALLMADGE 4-D'), (37, 'TWINSBURG TWP C'), (38, 'TUSCARAWAS 4'), (39, 'TROTWOOD 4-C'), (40, 'VANDALIA-J'), (41, 'RIVERSIDE-L'), (42, 'WASHINGTON TWP X'), (43, 'TROTWOOD 4-D'), (44, 'PRECINCT TOLEDO 8H'), (45, 'PRECINCT WASHINGTON 2'), (46, 'PRECINCT TOLEDO 7J'), (47, 'WAUSEON TWO'), (48, 'PLAIN 9'), (49, 'TUSCARAWAS 2'), (50, 'WASHINGTON 3'), (51, 'ST CLAIR TWP 5'), (52, 'WEST CHESTER TWP 9'), (53, 'WAYNE TWP 5'), (54, 'UNION TWP A'), (55, 'PRECINCT SHEFFIELD VILL #3'), (56, 'PRECINCT VERMILION CITY 5-B'), (57, 'WILLARD 4'), (58, 'PRECINCT YGN7 G'), (59, 'PRECINCT WNV  1'), (60, 'PRECINCT WILLOWICK CITY 3C'), (61, 'PRECINCT WILLOUGHBY HILLS CITY GG'), (62, 'WAYNESVILLE VILLAGE B'), (63, 'WEATHERSFIELD TWP J'), (64, 'WEST FARMINGTON VILLAGE'), (65, 'WAYNE TOWNSHIP C'), (66, 'WILLIAMSBURG VILLAGE C'), (67, 'PRECINCT TROY B'), (68, 'PRECINCT WESTERVILLE CITY I'), (69, 'PRECINCT YORK TP A'), (70, 'PRECINCT YORK TP C'), (71, 'WASHINGTON TOWNSHIP'), (72, 'WHITE EYES / ADAMS'), (73, 'YEL SPG VLG 443'), (74, 'XENIA TWP 358'), (75, 'PRECINCT SUGAR BUSH KNOLLS'), (76, 'PRECINCT WINDHAM VIL B'), (77, 'WALNUT D'), (78, 'WASHINGTON-SOUTH'), (79, 'PRECINCT T-8'), (80, 'PRECINCT WEST MILTON C'), (81, 'YORK'), (82, 'WASHINGTON TWP'), (83, 'WASHINGTON'), (84, 'WEST JEFFERSON'), (85, 'PRECINCT ZANE'), (86, 'YORK'), (87, 'WHETSTONE TWP SOUTH'), (88, 'YORK B'), (89, 'SALEM 5'), (90, 'WINCHESTER VILLAGE'), (91, 'WILSON'), (92, 'WAYNE TOWNSHIP'), (93, 'WALNUT TWP'), (94, 'YORK TOWNSHIP'), (95, 'WAYNE'), (96, 'PRECINCT YORKVILLE VILLAGE'), (97, 'PRECINCT ZANESVILLE 6-C'), (98, 'PRECINCT YORK TOWNSHIP'), (99, 'PRECINCT TRUMBULL TWP.')])"
      ]
     },
     "execution_count": 163,
     "metadata": {},
     "output_type": "execute_result"
    }
   ],
   "source": [
    "new_dict.items()"
   ]
  },
  {
   "cell_type": "code",
   "execution_count": 164,
   "metadata": {},
   "outputs": [
    {
     "data": {
      "text/plain": [
       "'WESTON TWP WILLOW'"
      ]
     },
     "execution_count": 164,
     "metadata": {},
     "output_type": "execute_result"
    }
   ],
   "source": [
    "new_dict[3]"
   ]
  },
  {
   "cell_type": "code",
   "execution_count": null,
   "metadata": {},
   "outputs": [],
   "source": []
  }
 ],
 "metadata": {
  "kernelspec": {
   "display_name": "Python 3",
   "language": "python",
   "name": "python3"
  },
  "language_info": {
   "codemirror_mode": {
    "name": "ipython",
    "version": 3
   },
   "file_extension": ".py",
   "mimetype": "text/x-python",
   "name": "python",
   "nbconvert_exporter": "python",
   "pygments_lexer": "ipython3",
   "version": "3.7.4"
  }
 },
 "nbformat": 4,
 "nbformat_minor": 2
}
